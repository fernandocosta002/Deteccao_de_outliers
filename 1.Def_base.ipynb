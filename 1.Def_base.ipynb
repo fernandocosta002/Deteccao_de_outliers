{
 "cells": [
  {
   "cell_type": "markdown",
   "id": "8f1100c5",
   "metadata": {},
   "source": [
    "### 1. DEFINIÇÃO DA BASE DE DADOS"
   ]
  },
  {
   "cell_type": "code",
   "execution_count": 1,
   "id": "baa6dc12",
   "metadata": {},
   "outputs": [],
   "source": [
    "import pandas as pd\n",
    "import numpy as np\n",
    "import matplotlib.pyplot as plt\n",
    "import seaborn as sns"
   ]
  },
  {
   "cell_type": "markdown",
   "id": "356db36d",
   "metadata": {},
   "source": [
    "#### Base SQL 2019"
   ]
  },
  {
   "cell_type": "code",
   "execution_count": 2,
   "id": "0b957e14",
   "metadata": {},
   "outputs": [],
   "source": [
    "df = pd.read_csv(\"Base_SQL/censo_2019.csv\", sep=\";\")"
   ]
  },
  {
   "cell_type": "code",
   "execution_count": 3,
   "id": "7e300e16",
   "metadata": {},
   "outputs": [
    {
     "data": {
      "text/plain": [
       "(10366, 20)"
      ]
     },
     "execution_count": 3,
     "metadata": {},
     "output_type": "execute_result"
    }
   ],
   "source": [
    "df.shape"
   ]
  },
  {
   "cell_type": "code",
   "execution_count": 4,
   "id": "74ec0e48",
   "metadata": {},
   "outputs": [
    {
     "data": {
      "text/html": [
       "<div>\n",
       "<style scoped>\n",
       "    .dataframe tbody tr th:only-of-type {\n",
       "        vertical-align: middle;\n",
       "    }\n",
       "\n",
       "    .dataframe tbody tr th {\n",
       "        vertical-align: top;\n",
       "    }\n",
       "\n",
       "    .dataframe thead th {\n",
       "        text-align: right;\n",
       "    }\n",
       "</style>\n",
       "<table border=\"1\" class=\"dataframe\">\n",
       "  <thead>\n",
       "    <tr style=\"text-align: right;\">\n",
       "      <th></th>\n",
       "      <th>CO_UF</th>\n",
       "      <th>UF</th>\n",
       "      <th>SIG_UF</th>\n",
       "      <th>CO_MUNICIPIO</th>\n",
       "      <th>MUNICIPIO</th>\n",
       "      <th>CO_REGIAO</th>\n",
       "      <th>CO_MESORREGIAO</th>\n",
       "      <th>CO_MICRORREGIAO</th>\n",
       "      <th>CO_ENTIDADE</th>\n",
       "      <th>NO_ENTIDADE</th>\n",
       "      <th>POPULACAO_ESTIMADA</th>\n",
       "      <th>N_MATRICULA_MUN</th>\n",
       "      <th>N_MATRICULA_ENT</th>\n",
       "      <th>N_MATRICULA_INTEGRAL_ENT</th>\n",
       "      <th>N_EJA_MUN</th>\n",
       "      <th>N_EJA_ENT</th>\n",
       "      <th>PROPORCAO_MATRICULA_POPULACAO_MUN</th>\n",
       "      <th>PROPORCAO_EJA_MATRICULA_MUN</th>\n",
       "      <th>PROPORCAO_ENT_MATRICULA</th>\n",
       "      <th>PROPORCAL_INTEGRAL_ENT</th>\n",
       "    </tr>\n",
       "  </thead>\n",
       "  <tbody>\n",
       "    <tr>\n",
       "      <th>1972</th>\n",
       "      <td>50</td>\n",
       "      <td>Mato Grosso do Sul</td>\n",
       "      <td>MS</td>\n",
       "      <td>5003702</td>\n",
       "      <td>Dourados</td>\n",
       "      <td>5</td>\n",
       "      <td>5004</td>\n",
       "      <td>50010</td>\n",
       "      <td>50016172</td>\n",
       "      <td>EM SOCRATES CAMARA</td>\n",
       "      <td>222949</td>\n",
       "      <td>60883</td>\n",
       "      <td>461</td>\n",
       "      <td>11.0</td>\n",
       "      <td>31690</td>\n",
       "      <td>NaN</td>\n",
       "      <td>2.730804e+15</td>\n",
       "      <td>5.205065e+14</td>\n",
       "      <td>0.007572</td>\n",
       "      <td>0.023305</td>\n",
       "    </tr>\n",
       "    <tr>\n",
       "      <th>9535</th>\n",
       "      <td>51</td>\n",
       "      <td>Mato Grosso</td>\n",
       "      <td>MT</td>\n",
       "      <td>5108055</td>\n",
       "      <td>Terra Nova do Norte</td>\n",
       "      <td>5</td>\n",
       "      <td>5101</td>\n",
       "      <td>51003</td>\n",
       "      <td>51009340</td>\n",
       "      <td>EM VISTA ALEGRE</td>\n",
       "      <td>9667</td>\n",
       "      <td>2782</td>\n",
       "      <td>195</td>\n",
       "      <td>5.0</td>\n",
       "      <td>1560</td>\n",
       "      <td>NaN</td>\n",
       "      <td>2.877832e+16</td>\n",
       "      <td>5.607477e+16</td>\n",
       "      <td>0.070093</td>\n",
       "      <td>0.025000</td>\n",
       "    </tr>\n",
       "    <tr>\n",
       "      <th>9542</th>\n",
       "      <td>52</td>\n",
       "      <td>Goias</td>\n",
       "      <td>GO</td>\n",
       "      <td>5217302</td>\n",
       "      <td>Pirenópolis</td>\n",
       "      <td>5</td>\n",
       "      <td>5204</td>\n",
       "      <td>52012</td>\n",
       "      <td>52050386</td>\n",
       "      <td>ESC MUL MANOEL CARDOSO</td>\n",
       "      <td>24908</td>\n",
       "      <td>5989</td>\n",
       "      <td>9</td>\n",
       "      <td>0.0</td>\n",
       "      <td>2550</td>\n",
       "      <td>NaN</td>\n",
       "      <td>2.404448e+15</td>\n",
       "      <td>4.257806e+15</td>\n",
       "      <td>0.001503</td>\n",
       "      <td>0.000000</td>\n",
       "    </tr>\n",
       "  </tbody>\n",
       "</table>\n",
       "</div>"
      ],
      "text/plain": [
       "      CO_UF                  UF SIG_UF  CO_MUNICIPIO            MUNICIPIO  \\\n",
       "1972     50  Mato Grosso do Sul     MS       5003702             Dourados   \n",
       "9535     51         Mato Grosso     MT       5108055  Terra Nova do Norte   \n",
       "9542     52               Goias     GO       5217302          Pirenópolis   \n",
       "\n",
       "      CO_REGIAO  CO_MESORREGIAO  CO_MICRORREGIAO  CO_ENTIDADE  \\\n",
       "1972          5            5004            50010     50016172   \n",
       "9535          5            5101            51003     51009340   \n",
       "9542          5            5204            52012     52050386   \n",
       "\n",
       "                 NO_ENTIDADE  POPULACAO_ESTIMADA  N_MATRICULA_MUN  \\\n",
       "1972      EM SOCRATES CAMARA              222949            60883   \n",
       "9535         EM VISTA ALEGRE                9667             2782   \n",
       "9542  ESC MUL MANOEL CARDOSO               24908             5989   \n",
       "\n",
       "      N_MATRICULA_ENT  N_MATRICULA_INTEGRAL_ENT  N_EJA_MUN  N_EJA_ENT  \\\n",
       "1972              461                      11.0      31690        NaN   \n",
       "9535              195                       5.0       1560        NaN   \n",
       "9542                9                       0.0       2550        NaN   \n",
       "\n",
       "      PROPORCAO_MATRICULA_POPULACAO_MUN  PROPORCAO_EJA_MATRICULA_MUN  \\\n",
       "1972                       2.730804e+15                 5.205065e+14   \n",
       "9535                       2.877832e+16                 5.607477e+16   \n",
       "9542                       2.404448e+15                 4.257806e+15   \n",
       "\n",
       "      PROPORCAO_ENT_MATRICULA  PROPORCAL_INTEGRAL_ENT  \n",
       "1972                 0.007572                0.023305  \n",
       "9535                 0.070093                0.025000  \n",
       "9542                 0.001503                0.000000  "
      ]
     },
     "execution_count": 4,
     "metadata": {},
     "output_type": "execute_result"
    }
   ],
   "source": [
    "df.sample(3)"
   ]
  },
  {
   "cell_type": "code",
   "execution_count": 5,
   "id": "d6784b1b",
   "metadata": {},
   "outputs": [
    {
     "data": {
      "text/plain": [
       "['CO_UF',\n",
       " 'UF',\n",
       " 'SIG_UF',\n",
       " 'CO_MUNICIPIO',\n",
       " 'MUNICIPIO',\n",
       " 'CO_REGIAO',\n",
       " 'CO_MESORREGIAO',\n",
       " 'CO_MICRORREGIAO',\n",
       " 'CO_ENTIDADE',\n",
       " 'NO_ENTIDADE',\n",
       " 'POPULACAO_ESTIMADA',\n",
       " 'N_MATRICULA_MUN',\n",
       " 'N_MATRICULA_ENT',\n",
       " 'N_MATRICULA_INTEGRAL_ENT',\n",
       " 'N_EJA_MUN',\n",
       " 'N_EJA_ENT',\n",
       " 'PROPORCAO_MATRICULA_POPULACAO_MUN',\n",
       " 'PROPORCAO_EJA_MATRICULA_MUN',\n",
       " 'PROPORCAO_ENT_MATRICULA',\n",
       " 'PROPORCAL_INTEGRAL_ENT']"
      ]
     },
     "execution_count": 5,
     "metadata": {},
     "output_type": "execute_result"
    }
   ],
   "source": [
    "df.columns.tolist()"
   ]
  },
  {
   "cell_type": "markdown",
   "id": "591cbe06",
   "metadata": {},
   "source": [
    "#### Filtra Estado de Goiás"
   ]
  },
  {
   "cell_type": "code",
   "execution_count": 6,
   "id": "77a86686",
   "metadata": {},
   "outputs": [],
   "source": [
    "df = df.query(\"SIG_UF == 'GO'\")"
   ]
  },
  {
   "cell_type": "code",
   "execution_count": 7,
   "id": "db8cea52",
   "metadata": {},
   "outputs": [
    {
     "data": {
      "text/plain": [
       "(4641, 20)"
      ]
     },
     "execution_count": 7,
     "metadata": {},
     "output_type": "execute_result"
    }
   ],
   "source": [
    "df.shape"
   ]
  },
  {
   "cell_type": "code",
   "execution_count": 8,
   "id": "e732c2c7",
   "metadata": {},
   "outputs": [
    {
     "data": {
      "text/html": [
       "<div>\n",
       "<style scoped>\n",
       "    .dataframe tbody tr th:only-of-type {\n",
       "        vertical-align: middle;\n",
       "    }\n",
       "\n",
       "    .dataframe tbody tr th {\n",
       "        vertical-align: top;\n",
       "    }\n",
       "\n",
       "    .dataframe thead th {\n",
       "        text-align: right;\n",
       "    }\n",
       "</style>\n",
       "<table border=\"1\" class=\"dataframe\">\n",
       "  <thead>\n",
       "    <tr style=\"text-align: right;\">\n",
       "      <th></th>\n",
       "      <th>CO_UF</th>\n",
       "      <th>UF</th>\n",
       "      <th>SIG_UF</th>\n",
       "      <th>CO_MUNICIPIO</th>\n",
       "      <th>MUNICIPIO</th>\n",
       "      <th>CO_REGIAO</th>\n",
       "      <th>CO_MESORREGIAO</th>\n",
       "      <th>CO_MICRORREGIAO</th>\n",
       "      <th>CO_ENTIDADE</th>\n",
       "      <th>NO_ENTIDADE</th>\n",
       "      <th>POPULACAO_ESTIMADA</th>\n",
       "      <th>N_MATRICULA_MUN</th>\n",
       "      <th>N_MATRICULA_ENT</th>\n",
       "      <th>N_MATRICULA_INTEGRAL_ENT</th>\n",
       "      <th>N_EJA_MUN</th>\n",
       "      <th>N_EJA_ENT</th>\n",
       "      <th>PROPORCAO_MATRICULA_POPULACAO_MUN</th>\n",
       "      <th>PROPORCAO_EJA_MATRICULA_MUN</th>\n",
       "      <th>PROPORCAO_ENT_MATRICULA</th>\n",
       "      <th>PROPORCAL_INTEGRAL_ENT</th>\n",
       "    </tr>\n",
       "  </thead>\n",
       "  <tbody>\n",
       "    <tr>\n",
       "      <th>395</th>\n",
       "      <td>52</td>\n",
       "      <td>Goias</td>\n",
       "      <td>GO</td>\n",
       "      <td>5201108</td>\n",
       "      <td>Anápolis</td>\n",
       "      <td>5</td>\n",
       "      <td>5203</td>\n",
       "      <td>52007</td>\n",
       "      <td>52020428</td>\n",
       "      <td>COLEGIO ESTADUAL GOMES DE SOUZA RAMOS</td>\n",
       "      <td>386923</td>\n",
       "      <td>89054</td>\n",
       "      <td>313</td>\n",
       "      <td>NaN</td>\n",
       "      <td>44350</td>\n",
       "      <td>NaN</td>\n",
       "      <td>2.301595e+16</td>\n",
       "      <td>4.980124e+15</td>\n",
       "      <td>0.003515</td>\n",
       "      <td>NaN</td>\n",
       "    </tr>\n",
       "    <tr>\n",
       "      <th>5046</th>\n",
       "      <td>52</td>\n",
       "      <td>Goias</td>\n",
       "      <td>GO</td>\n",
       "      <td>5208004</td>\n",
       "      <td>Formosa</td>\n",
       "      <td>5</td>\n",
       "      <td>5204</td>\n",
       "      <td>52012</td>\n",
       "      <td>52101398</td>\n",
       "      <td>COLEGIO REDE EDUCA GOIAS</td>\n",
       "      <td>121617</td>\n",
       "      <td>26886</td>\n",
       "      <td>315</td>\n",
       "      <td>NaN</td>\n",
       "      <td>9400</td>\n",
       "      <td>NaN</td>\n",
       "      <td>2.210711e+16</td>\n",
       "      <td>3.496243e+16</td>\n",
       "      <td>0.011716</td>\n",
       "      <td>NaN</td>\n",
       "    </tr>\n",
       "    <tr>\n",
       "      <th>4178</th>\n",
       "      <td>52</td>\n",
       "      <td>Goias</td>\n",
       "      <td>GO</td>\n",
       "      <td>5208400</td>\n",
       "      <td>Goianápolis</td>\n",
       "      <td>5</td>\n",
       "      <td>5203</td>\n",
       "      <td>52010</td>\n",
       "      <td>52090310</td>\n",
       "      <td>ESCOLA MUNICIPAL PROFESSORA HALLEY DE SOUZA VE...</td>\n",
       "      <td>11231</td>\n",
       "      <td>3140</td>\n",
       "      <td>328</td>\n",
       "      <td>5.0</td>\n",
       "      <td>1880</td>\n",
       "      <td>NaN</td>\n",
       "      <td>2.795833e+16</td>\n",
       "      <td>5.987261e+15</td>\n",
       "      <td>0.104459</td>\n",
       "      <td>0.014327</td>\n",
       "    </tr>\n",
       "  </tbody>\n",
       "</table>\n",
       "</div>"
      ],
      "text/plain": [
       "      CO_UF     UF SIG_UF  CO_MUNICIPIO    MUNICIPIO  CO_REGIAO  \\\n",
       "395      52  Goias     GO       5201108     Anápolis          5   \n",
       "5046     52  Goias     GO       5208004      Formosa          5   \n",
       "4178     52  Goias     GO       5208400  Goianápolis          5   \n",
       "\n",
       "      CO_MESORREGIAO  CO_MICRORREGIAO  CO_ENTIDADE  \\\n",
       "395             5203            52007     52020428   \n",
       "5046            5204            52012     52101398   \n",
       "4178            5203            52010     52090310   \n",
       "\n",
       "                                            NO_ENTIDADE  POPULACAO_ESTIMADA  \\\n",
       "395               COLEGIO ESTADUAL GOMES DE SOUZA RAMOS              386923   \n",
       "5046                           COLEGIO REDE EDUCA GOIAS              121617   \n",
       "4178  ESCOLA MUNICIPAL PROFESSORA HALLEY DE SOUZA VE...               11231   \n",
       "\n",
       "      N_MATRICULA_MUN  N_MATRICULA_ENT  N_MATRICULA_INTEGRAL_ENT  N_EJA_MUN  \\\n",
       "395             89054              313                       NaN      44350   \n",
       "5046            26886              315                       NaN       9400   \n",
       "4178             3140              328                       5.0       1880   \n",
       "\n",
       "      N_EJA_ENT  PROPORCAO_MATRICULA_POPULACAO_MUN  \\\n",
       "395         NaN                       2.301595e+16   \n",
       "5046        NaN                       2.210711e+16   \n",
       "4178        NaN                       2.795833e+16   \n",
       "\n",
       "      PROPORCAO_EJA_MATRICULA_MUN  PROPORCAO_ENT_MATRICULA  \\\n",
       "395                  4.980124e+15                 0.003515   \n",
       "5046                 3.496243e+16                 0.011716   \n",
       "4178                 5.987261e+15                 0.104459   \n",
       "\n",
       "      PROPORCAL_INTEGRAL_ENT  \n",
       "395                      NaN  \n",
       "5046                     NaN  \n",
       "4178                0.014327  "
      ]
     },
     "execution_count": 8,
     "metadata": {},
     "output_type": "execute_result"
    }
   ],
   "source": [
    "df.sample(3)"
   ]
  },
  {
   "cell_type": "markdown",
   "id": "a78c19d3",
   "metadata": {},
   "source": [
    "#### Base SQL 2020 | Filtra GO"
   ]
  },
  {
   "cell_type": "code",
   "execution_count": 9,
   "id": "9e7434fe",
   "metadata": {},
   "outputs": [],
   "source": [
    "df2 = pd.read_csv(\"Base_SQL/censo_2020.csv\", sep=\";\")"
   ]
  },
  {
   "cell_type": "code",
   "execution_count": 10,
   "id": "6c0758ae",
   "metadata": {},
   "outputs": [],
   "source": [
    "df2 = df2.query(\"SIG_UF == 'GO'\")"
   ]
  },
  {
   "cell_type": "code",
   "execution_count": 11,
   "id": "bdd1f6c2",
   "metadata": {},
   "outputs": [
    {
     "data": {
      "text/plain": [
       "(4627, 20)"
      ]
     },
     "execution_count": 11,
     "metadata": {},
     "output_type": "execute_result"
    }
   ],
   "source": [
    "df2.shape"
   ]
  },
  {
   "cell_type": "markdown",
   "id": "a04b55e2",
   "metadata": {},
   "source": [
    "#### União/Merge das bases 2019 e 2020"
   ]
  },
  {
   "cell_type": "code",
   "execution_count": 12,
   "id": "91c1e93d",
   "metadata": {},
   "outputs": [],
   "source": [
    "df3 = df.merge(df2, on='CO_ENTIDADE')"
   ]
  },
  {
   "cell_type": "code",
   "execution_count": 13,
   "id": "c5b3fbc5",
   "metadata": {},
   "outputs": [
    {
     "data": {
      "text/plain": [
       "array(['CO_UF_x', 'UF_x', 'SIG_UF_x', 'CO_MUNICIPIO_x', 'MUNICIPIO_x',\n",
       "       'CO_REGIAO_x', 'CO_MESORREGIAO_x', 'CO_MICRORREGIAO_x',\n",
       "       'CO_ENTIDADE', 'NO_ENTIDADE_x', 'POPULACAO_ESTIMADA_x',\n",
       "       'N_MATRICULA_MUN_x', 'N_MATRICULA_ENT_x',\n",
       "       'N_MATRICULA_INTEGRAL_ENT_x', 'N_EJA_MUN_x', 'N_EJA_ENT_x',\n",
       "       'PROPORCAO_MATRICULA_POPULACAO_MUN_x',\n",
       "       'PROPORCAO_EJA_MATRICULA_MUN_x', 'PROPORCAO_ENT_MATRICULA_x',\n",
       "       'PROPORCAL_INTEGRAL_ENT_x', 'CO_UF_y', 'UF_y', 'SIG_UF_y',\n",
       "       'CO_MUNICIPIO_y', 'MUNICIPIO_y', 'CO_REGIAO_y', 'CO_MESORREGIAO_y',\n",
       "       'CO_MICRORREGIAO_y', 'NO_ENTIDADE_y', 'POPULACAO_ESTIMADA_y',\n",
       "       'N_MATRICULA_MUN_y', 'N_MATRICULA_ENT_y',\n",
       "       'N_MATRICULA_INTEGRAL_ENT_y', 'N_EJA_MUN_y', 'N_EJA_ENT_y',\n",
       "       'PROPORCAO_MATRICULA_POPULACAO_MUN_y',\n",
       "       'PROPORCAO_EJA_MATRICULA_MUN_y', 'PROPORCAO_ENT_MATRICULA_y',\n",
       "       'PROPORCAL_INTEGRAL_ENT_y'], dtype=object)"
      ]
     },
     "execution_count": 13,
     "metadata": {},
     "output_type": "execute_result"
    }
   ],
   "source": [
    "df3.columns.values"
   ]
  },
  {
   "cell_type": "code",
   "execution_count": 14,
   "id": "b76b3634",
   "metadata": {},
   "outputs": [
    {
     "data": {
      "text/plain": [
       "(4486, 39)"
      ]
     },
     "execution_count": 14,
     "metadata": {},
     "output_type": "execute_result"
    }
   ],
   "source": [
    "df3.shape"
   ]
  },
  {
   "cell_type": "markdown",
   "id": "8edf6cff",
   "metadata": {},
   "source": [
    "##### Exclusão/Drop colunas duplicadas"
   ]
  },
  {
   "cell_type": "code",
   "execution_count": 15,
   "id": "77c2a781",
   "metadata": {},
   "outputs": [],
   "source": [
    "df3 = df3.drop(['CO_UF_y',\n",
    "                'UF_y','SIG_UF_y',\n",
    "                'CO_MUNICIPIO_y', \n",
    "                'MUNICIPIO_y', \n",
    "                'CO_REGIAO_y', \n",
    "                'CO_MESORREGIAO_y',\n",
    "                'CO_MICRORREGIAO_y', \n",
    "                'NO_ENTIDADE_y'\n",
    "               ],\n",
    "               axis=1)"
   ]
  },
  {
   "cell_type": "code",
   "execution_count": 16,
   "id": "73f51685",
   "metadata": {},
   "outputs": [
    {
     "data": {
      "text/plain": [
       "array(['CO_UF_x', 'UF_x', 'SIG_UF_x', 'CO_MUNICIPIO_x', 'MUNICIPIO_x',\n",
       "       'CO_REGIAO_x', 'CO_MESORREGIAO_x', 'CO_MICRORREGIAO_x',\n",
       "       'CO_ENTIDADE', 'NO_ENTIDADE_x', 'POPULACAO_ESTIMADA_x',\n",
       "       'N_MATRICULA_MUN_x', 'N_MATRICULA_ENT_x',\n",
       "       'N_MATRICULA_INTEGRAL_ENT_x', 'N_EJA_MUN_x', 'N_EJA_ENT_x',\n",
       "       'PROPORCAO_MATRICULA_POPULACAO_MUN_x',\n",
       "       'PROPORCAO_EJA_MATRICULA_MUN_x', 'PROPORCAO_ENT_MATRICULA_x',\n",
       "       'PROPORCAL_INTEGRAL_ENT_x', 'POPULACAO_ESTIMADA_y',\n",
       "       'N_MATRICULA_MUN_y', 'N_MATRICULA_ENT_y',\n",
       "       'N_MATRICULA_INTEGRAL_ENT_y', 'N_EJA_MUN_y', 'N_EJA_ENT_y',\n",
       "       'PROPORCAO_MATRICULA_POPULACAO_MUN_y',\n",
       "       'PROPORCAO_EJA_MATRICULA_MUN_y', 'PROPORCAO_ENT_MATRICULA_y',\n",
       "       'PROPORCAL_INTEGRAL_ENT_y'], dtype=object)"
      ]
     },
     "execution_count": 16,
     "metadata": {},
     "output_type": "execute_result"
    }
   ],
   "source": [
    "df3.columns.values"
   ]
  },
  {
   "cell_type": "markdown",
   "id": "12475b88",
   "metadata": {},
   "source": [
    "#### Exclusão/Drop em atributos duplicados ou que não são de interesse"
   ]
  },
  {
   "cell_type": "code",
   "execution_count": 17,
   "id": "e70d4702",
   "metadata": {},
   "outputs": [],
   "source": [
    "df3 = df3.drop(['N_EJA_MUN_x', \n",
    "                'N_EJA_ENT_x',\n",
    "                'PROPORCAO_MATRICULA_POPULACAO_MUN_x',\n",
    "                'PROPORCAO_EJA_MATRICULA_MUN_x',\n",
    "                'PROPORCAO_ENT_MATRICULA_x',\n",
    "                'PROPORCAL_INTEGRAL_ENT_x',\n",
    "                'POPULACAO_ESTIMADA_y',\n",
    "                'N_EJA_MUN_y',\n",
    "                'N_EJA_ENT_y',\n",
    "                'PROPORCAO_MATRICULA_POPULACAO_MUN_y',\n",
    "                'PROPORCAO_EJA_MATRICULA_MUN_y',\n",
    "                'PROPORCAO_ENT_MATRICULA_y',\n",
    "                'PROPORCAL_INTEGRAL_ENT_y',\n",
    "                'CO_REGIAO_x'],\n",
    "               axis=1)"
   ]
  },
  {
   "cell_type": "code",
   "execution_count": 18,
   "id": "ed8bef0f",
   "metadata": {},
   "outputs": [
    {
     "data": {
      "text/plain": [
       "array(['CO_UF_x', 'UF_x', 'SIG_UF_x', 'CO_MUNICIPIO_x', 'MUNICIPIO_x',\n",
       "       'CO_MESORREGIAO_x', 'CO_MICRORREGIAO_x', 'CO_ENTIDADE',\n",
       "       'NO_ENTIDADE_x', 'POPULACAO_ESTIMADA_x', 'N_MATRICULA_MUN_x',\n",
       "       'N_MATRICULA_ENT_x', 'N_MATRICULA_INTEGRAL_ENT_x',\n",
       "       'N_MATRICULA_MUN_y', 'N_MATRICULA_ENT_y',\n",
       "       'N_MATRICULA_INTEGRAL_ENT_y'], dtype=object)"
      ]
     },
     "execution_count": 18,
     "metadata": {},
     "output_type": "execute_result"
    }
   ],
   "source": [
    "df3.columns.values"
   ]
  },
  {
   "cell_type": "markdown",
   "id": "24885883",
   "metadata": {},
   "source": [
    "#### Renomeando colunas"
   ]
  },
  {
   "cell_type": "code",
   "execution_count": 19,
   "id": "fe0c9a5a",
   "metadata": {},
   "outputs": [],
   "source": [
    "df3 = df3.rename(columns={\n",
    "                   'CO_UF_x': \"CO_UF\",\n",
    "                   'UF_x':'UF',\n",
    "                   'SIG_UF_x': \"SIG_UF\", \n",
    "                   'CO_MUNICIPIO_x':'CO_MUNICIPIO', \n",
    "                   'MUNICIPIO_x':'MUNICIPIO',\n",
    "                   'CO_MESORREGIAO_x':'CO_MESORREGIAO' ,\n",
    "                   'CO_MICRORREGIAO_x':'CO_MICRORREGIAO',\n",
    "                   'NO_ENTIDADE_x': 'NOME_ENTIDADE' , \n",
    "                   'POPULACAO_ESTIMADA_x': 'POPULACAO_ESTIMADA', \n",
    "                   'N_MATRICULA_MUN_x': 'N_MATRICULA_MUN_19',\n",
    "                   'N_MATRICULA_ENT_x': 'N_MATRICULA_ENT_19', \n",
    "                   'N_MATRICULA_INTEGRAL_ENT_x': 'N_MATRICULA_INTEGRAL_ENT_19' ,\n",
    "                   'N_MATRICULA_MUN_y':'N_MATRICULA_MUN_20', \n",
    "                   'N_MATRICULA_ENT_y': 'N_MATRICULA_ENT_20',\n",
    "                   'N_MATRICULA_INTEGRAL_ENT_y':'N_MATRICULA_INTEGRAL_ENT_20'\n",
    "                  }\n",
    "         )"
   ]
  },
  {
   "cell_type": "code",
   "execution_count": 20,
   "id": "0dad9046",
   "metadata": {},
   "outputs": [
    {
     "data": {
      "text/plain": [
       "array(['CO_UF', 'UF', 'SIG_UF', 'CO_MUNICIPIO', 'MUNICIPIO',\n",
       "       'CO_MESORREGIAO', 'CO_MICRORREGIAO', 'CO_ENTIDADE',\n",
       "       'NOME_ENTIDADE', 'POPULACAO_ESTIMADA', 'N_MATRICULA_MUN_19',\n",
       "       'N_MATRICULA_ENT_19', 'N_MATRICULA_INTEGRAL_ENT_19',\n",
       "       'N_MATRICULA_MUN_20', 'N_MATRICULA_ENT_20',\n",
       "       'N_MATRICULA_INTEGRAL_ENT_20'], dtype=object)"
      ]
     },
     "execution_count": 20,
     "metadata": {},
     "output_type": "execute_result"
    }
   ],
   "source": [
    "df3.columns.values"
   ]
  },
  {
   "cell_type": "code",
   "execution_count": 21,
   "id": "7ef1db66",
   "metadata": {},
   "outputs": [
    {
     "data": {
      "text/plain": [
       "CO_UF                            int64\n",
       "UF                              object\n",
       "SIG_UF                          object\n",
       "CO_MUNICIPIO                     int64\n",
       "MUNICIPIO                       object\n",
       "CO_MESORREGIAO                   int64\n",
       "CO_MICRORREGIAO                  int64\n",
       "CO_ENTIDADE                      int64\n",
       "NOME_ENTIDADE                   object\n",
       "POPULACAO_ESTIMADA               int64\n",
       "N_MATRICULA_MUN_19               int64\n",
       "N_MATRICULA_ENT_19               int64\n",
       "N_MATRICULA_INTEGRAL_ENT_19    float64\n",
       "N_MATRICULA_MUN_20               int64\n",
       "N_MATRICULA_ENT_20               int64\n",
       "N_MATRICULA_INTEGRAL_ENT_20    float64\n",
       "dtype: object"
      ]
     },
     "execution_count": 21,
     "metadata": {},
     "output_type": "execute_result"
    }
   ],
   "source": [
    "df3.dtypes"
   ]
  },
  {
   "cell_type": "code",
   "execution_count": 22,
   "id": "4acff430",
   "metadata": {},
   "outputs": [
    {
     "data": {
      "text/html": [
       "<div>\n",
       "<style scoped>\n",
       "    .dataframe tbody tr th:only-of-type {\n",
       "        vertical-align: middle;\n",
       "    }\n",
       "\n",
       "    .dataframe tbody tr th {\n",
       "        vertical-align: top;\n",
       "    }\n",
       "\n",
       "    .dataframe thead th {\n",
       "        text-align: right;\n",
       "    }\n",
       "</style>\n",
       "<table border=\"1\" class=\"dataframe\">\n",
       "  <thead>\n",
       "    <tr style=\"text-align: right;\">\n",
       "      <th></th>\n",
       "      <th>CO_UF</th>\n",
       "      <th>UF</th>\n",
       "      <th>SIG_UF</th>\n",
       "      <th>CO_MUNICIPIO</th>\n",
       "      <th>MUNICIPIO</th>\n",
       "      <th>CO_MESORREGIAO</th>\n",
       "      <th>CO_MICRORREGIAO</th>\n",
       "      <th>CO_ENTIDADE</th>\n",
       "      <th>NOME_ENTIDADE</th>\n",
       "      <th>POPULACAO_ESTIMADA</th>\n",
       "      <th>N_MATRICULA_MUN_19</th>\n",
       "      <th>N_MATRICULA_ENT_19</th>\n",
       "      <th>N_MATRICULA_INTEGRAL_ENT_19</th>\n",
       "      <th>N_MATRICULA_MUN_20</th>\n",
       "      <th>N_MATRICULA_ENT_20</th>\n",
       "      <th>N_MATRICULA_INTEGRAL_ENT_20</th>\n",
       "    </tr>\n",
       "  </thead>\n",
       "  <tbody>\n",
       "    <tr>\n",
       "      <th>0</th>\n",
       "      <td>52</td>\n",
       "      <td>Goias</td>\n",
       "      <td>GO</td>\n",
       "      <td>5208707</td>\n",
       "      <td>Goiânia</td>\n",
       "      <td>5203</td>\n",
       "      <td>52010</td>\n",
       "      <td>52102521</td>\n",
       "      <td>COLEGIO RECANTO DO SABER</td>\n",
       "      <td>1516113</td>\n",
       "      <td>279830</td>\n",
       "      <td>474</td>\n",
       "      <td>NaN</td>\n",
       "      <td>276809</td>\n",
       "      <td>375</td>\n",
       "      <td>NaN</td>\n",
       "    </tr>\n",
       "    <tr>\n",
       "      <th>1</th>\n",
       "      <td>52</td>\n",
       "      <td>Goias</td>\n",
       "      <td>GO</td>\n",
       "      <td>5218805</td>\n",
       "      <td>Rio Verde</td>\n",
       "      <td>5205</td>\n",
       "      <td>52013</td>\n",
       "      <td>52054209</td>\n",
       "      <td>COLEGIO ESTADUAL MARTINS BORGES</td>\n",
       "      <td>235647</td>\n",
       "      <td>48352</td>\n",
       "      <td>1096</td>\n",
       "      <td>NaN</td>\n",
       "      <td>50563</td>\n",
       "      <td>1303</td>\n",
       "      <td>NaN</td>\n",
       "    </tr>\n",
       "    <tr>\n",
       "      <th>2</th>\n",
       "      <td>52</td>\n",
       "      <td>Goias</td>\n",
       "      <td>GO</td>\n",
       "      <td>5221858</td>\n",
       "      <td>Valparaíso de Goiás</td>\n",
       "      <td>5204</td>\n",
       "      <td>52012</td>\n",
       "      <td>52047300</td>\n",
       "      <td>COLEGIO ESTADUAL DESEMBARGADOR DILERMANDO MEIR...</td>\n",
       "      <td>168468</td>\n",
       "      <td>41597</td>\n",
       "      <td>613</td>\n",
       "      <td>NaN</td>\n",
       "      <td>40186</td>\n",
       "      <td>537</td>\n",
       "      <td>NaN</td>\n",
       "    </tr>\n",
       "  </tbody>\n",
       "</table>\n",
       "</div>"
      ],
      "text/plain": [
       "   CO_UF     UF SIG_UF  CO_MUNICIPIO            MUNICIPIO  CO_MESORREGIAO  \\\n",
       "0     52  Goias     GO       5208707              Goiânia            5203   \n",
       "1     52  Goias     GO       5218805            Rio Verde            5205   \n",
       "2     52  Goias     GO       5221858  Valparaíso de Goiás            5204   \n",
       "\n",
       "   CO_MICRORREGIAO  CO_ENTIDADE  \\\n",
       "0            52010     52102521   \n",
       "1            52013     52054209   \n",
       "2            52012     52047300   \n",
       "\n",
       "                                       NOME_ENTIDADE  POPULACAO_ESTIMADA  \\\n",
       "0                           COLEGIO RECANTO DO SABER             1516113   \n",
       "1                    COLEGIO ESTADUAL MARTINS BORGES              235647   \n",
       "2  COLEGIO ESTADUAL DESEMBARGADOR DILERMANDO MEIR...              168468   \n",
       "\n",
       "   N_MATRICULA_MUN_19  N_MATRICULA_ENT_19  N_MATRICULA_INTEGRAL_ENT_19  \\\n",
       "0              279830                 474                          NaN   \n",
       "1               48352                1096                          NaN   \n",
       "2               41597                 613                          NaN   \n",
       "\n",
       "   N_MATRICULA_MUN_20  N_MATRICULA_ENT_20  N_MATRICULA_INTEGRAL_ENT_20  \n",
       "0              276809                 375                          NaN  \n",
       "1               50563                1303                          NaN  \n",
       "2               40186                 537                          NaN  "
      ]
     },
     "execution_count": 22,
     "metadata": {},
     "output_type": "execute_result"
    }
   ],
   "source": [
    "df3.head(3)"
   ]
  },
  {
   "cell_type": "markdown",
   "id": "84b512fa",
   "metadata": {},
   "source": [
    "#### Substituindo NaN por \"0\""
   ]
  },
  {
   "cell_type": "code",
   "execution_count": 23,
   "id": "cb6ad2ba",
   "metadata": {},
   "outputs": [],
   "source": [
    "df3 = df3.fillna(0)"
   ]
  },
  {
   "cell_type": "code",
   "execution_count": 24,
   "id": "fcccc1f5",
   "metadata": {},
   "outputs": [
    {
     "data": {
      "text/html": [
       "<div>\n",
       "<style scoped>\n",
       "    .dataframe tbody tr th:only-of-type {\n",
       "        vertical-align: middle;\n",
       "    }\n",
       "\n",
       "    .dataframe tbody tr th {\n",
       "        vertical-align: top;\n",
       "    }\n",
       "\n",
       "    .dataframe thead th {\n",
       "        text-align: right;\n",
       "    }\n",
       "</style>\n",
       "<table border=\"1\" class=\"dataframe\">\n",
       "  <thead>\n",
       "    <tr style=\"text-align: right;\">\n",
       "      <th></th>\n",
       "      <th>CO_UF</th>\n",
       "      <th>UF</th>\n",
       "      <th>SIG_UF</th>\n",
       "      <th>CO_MUNICIPIO</th>\n",
       "      <th>MUNICIPIO</th>\n",
       "      <th>CO_MESORREGIAO</th>\n",
       "      <th>CO_MICRORREGIAO</th>\n",
       "      <th>CO_ENTIDADE</th>\n",
       "      <th>NOME_ENTIDADE</th>\n",
       "      <th>POPULACAO_ESTIMADA</th>\n",
       "      <th>N_MATRICULA_MUN_19</th>\n",
       "      <th>N_MATRICULA_ENT_19</th>\n",
       "      <th>N_MATRICULA_INTEGRAL_ENT_19</th>\n",
       "      <th>N_MATRICULA_MUN_20</th>\n",
       "      <th>N_MATRICULA_ENT_20</th>\n",
       "      <th>N_MATRICULA_INTEGRAL_ENT_20</th>\n",
       "    </tr>\n",
       "  </thead>\n",
       "  <tbody>\n",
       "    <tr>\n",
       "      <th>0</th>\n",
       "      <td>52</td>\n",
       "      <td>Goias</td>\n",
       "      <td>GO</td>\n",
       "      <td>5208707</td>\n",
       "      <td>Goiânia</td>\n",
       "      <td>5203</td>\n",
       "      <td>52010</td>\n",
       "      <td>52102521</td>\n",
       "      <td>COLEGIO RECANTO DO SABER</td>\n",
       "      <td>1516113</td>\n",
       "      <td>279830</td>\n",
       "      <td>474</td>\n",
       "      <td>0.0</td>\n",
       "      <td>276809</td>\n",
       "      <td>375</td>\n",
       "      <td>0.0</td>\n",
       "    </tr>\n",
       "    <tr>\n",
       "      <th>1</th>\n",
       "      <td>52</td>\n",
       "      <td>Goias</td>\n",
       "      <td>GO</td>\n",
       "      <td>5218805</td>\n",
       "      <td>Rio Verde</td>\n",
       "      <td>5205</td>\n",
       "      <td>52013</td>\n",
       "      <td>52054209</td>\n",
       "      <td>COLEGIO ESTADUAL MARTINS BORGES</td>\n",
       "      <td>235647</td>\n",
       "      <td>48352</td>\n",
       "      <td>1096</td>\n",
       "      <td>0.0</td>\n",
       "      <td>50563</td>\n",
       "      <td>1303</td>\n",
       "      <td>0.0</td>\n",
       "    </tr>\n",
       "    <tr>\n",
       "      <th>2</th>\n",
       "      <td>52</td>\n",
       "      <td>Goias</td>\n",
       "      <td>GO</td>\n",
       "      <td>5221858</td>\n",
       "      <td>Valparaíso de Goiás</td>\n",
       "      <td>5204</td>\n",
       "      <td>52012</td>\n",
       "      <td>52047300</td>\n",
       "      <td>COLEGIO ESTADUAL DESEMBARGADOR DILERMANDO MEIR...</td>\n",
       "      <td>168468</td>\n",
       "      <td>41597</td>\n",
       "      <td>613</td>\n",
       "      <td>0.0</td>\n",
       "      <td>40186</td>\n",
       "      <td>537</td>\n",
       "      <td>0.0</td>\n",
       "    </tr>\n",
       "  </tbody>\n",
       "</table>\n",
       "</div>"
      ],
      "text/plain": [
       "   CO_UF     UF SIG_UF  CO_MUNICIPIO            MUNICIPIO  CO_MESORREGIAO  \\\n",
       "0     52  Goias     GO       5208707              Goiânia            5203   \n",
       "1     52  Goias     GO       5218805            Rio Verde            5205   \n",
       "2     52  Goias     GO       5221858  Valparaíso de Goiás            5204   \n",
       "\n",
       "   CO_MICRORREGIAO  CO_ENTIDADE  \\\n",
       "0            52010     52102521   \n",
       "1            52013     52054209   \n",
       "2            52012     52047300   \n",
       "\n",
       "                                       NOME_ENTIDADE  POPULACAO_ESTIMADA  \\\n",
       "0                           COLEGIO RECANTO DO SABER             1516113   \n",
       "1                    COLEGIO ESTADUAL MARTINS BORGES              235647   \n",
       "2  COLEGIO ESTADUAL DESEMBARGADOR DILERMANDO MEIR...              168468   \n",
       "\n",
       "   N_MATRICULA_MUN_19  N_MATRICULA_ENT_19  N_MATRICULA_INTEGRAL_ENT_19  \\\n",
       "0              279830                 474                          0.0   \n",
       "1               48352                1096                          0.0   \n",
       "2               41597                 613                          0.0   \n",
       "\n",
       "   N_MATRICULA_MUN_20  N_MATRICULA_ENT_20  N_MATRICULA_INTEGRAL_ENT_20  \n",
       "0              276809                 375                          0.0  \n",
       "1               50563                1303                          0.0  \n",
       "2               40186                 537                          0.0  "
      ]
     },
     "execution_count": 24,
     "metadata": {},
     "output_type": "execute_result"
    }
   ],
   "source": [
    "df3.head(3)"
   ]
  },
  {
   "cell_type": "code",
   "execution_count": 25,
   "id": "84d7a046",
   "metadata": {},
   "outputs": [
    {
     "data": {
      "text/html": [
       "<div>\n",
       "<style scoped>\n",
       "    .dataframe tbody tr th:only-of-type {\n",
       "        vertical-align: middle;\n",
       "    }\n",
       "\n",
       "    .dataframe tbody tr th {\n",
       "        vertical-align: top;\n",
       "    }\n",
       "\n",
       "    .dataframe thead th {\n",
       "        text-align: right;\n",
       "    }\n",
       "</style>\n",
       "<table border=\"1\" class=\"dataframe\">\n",
       "  <thead>\n",
       "    <tr style=\"text-align: right;\">\n",
       "      <th></th>\n",
       "      <th>CO_UF</th>\n",
       "      <th>UF</th>\n",
       "      <th>SIG_UF</th>\n",
       "      <th>CO_MUNICIPIO</th>\n",
       "      <th>MUNICIPIO</th>\n",
       "      <th>CO_MESORREGIAO</th>\n",
       "      <th>CO_MICRORREGIAO</th>\n",
       "      <th>CO_ENTIDADE</th>\n",
       "      <th>NOME_ENTIDADE</th>\n",
       "      <th>POPULACAO_ESTIMADA</th>\n",
       "      <th>N_MATRICULA_MUN_19</th>\n",
       "      <th>N_MATRICULA_ENT_19</th>\n",
       "      <th>N_MATRICULA_INTEGRAL_ENT_19</th>\n",
       "      <th>N_MATRICULA_MUN_20</th>\n",
       "      <th>N_MATRICULA_ENT_20</th>\n",
       "      <th>N_MATRICULA_INTEGRAL_ENT_20</th>\n",
       "    </tr>\n",
       "  </thead>\n",
       "  <tbody>\n",
       "    <tr>\n",
       "      <th>0</th>\n",
       "      <td>52</td>\n",
       "      <td>Goias</td>\n",
       "      <td>GO</td>\n",
       "      <td>5208707</td>\n",
       "      <td>Goiânia</td>\n",
       "      <td>5203</td>\n",
       "      <td>52010</td>\n",
       "      <td>52102521</td>\n",
       "      <td>COLEGIO RECANTO DO SABER</td>\n",
       "      <td>1516113</td>\n",
       "      <td>279830</td>\n",
       "      <td>474</td>\n",
       "      <td>0</td>\n",
       "      <td>276809</td>\n",
       "      <td>375</td>\n",
       "      <td>0</td>\n",
       "    </tr>\n",
       "    <tr>\n",
       "      <th>1</th>\n",
       "      <td>52</td>\n",
       "      <td>Goias</td>\n",
       "      <td>GO</td>\n",
       "      <td>5218805</td>\n",
       "      <td>Rio Verde</td>\n",
       "      <td>5205</td>\n",
       "      <td>52013</td>\n",
       "      <td>52054209</td>\n",
       "      <td>COLEGIO ESTADUAL MARTINS BORGES</td>\n",
       "      <td>235647</td>\n",
       "      <td>48352</td>\n",
       "      <td>1096</td>\n",
       "      <td>0</td>\n",
       "      <td>50563</td>\n",
       "      <td>1303</td>\n",
       "      <td>0</td>\n",
       "    </tr>\n",
       "    <tr>\n",
       "      <th>2</th>\n",
       "      <td>52</td>\n",
       "      <td>Goias</td>\n",
       "      <td>GO</td>\n",
       "      <td>5221858</td>\n",
       "      <td>Valparaíso de Goiás</td>\n",
       "      <td>5204</td>\n",
       "      <td>52012</td>\n",
       "      <td>52047300</td>\n",
       "      <td>COLEGIO ESTADUAL DESEMBARGADOR DILERMANDO MEIR...</td>\n",
       "      <td>168468</td>\n",
       "      <td>41597</td>\n",
       "      <td>613</td>\n",
       "      <td>0</td>\n",
       "      <td>40186</td>\n",
       "      <td>537</td>\n",
       "      <td>0</td>\n",
       "    </tr>\n",
       "    <tr>\n",
       "      <th>3</th>\n",
       "      <td>52</td>\n",
       "      <td>Goias</td>\n",
       "      <td>GO</td>\n",
       "      <td>5220207</td>\n",
       "      <td>São Miguel do Araguaia</td>\n",
       "      <td>5201</td>\n",
       "      <td>52001</td>\n",
       "      <td>52001199</td>\n",
       "      <td>COLEGIO ESTADUAL DE SAO MIGUEL DO ARAGUAIA</td>\n",
       "      <td>21993</td>\n",
       "      <td>5595</td>\n",
       "      <td>892</td>\n",
       "      <td>0</td>\n",
       "      <td>4812</td>\n",
       "      <td>815</td>\n",
       "      <td>0</td>\n",
       "    </tr>\n",
       "    <tr>\n",
       "      <th>4</th>\n",
       "      <td>52</td>\n",
       "      <td>Goias</td>\n",
       "      <td>GO</td>\n",
       "      <td>5210406</td>\n",
       "      <td>Itaberaí</td>\n",
       "      <td>5203</td>\n",
       "      <td>52007</td>\n",
       "      <td>52023540</td>\n",
       "      <td>ESCOLA MUNICIPALIZADA SAO BENEDITO</td>\n",
       "      <td>42900</td>\n",
       "      <td>10490</td>\n",
       "      <td>347</td>\n",
       "      <td>132</td>\n",
       "      <td>9856</td>\n",
       "      <td>250</td>\n",
       "      <td>9</td>\n",
       "    </tr>\n",
       "    <tr>\n",
       "      <th>...</th>\n",
       "      <td>...</td>\n",
       "      <td>...</td>\n",
       "      <td>...</td>\n",
       "      <td>...</td>\n",
       "      <td>...</td>\n",
       "      <td>...</td>\n",
       "      <td>...</td>\n",
       "      <td>...</td>\n",
       "      <td>...</td>\n",
       "      <td>...</td>\n",
       "      <td>...</td>\n",
       "      <td>...</td>\n",
       "      <td>...</td>\n",
       "      <td>...</td>\n",
       "      <td>...</td>\n",
       "      <td>...</td>\n",
       "    </tr>\n",
       "    <tr>\n",
       "      <th>4481</th>\n",
       "      <td>52</td>\n",
       "      <td>Goias</td>\n",
       "      <td>GO</td>\n",
       "      <td>5219803</td>\n",
       "      <td>São Domingos</td>\n",
       "      <td>5204</td>\n",
       "      <td>52011</td>\n",
       "      <td>52075605</td>\n",
       "      <td>ESCOLA MUNICIPAL GERMANA FERNANDES LIMA</td>\n",
       "      <td>12949</td>\n",
       "      <td>2640</td>\n",
       "      <td>157</td>\n",
       "      <td>0</td>\n",
       "      <td>2391</td>\n",
       "      <td>149</td>\n",
       "      <td>0</td>\n",
       "    </tr>\n",
       "    <tr>\n",
       "      <th>4482</th>\n",
       "      <td>52</td>\n",
       "      <td>Goias</td>\n",
       "      <td>GO</td>\n",
       "      <td>5208707</td>\n",
       "      <td>Goiânia</td>\n",
       "      <td>5203</td>\n",
       "      <td>52010</td>\n",
       "      <td>52037851</td>\n",
       "      <td>ESCOLA PROFA YOLANDA</td>\n",
       "      <td>1516113</td>\n",
       "      <td>279830</td>\n",
       "      <td>417</td>\n",
       "      <td>0</td>\n",
       "      <td>276809</td>\n",
       "      <td>409</td>\n",
       "      <td>0</td>\n",
       "    </tr>\n",
       "    <tr>\n",
       "      <th>4483</th>\n",
       "      <td>52</td>\n",
       "      <td>Goias</td>\n",
       "      <td>GO</td>\n",
       "      <td>5200258</td>\n",
       "      <td>Águas Lindas de Goiás</td>\n",
       "      <td>5204</td>\n",
       "      <td>52012</td>\n",
       "      <td>52079511</td>\n",
       "      <td>COLEGIO RAIO DE SOL</td>\n",
       "      <td>212440</td>\n",
       "      <td>53455</td>\n",
       "      <td>114</td>\n",
       "      <td>0</td>\n",
       "      <td>52067</td>\n",
       "      <td>75</td>\n",
       "      <td>0</td>\n",
       "    </tr>\n",
       "    <tr>\n",
       "      <th>4484</th>\n",
       "      <td>52</td>\n",
       "      <td>Goias</td>\n",
       "      <td>GO</td>\n",
       "      <td>5221809</td>\n",
       "      <td>Urutaí</td>\n",
       "      <td>5205</td>\n",
       "      <td>52016</td>\n",
       "      <td>52063917</td>\n",
       "      <td>COLEGIO ESTADUAL DR VASCO DOS REIS GONCALVES</td>\n",
       "      <td>3072</td>\n",
       "      <td>1240</td>\n",
       "      <td>277</td>\n",
       "      <td>0</td>\n",
       "      <td>1209</td>\n",
       "      <td>204</td>\n",
       "      <td>0</td>\n",
       "    </tr>\n",
       "    <tr>\n",
       "      <th>4485</th>\n",
       "      <td>52</td>\n",
       "      <td>Goias</td>\n",
       "      <td>GO</td>\n",
       "      <td>5204300</td>\n",
       "      <td>Caçu</td>\n",
       "      <td>5205</td>\n",
       "      <td>52018</td>\n",
       "      <td>52066924</td>\n",
       "      <td>CENTRO EDUCACIONAL CORUJINHA</td>\n",
       "      <td>16009</td>\n",
       "      <td>2550</td>\n",
       "      <td>117</td>\n",
       "      <td>0</td>\n",
       "      <td>2627</td>\n",
       "      <td>124</td>\n",
       "      <td>0</td>\n",
       "    </tr>\n",
       "  </tbody>\n",
       "</table>\n",
       "<p>4486 rows × 16 columns</p>\n",
       "</div>"
      ],
      "text/plain": [
       "      CO_UF     UF SIG_UF  CO_MUNICIPIO               MUNICIPIO  \\\n",
       "0        52  Goias     GO       5208707                 Goiânia   \n",
       "1        52  Goias     GO       5218805               Rio Verde   \n",
       "2        52  Goias     GO       5221858     Valparaíso de Goiás   \n",
       "3        52  Goias     GO       5220207  São Miguel do Araguaia   \n",
       "4        52  Goias     GO       5210406                Itaberaí   \n",
       "...     ...    ...    ...           ...                     ...   \n",
       "4481     52  Goias     GO       5219803            São Domingos   \n",
       "4482     52  Goias     GO       5208707                 Goiânia   \n",
       "4483     52  Goias     GO       5200258   Águas Lindas de Goiás   \n",
       "4484     52  Goias     GO       5221809                  Urutaí   \n",
       "4485     52  Goias     GO       5204300                    Caçu   \n",
       "\n",
       "      CO_MESORREGIAO  CO_MICRORREGIAO  CO_ENTIDADE  \\\n",
       "0               5203            52010     52102521   \n",
       "1               5205            52013     52054209   \n",
       "2               5204            52012     52047300   \n",
       "3               5201            52001     52001199   \n",
       "4               5203            52007     52023540   \n",
       "...              ...              ...          ...   \n",
       "4481            5204            52011     52075605   \n",
       "4482            5203            52010     52037851   \n",
       "4483            5204            52012     52079511   \n",
       "4484            5205            52016     52063917   \n",
       "4485            5205            52018     52066924   \n",
       "\n",
       "                                          NOME_ENTIDADE  POPULACAO_ESTIMADA  \\\n",
       "0                              COLEGIO RECANTO DO SABER             1516113   \n",
       "1                       COLEGIO ESTADUAL MARTINS BORGES              235647   \n",
       "2     COLEGIO ESTADUAL DESEMBARGADOR DILERMANDO MEIR...              168468   \n",
       "3            COLEGIO ESTADUAL DE SAO MIGUEL DO ARAGUAIA               21993   \n",
       "4                    ESCOLA MUNICIPALIZADA SAO BENEDITO               42900   \n",
       "...                                                 ...                 ...   \n",
       "4481            ESCOLA MUNICIPAL GERMANA FERNANDES LIMA               12949   \n",
       "4482                               ESCOLA PROFA YOLANDA             1516113   \n",
       "4483                                COLEGIO RAIO DE SOL              212440   \n",
       "4484       COLEGIO ESTADUAL DR VASCO DOS REIS GONCALVES                3072   \n",
       "4485                       CENTRO EDUCACIONAL CORUJINHA               16009   \n",
       "\n",
       "      N_MATRICULA_MUN_19  N_MATRICULA_ENT_19  N_MATRICULA_INTEGRAL_ENT_19  \\\n",
       "0                 279830                 474                            0   \n",
       "1                  48352                1096                            0   \n",
       "2                  41597                 613                            0   \n",
       "3                   5595                 892                            0   \n",
       "4                  10490                 347                          132   \n",
       "...                  ...                 ...                          ...   \n",
       "4481                2640                 157                            0   \n",
       "4482              279830                 417                            0   \n",
       "4483               53455                 114                            0   \n",
       "4484                1240                 277                            0   \n",
       "4485                2550                 117                            0   \n",
       "\n",
       "      N_MATRICULA_MUN_20  N_MATRICULA_ENT_20  N_MATRICULA_INTEGRAL_ENT_20  \n",
       "0                 276809                 375                            0  \n",
       "1                  50563                1303                            0  \n",
       "2                  40186                 537                            0  \n",
       "3                   4812                 815                            0  \n",
       "4                   9856                 250                            9  \n",
       "...                  ...                 ...                          ...  \n",
       "4481                2391                 149                            0  \n",
       "4482              276809                 409                            0  \n",
       "4483               52067                  75                            0  \n",
       "4484                1209                 204                            0  \n",
       "4485                2627                 124                            0  \n",
       "\n",
       "[4486 rows x 16 columns]"
      ]
     },
     "execution_count": 25,
     "metadata": {},
     "output_type": "execute_result"
    }
   ],
   "source": [
    "df3.astype({'N_MATRICULA_INTEGRAL_ENT_19': 'int64', 'N_MATRICULA_INTEGRAL_ENT_20':'int64'})"
   ]
  },
  {
   "cell_type": "code",
   "execution_count": 26,
   "id": "baf15f84",
   "metadata": {},
   "outputs": [
    {
     "data": {
      "text/plain": [
       "CO_UF                            int64\n",
       "UF                              object\n",
       "SIG_UF                          object\n",
       "CO_MUNICIPIO                     int64\n",
       "MUNICIPIO                       object\n",
       "CO_MESORREGIAO                   int64\n",
       "CO_MICRORREGIAO                  int64\n",
       "CO_ENTIDADE                      int64\n",
       "NOME_ENTIDADE                   object\n",
       "POPULACAO_ESTIMADA               int64\n",
       "N_MATRICULA_MUN_19               int64\n",
       "N_MATRICULA_ENT_19               int64\n",
       "N_MATRICULA_INTEGRAL_ENT_19    float64\n",
       "N_MATRICULA_MUN_20               int64\n",
       "N_MATRICULA_ENT_20               int64\n",
       "N_MATRICULA_INTEGRAL_ENT_20    float64\n",
       "dtype: object"
      ]
     },
     "execution_count": 26,
     "metadata": {},
     "output_type": "execute_result"
    }
   ],
   "source": [
    "df3.dtypes"
   ]
  },
  {
   "cell_type": "markdown",
   "id": "1cd503e0",
   "metadata": {},
   "source": [
    "#### Criando atributos \"score\" numero de matrículas por município, por entidade e por matrícula integral entidade."
   ]
  },
  {
   "cell_type": "code",
   "execution_count": 27,
   "id": "89ac3053",
   "metadata": {},
   "outputs": [],
   "source": [
    "df3['SCORE_MAT_MUN_20_19'] = df3['N_MATRICULA_MUN_20'] / df3['N_MATRICULA_MUN_19']"
   ]
  },
  {
   "cell_type": "code",
   "execution_count": 28,
   "id": "caecc1ff",
   "metadata": {},
   "outputs": [],
   "source": [
    "df3['SCORE_MAT_ENT_20_19'] = df3['N_MATRICULA_ENT_20'] / df3['N_MATRICULA_ENT_19']"
   ]
  },
  {
   "cell_type": "code",
   "execution_count": 29,
   "id": "8b878454",
   "metadata": {},
   "outputs": [],
   "source": [
    "df3['SCORE_MAT_INTEGRAL_ENT_20_19'] = df3['N_MATRICULA_INTEGRAL_ENT_20'] / df3['N_MATRICULA_INTEGRAL_ENT_19']"
   ]
  },
  {
   "cell_type": "code",
   "execution_count": 30,
   "id": "309e6821",
   "metadata": {},
   "outputs": [
    {
     "data": {
      "text/html": [
       "<div>\n",
       "<style scoped>\n",
       "    .dataframe tbody tr th:only-of-type {\n",
       "        vertical-align: middle;\n",
       "    }\n",
       "\n",
       "    .dataframe tbody tr th {\n",
       "        vertical-align: top;\n",
       "    }\n",
       "\n",
       "    .dataframe thead th {\n",
       "        text-align: right;\n",
       "    }\n",
       "</style>\n",
       "<table border=\"1\" class=\"dataframe\">\n",
       "  <thead>\n",
       "    <tr style=\"text-align: right;\">\n",
       "      <th></th>\n",
       "      <th>CO_UF</th>\n",
       "      <th>UF</th>\n",
       "      <th>SIG_UF</th>\n",
       "      <th>CO_MUNICIPIO</th>\n",
       "      <th>MUNICIPIO</th>\n",
       "      <th>CO_MESORREGIAO</th>\n",
       "      <th>CO_MICRORREGIAO</th>\n",
       "      <th>CO_ENTIDADE</th>\n",
       "      <th>NOME_ENTIDADE</th>\n",
       "      <th>POPULACAO_ESTIMADA</th>\n",
       "      <th>N_MATRICULA_MUN_19</th>\n",
       "      <th>N_MATRICULA_ENT_19</th>\n",
       "      <th>N_MATRICULA_INTEGRAL_ENT_19</th>\n",
       "      <th>N_MATRICULA_MUN_20</th>\n",
       "      <th>N_MATRICULA_ENT_20</th>\n",
       "      <th>N_MATRICULA_INTEGRAL_ENT_20</th>\n",
       "      <th>SCORE_MAT_MUN_20_19</th>\n",
       "      <th>SCORE_MAT_ENT_20_19</th>\n",
       "      <th>SCORE_MAT_INTEGRAL_ENT_20_19</th>\n",
       "    </tr>\n",
       "  </thead>\n",
       "  <tbody>\n",
       "    <tr>\n",
       "      <th>0</th>\n",
       "      <td>52</td>\n",
       "      <td>Goias</td>\n",
       "      <td>GO</td>\n",
       "      <td>5208707</td>\n",
       "      <td>Goiânia</td>\n",
       "      <td>5203</td>\n",
       "      <td>52010</td>\n",
       "      <td>52102521</td>\n",
       "      <td>COLEGIO RECANTO DO SABER</td>\n",
       "      <td>1516113</td>\n",
       "      <td>279830</td>\n",
       "      <td>474</td>\n",
       "      <td>0.0</td>\n",
       "      <td>276809</td>\n",
       "      <td>375</td>\n",
       "      <td>0.0</td>\n",
       "      <td>0.989204</td>\n",
       "      <td>0.791139</td>\n",
       "      <td>NaN</td>\n",
       "    </tr>\n",
       "    <tr>\n",
       "      <th>1</th>\n",
       "      <td>52</td>\n",
       "      <td>Goias</td>\n",
       "      <td>GO</td>\n",
       "      <td>5218805</td>\n",
       "      <td>Rio Verde</td>\n",
       "      <td>5205</td>\n",
       "      <td>52013</td>\n",
       "      <td>52054209</td>\n",
       "      <td>COLEGIO ESTADUAL MARTINS BORGES</td>\n",
       "      <td>235647</td>\n",
       "      <td>48352</td>\n",
       "      <td>1096</td>\n",
       "      <td>0.0</td>\n",
       "      <td>50563</td>\n",
       "      <td>1303</td>\n",
       "      <td>0.0</td>\n",
       "      <td>1.045727</td>\n",
       "      <td>1.188869</td>\n",
       "      <td>NaN</td>\n",
       "    </tr>\n",
       "    <tr>\n",
       "      <th>2</th>\n",
       "      <td>52</td>\n",
       "      <td>Goias</td>\n",
       "      <td>GO</td>\n",
       "      <td>5221858</td>\n",
       "      <td>Valparaíso de Goiás</td>\n",
       "      <td>5204</td>\n",
       "      <td>52012</td>\n",
       "      <td>52047300</td>\n",
       "      <td>COLEGIO ESTADUAL DESEMBARGADOR DILERMANDO MEIR...</td>\n",
       "      <td>168468</td>\n",
       "      <td>41597</td>\n",
       "      <td>613</td>\n",
       "      <td>0.0</td>\n",
       "      <td>40186</td>\n",
       "      <td>537</td>\n",
       "      <td>0.0</td>\n",
       "      <td>0.966079</td>\n",
       "      <td>0.876020</td>\n",
       "      <td>NaN</td>\n",
       "    </tr>\n",
       "  </tbody>\n",
       "</table>\n",
       "</div>"
      ],
      "text/plain": [
       "   CO_UF     UF SIG_UF  CO_MUNICIPIO            MUNICIPIO  CO_MESORREGIAO  \\\n",
       "0     52  Goias     GO       5208707              Goiânia            5203   \n",
       "1     52  Goias     GO       5218805            Rio Verde            5205   \n",
       "2     52  Goias     GO       5221858  Valparaíso de Goiás            5204   \n",
       "\n",
       "   CO_MICRORREGIAO  CO_ENTIDADE  \\\n",
       "0            52010     52102521   \n",
       "1            52013     52054209   \n",
       "2            52012     52047300   \n",
       "\n",
       "                                       NOME_ENTIDADE  POPULACAO_ESTIMADA  \\\n",
       "0                           COLEGIO RECANTO DO SABER             1516113   \n",
       "1                    COLEGIO ESTADUAL MARTINS BORGES              235647   \n",
       "2  COLEGIO ESTADUAL DESEMBARGADOR DILERMANDO MEIR...              168468   \n",
       "\n",
       "   N_MATRICULA_MUN_19  N_MATRICULA_ENT_19  N_MATRICULA_INTEGRAL_ENT_19  \\\n",
       "0              279830                 474                          0.0   \n",
       "1               48352                1096                          0.0   \n",
       "2               41597                 613                          0.0   \n",
       "\n",
       "   N_MATRICULA_MUN_20  N_MATRICULA_ENT_20  N_MATRICULA_INTEGRAL_ENT_20  \\\n",
       "0              276809                 375                          0.0   \n",
       "1               50563                1303                          0.0   \n",
       "2               40186                 537                          0.0   \n",
       "\n",
       "   SCORE_MAT_MUN_20_19  SCORE_MAT_ENT_20_19  SCORE_MAT_INTEGRAL_ENT_20_19  \n",
       "0             0.989204             0.791139                           NaN  \n",
       "1             1.045727             1.188869                           NaN  \n",
       "2             0.966079             0.876020                           NaN  "
      ]
     },
     "execution_count": 30,
     "metadata": {},
     "output_type": "execute_result"
    }
   ],
   "source": [
    "df3.head(3)"
   ]
  },
  {
   "cell_type": "code",
   "execution_count": 31,
   "id": "51ba2a11",
   "metadata": {},
   "outputs": [
    {
     "data": {
      "text/html": [
       "<div>\n",
       "<style scoped>\n",
       "    .dataframe tbody tr th:only-of-type {\n",
       "        vertical-align: middle;\n",
       "    }\n",
       "\n",
       "    .dataframe tbody tr th {\n",
       "        vertical-align: top;\n",
       "    }\n",
       "\n",
       "    .dataframe thead th {\n",
       "        text-align: right;\n",
       "    }\n",
       "</style>\n",
       "<table border=\"1\" class=\"dataframe\">\n",
       "  <thead>\n",
       "    <tr style=\"text-align: right;\">\n",
       "      <th></th>\n",
       "      <th>CO_UF</th>\n",
       "      <th>CO_MUNICIPIO</th>\n",
       "      <th>CO_MESORREGIAO</th>\n",
       "      <th>CO_MICRORREGIAO</th>\n",
       "      <th>CO_ENTIDADE</th>\n",
       "      <th>POPULACAO_ESTIMADA</th>\n",
       "      <th>N_MATRICULA_MUN_19</th>\n",
       "      <th>N_MATRICULA_ENT_19</th>\n",
       "      <th>N_MATRICULA_INTEGRAL_ENT_19</th>\n",
       "      <th>N_MATRICULA_MUN_20</th>\n",
       "      <th>N_MATRICULA_ENT_20</th>\n",
       "      <th>N_MATRICULA_INTEGRAL_ENT_20</th>\n",
       "      <th>SCORE_MAT_MUN_20_19</th>\n",
       "      <th>SCORE_MAT_ENT_20_19</th>\n",
       "      <th>SCORE_MAT_INTEGRAL_ENT_20_19</th>\n",
       "    </tr>\n",
       "  </thead>\n",
       "  <tbody>\n",
       "    <tr>\n",
       "      <th>count</th>\n",
       "      <td>4486.0</td>\n",
       "      <td>4.486000e+03</td>\n",
       "      <td>4486.000000</td>\n",
       "      <td>4486.000000</td>\n",
       "      <td>4.486000e+03</td>\n",
       "      <td>4.486000e+03</td>\n",
       "      <td>4486.000000</td>\n",
       "      <td>4486.000000</td>\n",
       "      <td>4486.000000</td>\n",
       "      <td>4486.00000</td>\n",
       "      <td>4486.000000</td>\n",
       "      <td>4486.000000</td>\n",
       "      <td>4486.000000</td>\n",
       "      <td>4486.000000</td>\n",
       "      <td>1440.000000</td>\n",
       "    </tr>\n",
       "    <tr>\n",
       "      <th>mean</th>\n",
       "      <td>52.0</td>\n",
       "      <td>5.210452e+06</td>\n",
       "      <td>5203.496879</td>\n",
       "      <td>52010.203968</td>\n",
       "      <td>5.206964e+07</td>\n",
       "      <td>3.500898e+05</td>\n",
       "      <td>68069.947169</td>\n",
       "      <td>334.284440</td>\n",
       "      <td>22.965671</td>\n",
       "      <td>67360.78667</td>\n",
       "      <td>329.398796</td>\n",
       "      <td>21.827686</td>\n",
       "      <td>0.978279</td>\n",
       "      <td>1.005872</td>\n",
       "      <td>inf</td>\n",
       "    </tr>\n",
       "    <tr>\n",
       "      <th>std</th>\n",
       "      <td>0.0</td>\n",
       "      <td>6.404880e+03</td>\n",
       "      <td>1.075257</td>\n",
       "      <td>3.732301</td>\n",
       "      <td>4.525006e+04</td>\n",
       "      <td>5.466981e+05</td>\n",
       "      <td>100391.516837</td>\n",
       "      <td>314.563188</td>\n",
       "      <td>56.259014</td>\n",
       "      <td>99350.24438</td>\n",
       "      <td>310.384898</td>\n",
       "      <td>55.454232</td>\n",
       "      <td>0.057299</td>\n",
       "      <td>0.296979</td>\n",
       "      <td>NaN</td>\n",
       "    </tr>\n",
       "    <tr>\n",
       "      <th>min</th>\n",
       "      <td>52.0</td>\n",
       "      <td>5.200050e+06</td>\n",
       "      <td>5201.000000</td>\n",
       "      <td>52001.000000</td>\n",
       "      <td>5.200003e+07</td>\n",
       "      <td>1.149000e+03</td>\n",
       "      <td>169.000000</td>\n",
       "      <td>3.000000</td>\n",
       "      <td>0.000000</td>\n",
       "      <td>176.00000</td>\n",
       "      <td>3.000000</td>\n",
       "      <td>0.000000</td>\n",
       "      <td>0.424161</td>\n",
       "      <td>0.041667</td>\n",
       "      <td>0.000000</td>\n",
       "    </tr>\n",
       "    <tr>\n",
       "      <th>25%</th>\n",
       "      <td>52.0</td>\n",
       "      <td>5.205497e+06</td>\n",
       "      <td>5203.000000</td>\n",
       "      <td>52007.000000</td>\n",
       "      <td>5.203721e+07</td>\n",
       "      <td>1.847800e+04</td>\n",
       "      <td>3837.000000</td>\n",
       "      <td>117.000000</td>\n",
       "      <td>0.000000</td>\n",
       "      <td>3604.00000</td>\n",
       "      <td>112.000000</td>\n",
       "      <td>0.000000</td>\n",
       "      <td>0.962259</td>\n",
       "      <td>0.901830</td>\n",
       "      <td>0.584858</td>\n",
       "    </tr>\n",
       "    <tr>\n",
       "      <th>50%</th>\n",
       "      <td>52.0</td>\n",
       "      <td>5.208707e+06</td>\n",
       "      <td>5203.000000</td>\n",
       "      <td>52010.000000</td>\n",
       "      <td>5.206961e+07</td>\n",
       "      <td>7.137600e+04</td>\n",
       "      <td>19219.000000</td>\n",
       "      <td>232.000000</td>\n",
       "      <td>0.000000</td>\n",
       "      <td>17097.00000</td>\n",
       "      <td>230.000000</td>\n",
       "      <td>0.000000</td>\n",
       "      <td>0.989204</td>\n",
       "      <td>0.989092</td>\n",
       "      <td>0.960590</td>\n",
       "    </tr>\n",
       "    <tr>\n",
       "      <th>75%</th>\n",
       "      <td>52.0</td>\n",
       "      <td>5.215306e+06</td>\n",
       "      <td>5204.000000</td>\n",
       "      <td>52012.000000</td>\n",
       "      <td>5.209326e+07</td>\n",
       "      <td>3.869230e+05</td>\n",
       "      <td>89054.000000</td>\n",
       "      <td>453.000000</td>\n",
       "      <td>3.000000</td>\n",
       "      <td>85693.00000</td>\n",
       "      <td>449.000000</td>\n",
       "      <td>2.000000</td>\n",
       "      <td>1.011497</td>\n",
       "      <td>1.070212</td>\n",
       "      <td>1.136648</td>\n",
       "    </tr>\n",
       "    <tr>\n",
       "      <th>max</th>\n",
       "      <td>52.0</td>\n",
       "      <td>5.222302e+06</td>\n",
       "      <td>5205.000000</td>\n",
       "      <td>52018.000000</td>\n",
       "      <td>5.229036e+07</td>\n",
       "      <td>1.516113e+06</td>\n",
       "      <td>279830.000000</td>\n",
       "      <td>4036.000000</td>\n",
       "      <td>822.000000</td>\n",
       "      <td>276809.00000</td>\n",
       "      <td>2736.000000</td>\n",
       "      <td>828.000000</td>\n",
       "      <td>1.139116</td>\n",
       "      <td>7.862745</td>\n",
       "      <td>inf</td>\n",
       "    </tr>\n",
       "  </tbody>\n",
       "</table>\n",
       "</div>"
      ],
      "text/plain": [
       "        CO_UF  CO_MUNICIPIO  CO_MESORREGIAO  CO_MICRORREGIAO   CO_ENTIDADE  \\\n",
       "count  4486.0  4.486000e+03     4486.000000      4486.000000  4.486000e+03   \n",
       "mean     52.0  5.210452e+06     5203.496879     52010.203968  5.206964e+07   \n",
       "std       0.0  6.404880e+03        1.075257         3.732301  4.525006e+04   \n",
       "min      52.0  5.200050e+06     5201.000000     52001.000000  5.200003e+07   \n",
       "25%      52.0  5.205497e+06     5203.000000     52007.000000  5.203721e+07   \n",
       "50%      52.0  5.208707e+06     5203.000000     52010.000000  5.206961e+07   \n",
       "75%      52.0  5.215306e+06     5204.000000     52012.000000  5.209326e+07   \n",
       "max      52.0  5.222302e+06     5205.000000     52018.000000  5.229036e+07   \n",
       "\n",
       "       POPULACAO_ESTIMADA  N_MATRICULA_MUN_19  N_MATRICULA_ENT_19  \\\n",
       "count        4.486000e+03         4486.000000         4486.000000   \n",
       "mean         3.500898e+05        68069.947169          334.284440   \n",
       "std          5.466981e+05       100391.516837          314.563188   \n",
       "min          1.149000e+03          169.000000            3.000000   \n",
       "25%          1.847800e+04         3837.000000          117.000000   \n",
       "50%          7.137600e+04        19219.000000          232.000000   \n",
       "75%          3.869230e+05        89054.000000          453.000000   \n",
       "max          1.516113e+06       279830.000000         4036.000000   \n",
       "\n",
       "       N_MATRICULA_INTEGRAL_ENT_19  N_MATRICULA_MUN_20  N_MATRICULA_ENT_20  \\\n",
       "count                  4486.000000          4486.00000         4486.000000   \n",
       "mean                     22.965671         67360.78667          329.398796   \n",
       "std                      56.259014         99350.24438          310.384898   \n",
       "min                       0.000000           176.00000            3.000000   \n",
       "25%                       0.000000          3604.00000          112.000000   \n",
       "50%                       0.000000         17097.00000          230.000000   \n",
       "75%                       3.000000         85693.00000          449.000000   \n",
       "max                     822.000000        276809.00000         2736.000000   \n",
       "\n",
       "       N_MATRICULA_INTEGRAL_ENT_20  SCORE_MAT_MUN_20_19  SCORE_MAT_ENT_20_19  \\\n",
       "count                  4486.000000          4486.000000          4486.000000   \n",
       "mean                     21.827686             0.978279             1.005872   \n",
       "std                      55.454232             0.057299             0.296979   \n",
       "min                       0.000000             0.424161             0.041667   \n",
       "25%                       0.000000             0.962259             0.901830   \n",
       "50%                       0.000000             0.989204             0.989092   \n",
       "75%                       2.000000             1.011497             1.070212   \n",
       "max                     828.000000             1.139116             7.862745   \n",
       "\n",
       "       SCORE_MAT_INTEGRAL_ENT_20_19  \n",
       "count                   1440.000000  \n",
       "mean                            inf  \n",
       "std                             NaN  \n",
       "min                        0.000000  \n",
       "25%                        0.584858  \n",
       "50%                        0.960590  \n",
       "75%                        1.136648  \n",
       "max                             inf  "
      ]
     },
     "execution_count": 31,
     "metadata": {},
     "output_type": "execute_result"
    }
   ],
   "source": [
    "df3.describe()"
   ]
  },
  {
   "cell_type": "markdown",
   "id": "c5abfb93",
   "metadata": {},
   "source": [
    "#### Retirando inf e NaN de SCORE_MAT_INTEGRAL_ENT_20_19. Erro no fit() | Problema de divisão por zero"
   ]
  },
  {
   "cell_type": "code",
   "execution_count": 32,
   "id": "49393792",
   "metadata": {},
   "outputs": [],
   "source": [
    "df3[\"SCORE_MAT_INTEGRAL_ENT_20_19\"] = df3[\"SCORE_MAT_INTEGRAL_ENT_20_19\"].replace([np.inf, -np.inf], np.nan)"
   ]
  },
  {
   "cell_type": "code",
   "execution_count": 33,
   "id": "9272667f",
   "metadata": {},
   "outputs": [],
   "source": [
    "df3[\"SCORE_MAT_INTEGRAL_ENT_20_19\"] = df3[\"SCORE_MAT_INTEGRAL_ENT_20_19\"].fillna(0)"
   ]
  },
  {
   "cell_type": "markdown",
   "id": "d55c1242",
   "metadata": {},
   "source": [
    "#### Descrevendo os dados dos atributos de interesse"
   ]
  },
  {
   "cell_type": "code",
   "execution_count": 49,
   "id": "ae742464",
   "metadata": {},
   "outputs": [
    {
     "data": {
      "text/html": [
       "<div>\n",
       "<style scoped>\n",
       "    .dataframe tbody tr th:only-of-type {\n",
       "        vertical-align: middle;\n",
       "    }\n",
       "\n",
       "    .dataframe tbody tr th {\n",
       "        vertical-align: top;\n",
       "    }\n",
       "\n",
       "    .dataframe thead th {\n",
       "        text-align: right;\n",
       "    }\n",
       "</style>\n",
       "<table border=\"1\" class=\"dataframe\">\n",
       "  <thead>\n",
       "    <tr style=\"text-align: right;\">\n",
       "      <th></th>\n",
       "      <th>POPULACAO_ESTIMADA</th>\n",
       "      <th>SCORE_MAT_MUN_20_19</th>\n",
       "      <th>SCORE_MAT_ENT_20_19</th>\n",
       "      <th>SCORE_MAT_INTEGRAL_ENT_20_19</th>\n",
       "    </tr>\n",
       "  </thead>\n",
       "  <tbody>\n",
       "    <tr>\n",
       "      <th>count</th>\n",
       "      <td>4.486000e+03</td>\n",
       "      <td>4486.000000</td>\n",
       "      <td>4486.000000</td>\n",
       "      <td>4486.000000</td>\n",
       "    </tr>\n",
       "    <tr>\n",
       "      <th>mean</th>\n",
       "      <td>3.500898e+05</td>\n",
       "      <td>0.978279</td>\n",
       "      <td>1.005872</td>\n",
       "      <td>0.447224</td>\n",
       "    </tr>\n",
       "    <tr>\n",
       "      <th>std</th>\n",
       "      <td>5.466981e+05</td>\n",
       "      <td>0.057299</td>\n",
       "      <td>0.296979</td>\n",
       "      <td>4.565774</td>\n",
       "    </tr>\n",
       "    <tr>\n",
       "      <th>min</th>\n",
       "      <td>1.149000e+03</td>\n",
       "      <td>0.424161</td>\n",
       "      <td>0.041667</td>\n",
       "      <td>0.000000</td>\n",
       "    </tr>\n",
       "    <tr>\n",
       "      <th>25%</th>\n",
       "      <td>1.847800e+04</td>\n",
       "      <td>0.962259</td>\n",
       "      <td>0.901830</td>\n",
       "      <td>0.000000</td>\n",
       "    </tr>\n",
       "    <tr>\n",
       "      <th>50%</th>\n",
       "      <td>7.137600e+04</td>\n",
       "      <td>0.989204</td>\n",
       "      <td>0.989092</td>\n",
       "      <td>0.000000</td>\n",
       "    </tr>\n",
       "    <tr>\n",
       "      <th>75%</th>\n",
       "      <td>3.869230e+05</td>\n",
       "      <td>1.011497</td>\n",
       "      <td>1.070212</td>\n",
       "      <td>0.000000</td>\n",
       "    </tr>\n",
       "    <tr>\n",
       "      <th>max</th>\n",
       "      <td>1.516113e+06</td>\n",
       "      <td>1.139116</td>\n",
       "      <td>7.862745</td>\n",
       "      <td>187.000000</td>\n",
       "    </tr>\n",
       "  </tbody>\n",
       "</table>\n",
       "</div>"
      ],
      "text/plain": [
       "       POPULACAO_ESTIMADA  SCORE_MAT_MUN_20_19  SCORE_MAT_ENT_20_19  \\\n",
       "count        4.486000e+03          4486.000000          4486.000000   \n",
       "mean         3.500898e+05             0.978279             1.005872   \n",
       "std          5.466981e+05             0.057299             0.296979   \n",
       "min          1.149000e+03             0.424161             0.041667   \n",
       "25%          1.847800e+04             0.962259             0.901830   \n",
       "50%          7.137600e+04             0.989204             0.989092   \n",
       "75%          3.869230e+05             1.011497             1.070212   \n",
       "max          1.516113e+06             1.139116             7.862745   \n",
       "\n",
       "       SCORE_MAT_INTEGRAL_ENT_20_19  \n",
       "count                   4486.000000  \n",
       "mean                       0.447224  \n",
       "std                        4.565774  \n",
       "min                        0.000000  \n",
       "25%                        0.000000  \n",
       "50%                        0.000000  \n",
       "75%                        0.000000  \n",
       "max                      187.000000  "
      ]
     },
     "execution_count": 49,
     "metadata": {},
     "output_type": "execute_result"
    }
   ],
   "source": [
    "df3[['POPULACAO_ESTIMADA','SCORE_MAT_MUN_20_19','SCORE_MAT_ENT_20_19','SCORE_MAT_INTEGRAL_ENT_20_19']].describe()"
   ]
  },
  {
   "cell_type": "markdown",
   "id": "f6d24dee",
   "metadata": {},
   "source": [
    "#### Visualização dos atributos com a biblioteca Seaborn"
   ]
  },
  {
   "cell_type": "code",
   "execution_count": 43,
   "id": "d4c79d4b",
   "metadata": {},
   "outputs": [
    {
     "data": {
      "text/plain": [
       "<AxesSubplot:xlabel='POPULACAO_ESTIMADA'>"
      ]
     },
     "execution_count": 43,
     "metadata": {},
     "output_type": "execute_result"
    },
    {
     "data": {
      "image/png": "[encoded data removed]",
      "text/plain": [
       "<Figure size 432x288 with 1 Axes>"
      ]
     },
     "metadata": {
      "needs_background": "light"
     },
     "output_type": "display_data"
    }
   ],
   "source": [
    "sns.boxplot(x=df3['POPULACAO_ESTIMADA'])"
   ]
  },
  {
   "cell_type": "code",
   "execution_count": 35,
   "id": "f1ac38a4",
   "metadata": {},
   "outputs": [
    {
     "data": {
      "text/plain": [
       "<AxesSubplot:xlabel='SCORE_MAT_MUN_20_19'>"
      ]
     },
     "execution_count": 35,
     "metadata": {},
     "output_type": "execute_result"
    },
    {
     "data": {
      "image/png": "[encoded data removed]",
      "text/plain": [
       "<Figure size 432x288 with 1 Axes>"
      ]
     },
     "metadata": {
      "needs_background": "light"
     },
     "output_type": "display_data"
    }
   ],
   "source": [
    "sns.boxplot(x=df3['SCORE_MAT_MUN_20_19'], orient=\"h\")"
   ]
  },
  {
   "cell_type": "code",
   "execution_count": 44,
   "id": "c3aa5ae9",
   "metadata": {},
   "outputs": [
    {
     "data": {
      "text/plain": [
       "<AxesSubplot:xlabel='SCORE_MAT_ENT_20_19'>"
      ]
     },
     "execution_count": 44,
     "metadata": {},
     "output_type": "execute_result"
    },
    {
     "data": {
      "image/png": "[encoded data removed]",
      "text/plain": [
       "<Figure size 432x288 with 1 Axes>"
      ]
     },
     "metadata": {
      "needs_background": "light"
     },
     "output_type": "display_data"
    }
   ],
   "source": [
    "sns.boxplot(x=df3['SCORE_MAT_ENT_20_19'], orient=\"h\")"
   ]
  },
  {
   "cell_type": "code",
   "execution_count": 45,
   "id": "ac449642",
   "metadata": {},
   "outputs": [
    {
     "data": {
      "text/plain": [
       "<AxesSubplot:xlabel='SCORE_MAT_INTEGRAL_ENT_20_19'>"
      ]
     },
     "execution_count": 45,
     "metadata": {},
     "output_type": "execute_result"
    },
    {
     "data": {
      "image/png": "[encoded data removed]",
      "text/plain": [
       "<Figure size 432x288 with 1 Axes>"
      ]
     },
     "metadata": {
      "needs_background": "light"
     },
     "output_type": "display_data"
    }
   ],
   "source": [
    "sns.boxplot(x=df3['SCORE_MAT_INTEGRAL_ENT_20_19'], orient=\"h\")"
   ]
  },
  {
   "cell_type": "code",
   "execution_count": null,
   "id": "61731a0c",
   "metadata": {},
   "outputs": [],
   "source": []
  },
  {
   "cell_type": "code",
   "execution_count": 37,
   "id": "22147c2f",
   "metadata": {},
   "outputs": [
    {
     "data": {
      "text/plain": [
       "<seaborn.axisgrid.FacetGrid at 0x23177efd940>"
      ]
     },
     "execution_count": 37,
     "metadata": {},
     "output_type": "execute_result"
    },
    {
     "data": {
      "image/png": "[encoded data removed]",
      "text/plain": [
       "<Figure size 542.25x360 with 1 Axes>"
      ]
     },
     "metadata": {
      "needs_background": "light"
     },
     "output_type": "display_data"
    }
   ],
   "source": [
    "sns.set_palette('colorblind')\n",
    "\n",
    "sns.relplot(x='SCORE_MAT_MUN_20_19', y='SCORE_MAT_ENT_20_19', hue='SCORE_MAT_INTEGRAL_ENT_20_19',  data=df3)"
   ]
  },
  {
   "cell_type": "code",
   "execution_count": 38,
   "id": "a79118c9",
   "metadata": {},
   "outputs": [
    {
     "data": {
      "text/plain": [
       "<seaborn.axisgrid.FacetGrid at 0x23177fe1640>"
      ]
     },
     "execution_count": 38,
     "metadata": {},
     "output_type": "execute_result"
    },
    {
     "data": {
      "image/png": "[encoded data removed]",
      "text/plain": [
       "<Figure size 360x360 with 1 Axes>"
      ]
     },
     "metadata": {
      "needs_background": "light"
     },
     "output_type": "display_data"
    }
   ],
   "source": [
    "sns.set_palette('colorblind')\n",
    "\n",
    "sns.relplot(x='SCORE_MAT_MUN_20_19', y='SCORE_MAT_ENT_20_19',  data=df3)"
   ]
  },
  {
   "cell_type": "code",
   "execution_count": 39,
   "id": "bb805526",
   "metadata": {},
   "outputs": [
    {
     "data": {
      "text/plain": [
       "<seaborn.axisgrid.FacetGrid at 0x23178052fa0>"
      ]
     },
     "execution_count": 39,
     "metadata": {},
     "output_type": "execute_result"
    },
    {
     "data": {
      "image/png": "[encoded data removed]",
      "text/plain": [
       "<Figure size 360x360 with 1 Axes>"
      ]
     },
     "metadata": {
      "needs_background": "light"
     },
     "output_type": "display_data"
    }
   ],
   "source": [
    "sns.set_palette('colorblind')\n",
    "\n",
    "sns.relplot(x='SCORE_MAT_MUN_20_19', y='SCORE_MAT_INTEGRAL_ENT_20_19',  data=df3)"
   ]
  },
  {
   "cell_type": "code",
   "execution_count": 40,
   "id": "bd966754",
   "metadata": {},
   "outputs": [
    {
     "data": {
      "text/plain": [
       "<seaborn.axisgrid.FacetGrid at 0x23178023610>"
      ]
     },
     "execution_count": 40,
     "metadata": {},
     "output_type": "execute_result"
    },
    {
     "data": {
      "image/png": "[encoded data removed]",
      "text/plain": [
       "<Figure size 360x360 with 1 Axes>"
      ]
     },
     "metadata": {
      "needs_background": "light"
     },
     "output_type": "display_data"
    }
   ],
   "source": [
    "sns.set_palette('colorblind')\n",
    "\n",
    "sns.relplot(x='SCORE_MAT_MUN_20_19', y='POPULACAO_ESTIMADA',  data=df3)"
   ]
  },
  {
   "cell_type": "code",
   "execution_count": 41,
   "id": "b1852fe1",
   "metadata": {},
   "outputs": [
    {
     "data": {
      "text/plain": [
       "<seaborn.axisgrid.PairGrid at 0x231780e5790>"
      ]
     },
     "execution_count": 41,
     "metadata": {},
     "output_type": "execute_result"
    },
    {
     "data": {
      "image/png": "[encoded data removed]",
      "text/plain": [
       "<Figure size 720x720 with 20 Axes>"
      ]
     },
     "metadata": {
      "needs_background": "light"
     },
     "output_type": "display_data"
    }
   ],
   "source": [
    "sns.pairplot(df3[['POPULACAO_ESTIMADA',\n",
    "  'SCORE_MAT_MUN_20_19',\n",
    " 'SCORE_MAT_ENT_20_19',\n",
    " 'SCORE_MAT_INTEGRAL_ENT_20_19']])"
   ]
  },
  {
   "cell_type": "markdown",
   "id": "32700370",
   "metadata": {},
   "source": [
    "#### Conclui definição de base exportando com to_csv:"
   ]
  },
  {
   "cell_type": "code",
   "execution_count": 42,
   "id": "645beef8",
   "metadata": {},
   "outputs": [],
   "source": [
    "df3.to_csv('base_pronta.csv', encoding='utf-8', sep=';', index = False)"
   ]
  },
  {
   "cell_type": "code",
   "execution_count": null,
   "id": "41ed1145",
   "metadata": {},
   "outputs": [],
   "source": []
  }
 ],
 "metadata": {
  "kernelspec": {
   "display_name": "Python 3",
   "language": "python",
   "name": "python3"
  },
  "language_info": {
   "codemirror_mode": {
    "name": "ipython",
    "version": 3
   },
   "file_extension": ".py",
   "mimetype": "text/x-python",
   "name": "python",
   "nbconvert_exporter": "python",
   "pygments_lexer": "ipython3",
   "version": "3.8.8"
  }
 },
 "nbformat": 4,
 "nbformat_minor": 5
}
