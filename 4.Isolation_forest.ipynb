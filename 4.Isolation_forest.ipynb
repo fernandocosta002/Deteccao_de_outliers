{
 "cells": [
  {
   "cell_type": "markdown",
   "id": "0d7d701c",
   "metadata": {},
   "source": [
    "### 4.ISOLATION_FOREST"
   ]
  },
  {
   "cell_type": "code",
   "execution_count": 1,
   "id": "7673831a",
   "metadata": {},
   "outputs": [],
   "source": [
    "import pandas as pd\n",
    "import numpy as np\n",
    "import matplotlib.pyplot as plt\n",
    "from sklearn.preprocessing import StandardScaler\n",
    "from sklearn.ensemble import IsolationForest"
   ]
  },
  {
   "cell_type": "code",
   "execution_count": 2,
   "id": "ec57f9ce",
   "metadata": {},
   "outputs": [],
   "source": [
    "df = pd.read_csv(\"base_pronta.csv\", sep=\";\")"
   ]
  },
  {
   "cell_type": "code",
   "execution_count": 3,
   "id": "f4d0840e",
   "metadata": {},
   "outputs": [
    {
     "data": {
      "text/plain": [
       "['CO_UF',\n",
       " 'UF',\n",
       " 'SIG_UF',\n",
       " 'CO_MUNICIPIO',\n",
       " 'MUNICIPIO',\n",
       " 'CO_MESORREGIAO',\n",
       " 'CO_MICRORREGIAO',\n",
       " 'CO_ENTIDADE',\n",
       " 'NOME_ENTIDADE',\n",
       " 'POPULACAO_ESTIMADA',\n",
       " 'N_MATRICULA_MUN_19',\n",
       " 'N_MATRICULA_ENT_19',\n",
       " 'N_MATRICULA_INTEGRAL_ENT_19',\n",
       " 'N_MATRICULA_MUN_20',\n",
       " 'N_MATRICULA_ENT_20',\n",
       " 'N_MATRICULA_INTEGRAL_ENT_20',\n",
       " 'SCORE_MAT_MUN_20_19',\n",
       " 'SCORE_MAT_ENT_20_19',\n",
       " 'SCORE_MAT_INTEGRAL_ENT_20_19']"
      ]
     },
     "execution_count": 3,
     "metadata": {},
     "output_type": "execute_result"
    }
   ],
   "source": [
    "df.columns.tolist()"
   ]
  },
  {
   "cell_type": "code",
   "execution_count": 4,
   "id": "d5e6315c",
   "metadata": {},
   "outputs": [],
   "source": [
    "df_var_numericas = df[[\n",
    "       'POPULACAO_ESTIMADA',\n",
    "       'SCORE_MAT_MUN_20_19',\n",
    "       'SCORE_MAT_ENT_20_19',\n",
    "       'SCORE_MAT_INTEGRAL_ENT_20_19'\n",
    "    ]]"
   ]
  },
  {
   "cell_type": "code",
   "execution_count": 5,
   "id": "bbd06bd8",
   "metadata": {},
   "outputs": [],
   "source": [
    "def check_missing_att(df):\n",
    "    # verificando atributos faltantes\n",
    "    for var in df:\n",
    "        # somamos o número de variáveis nulas (NaN)\n",
    "        nullatt = np.sum(df[var].isnull())\n",
    "        if nullatt > 0:\n",
    "            print(var,\"- faltantes: \", end='')\n",
    "            print(nullatt)"
   ]
  },
  {
   "cell_type": "code",
   "execution_count": 6,
   "id": "7baa8bbf",
   "metadata": {},
   "outputs": [],
   "source": [
    "check_missing_att(df_var_numericas)"
   ]
  },
  {
   "cell_type": "code",
   "execution_count": 7,
   "id": "3def8ce2",
   "metadata": {},
   "outputs": [
    {
     "data": {
      "text/html": [
       "<div>\n",
       "<style scoped>\n",
       "    .dataframe tbody tr th:only-of-type {\n",
       "        vertical-align: middle;\n",
       "    }\n",
       "\n",
       "    .dataframe tbody tr th {\n",
       "        vertical-align: top;\n",
       "    }\n",
       "\n",
       "    .dataframe thead th {\n",
       "        text-align: right;\n",
       "    }\n",
       "</style>\n",
       "<table border=\"1\" class=\"dataframe\">\n",
       "  <thead>\n",
       "    <tr style=\"text-align: right;\">\n",
       "      <th></th>\n",
       "      <th>POPULACAO_ESTIMADA</th>\n",
       "      <th>SCORE_MAT_MUN_20_19</th>\n",
       "      <th>SCORE_MAT_ENT_20_19</th>\n",
       "      <th>SCORE_MAT_INTEGRAL_ENT_20_19</th>\n",
       "    </tr>\n",
       "  </thead>\n",
       "  <tbody>\n",
       "    <tr>\n",
       "      <th>0</th>\n",
       "      <td>1516113</td>\n",
       "      <td>0.989204</td>\n",
       "      <td>0.791139</td>\n",
       "      <td>0.0</td>\n",
       "    </tr>\n",
       "    <tr>\n",
       "      <th>1</th>\n",
       "      <td>235647</td>\n",
       "      <td>1.045727</td>\n",
       "      <td>1.188869</td>\n",
       "      <td>0.0</td>\n",
       "    </tr>\n",
       "    <tr>\n",
       "      <th>2</th>\n",
       "      <td>168468</td>\n",
       "      <td>0.966079</td>\n",
       "      <td>0.876020</td>\n",
       "      <td>0.0</td>\n",
       "    </tr>\n",
       "  </tbody>\n",
       "</table>\n",
       "</div>"
      ],
      "text/plain": [
       "   POPULACAO_ESTIMADA  SCORE_MAT_MUN_20_19  SCORE_MAT_ENT_20_19  \\\n",
       "0             1516113             0.989204             0.791139   \n",
       "1              235647             1.045727             1.188869   \n",
       "2              168468             0.966079             0.876020   \n",
       "\n",
       "   SCORE_MAT_INTEGRAL_ENT_20_19  \n",
       "0                           0.0  \n",
       "1                           0.0  \n",
       "2                           0.0  "
      ]
     },
     "execution_count": 7,
     "metadata": {},
     "output_type": "execute_result"
    }
   ],
   "source": [
    "df_var_numericas.head(3)"
   ]
  },
  {
   "cell_type": "code",
   "execution_count": 8,
   "id": "786e5d49",
   "metadata": {},
   "outputs": [],
   "source": [
    "df_var_numericas = df_var_numericas.fillna(0)"
   ]
  },
  {
   "cell_type": "code",
   "execution_count": 9,
   "id": "e405d832",
   "metadata": {},
   "outputs": [],
   "source": [
    "check_missing_att(df_var_numericas)"
   ]
  },
  {
   "cell_type": "code",
   "execution_count": 10,
   "id": "b780dd18",
   "metadata": {},
   "outputs": [
    {
     "data": {
      "text/html": [
       "<div>\n",
       "<style scoped>\n",
       "    .dataframe tbody tr th:only-of-type {\n",
       "        vertical-align: middle;\n",
       "    }\n",
       "\n",
       "    .dataframe tbody tr th {\n",
       "        vertical-align: top;\n",
       "    }\n",
       "\n",
       "    .dataframe thead th {\n",
       "        text-align: right;\n",
       "    }\n",
       "</style>\n",
       "<table border=\"1\" class=\"dataframe\">\n",
       "  <thead>\n",
       "    <tr style=\"text-align: right;\">\n",
       "      <th></th>\n",
       "      <th>POPULACAO_ESTIMADA</th>\n",
       "      <th>SCORE_MAT_MUN_20_19</th>\n",
       "      <th>SCORE_MAT_ENT_20_19</th>\n",
       "      <th>SCORE_MAT_INTEGRAL_ENT_20_19</th>\n",
       "    </tr>\n",
       "  </thead>\n",
       "  <tbody>\n",
       "    <tr>\n",
       "      <th>0</th>\n",
       "      <td>1516113</td>\n",
       "      <td>0.989204</td>\n",
       "      <td>0.791139</td>\n",
       "      <td>0.000000</td>\n",
       "    </tr>\n",
       "    <tr>\n",
       "      <th>1</th>\n",
       "      <td>235647</td>\n",
       "      <td>1.045727</td>\n",
       "      <td>1.188869</td>\n",
       "      <td>0.000000</td>\n",
       "    </tr>\n",
       "    <tr>\n",
       "      <th>2</th>\n",
       "      <td>168468</td>\n",
       "      <td>0.966079</td>\n",
       "      <td>0.876020</td>\n",
       "      <td>0.000000</td>\n",
       "    </tr>\n",
       "    <tr>\n",
       "      <th>3</th>\n",
       "      <td>21993</td>\n",
       "      <td>0.860054</td>\n",
       "      <td>0.913677</td>\n",
       "      <td>0.000000</td>\n",
       "    </tr>\n",
       "    <tr>\n",
       "      <th>4</th>\n",
       "      <td>42900</td>\n",
       "      <td>0.939561</td>\n",
       "      <td>0.720461</td>\n",
       "      <td>0.068182</td>\n",
       "    </tr>\n",
       "  </tbody>\n",
       "</table>\n",
       "</div>"
      ],
      "text/plain": [
       "   POPULACAO_ESTIMADA  SCORE_MAT_MUN_20_19  SCORE_MAT_ENT_20_19  \\\n",
       "0             1516113             0.989204             0.791139   \n",
       "1              235647             1.045727             1.188869   \n",
       "2              168468             0.966079             0.876020   \n",
       "3               21993             0.860054             0.913677   \n",
       "4               42900             0.939561             0.720461   \n",
       "\n",
       "   SCORE_MAT_INTEGRAL_ENT_20_19  \n",
       "0                      0.000000  \n",
       "1                      0.000000  \n",
       "2                      0.000000  \n",
       "3                      0.000000  \n",
       "4                      0.068182  "
      ]
     },
     "execution_count": 10,
     "metadata": {},
     "output_type": "execute_result"
    }
   ],
   "source": [
    "df_var_numericas.head()"
   ]
  },
  {
   "cell_type": "markdown",
   "id": "f7d4c048",
   "metadata": {},
   "source": [
    "#### Normalizando os dados:"
   ]
  },
  {
   "cell_type": "code",
   "execution_count": 11,
   "id": "f569db23",
   "metadata": {},
   "outputs": [],
   "source": [
    "base_normal = StandardScaler().fit_transform(df_var_numericas)"
   ]
  },
  {
   "cell_type": "code",
   "execution_count": 12,
   "id": "303446cc",
   "metadata": {},
   "outputs": [
    {
     "data": {
      "text/plain": [
       "array([[ 2.13308437,  0.19069779, -0.72313812, -0.09796226],\n",
       "       [-0.20935784,  1.17727102,  0.61626152, -0.09796226],\n",
       "       [-0.33225289, -0.21293223, -0.43729378, -0.09796226],\n",
       "       ...,\n",
       "       [-0.25181196, -0.07408363, -1.17185438, -0.09796226],\n",
       "       [-0.63482287, -0.0572268 , -0.90726973, -0.09796226],\n",
       "       [-0.61115635,  0.90618571,  0.18170591, -0.09796226]])"
      ]
     },
     "execution_count": 12,
     "metadata": {},
     "output_type": "execute_result"
    }
   ],
   "source": [
    "base_normal"
   ]
  },
  {
   "cell_type": "code",
   "execution_count": 13,
   "id": "b18883c7",
   "metadata": {},
   "outputs": [
    {
     "data": {
      "text/plain": [
       "(4486, 4)"
      ]
     },
     "execution_count": 13,
     "metadata": {},
     "output_type": "execute_result"
    }
   ],
   "source": [
    "base_normal.shape"
   ]
  },
  {
   "cell_type": "markdown",
   "id": "cff4d5d1",
   "metadata": {},
   "source": [
    "#### Ajustando a Isolation Forest"
   ]
  },
  {
   "cell_type": "code",
   "execution_count": 14,
   "id": "d3706b11",
   "metadata": {},
   "outputs": [],
   "source": [
    "n_estimators = 100 #default\n",
    "max_samples = 4486\n",
    "contamination = 0.028"
   ]
  },
  {
   "cell_type": "code",
   "execution_count": 15,
   "id": "df8c168f",
   "metadata": {},
   "outputs": [],
   "source": [
    "clf = IsolationForest(n_estimators = n_estimators, max_samples = max_samples, contamination = contamination, random_state=0)\n",
    "clf.fit(base_normal)\n",
    "y = clf.predict(base_normal)"
   ]
  },
  {
   "cell_type": "code",
   "execution_count": 16,
   "id": "6db2410c",
   "metadata": {},
   "outputs": [
    {
     "data": {
      "text/plain": [
       "(4486,)"
      ]
     },
     "execution_count": 16,
     "metadata": {},
     "output_type": "execute_result"
    }
   ],
   "source": [
    "y.shape"
   ]
  },
  {
   "cell_type": "code",
   "execution_count": 17,
   "id": "1b52633f",
   "metadata": {},
   "outputs": [],
   "source": [
    "Isolation_result = pd.DataFrame(y, columns=['IF_resultado'])"
   ]
  },
  {
   "cell_type": "code",
   "execution_count": 18,
   "id": "a8718c04",
   "metadata": {},
   "outputs": [
    {
     "data": {
      "text/plain": [
       "(126, 1)"
      ]
     },
     "execution_count": 18,
     "metadata": {},
     "output_type": "execute_result"
    }
   ],
   "source": [
    "Isolation_result.loc[Isolation_result['IF_resultado'] == -1].shape"
   ]
  },
  {
   "cell_type": "markdown",
   "id": "99e7351f",
   "metadata": {},
   "source": [
    "| n_estimators | max_samples | contamination | quant. outliers |\n",
    "| --- | --- | --- | --- |\n",
    "| 100 | 4486 | 0.1 | 449 |\n",
    "| 100 | 4486 | 0.09 | 404 |\n",
    "| 100 | 4486 | 0.05 | 225 |\n",
    "| 100 | 4486 | 0.03 | 135 |\n",
    "| 100 | 4486 | 0.028 | 126 |"
   ]
  },
  {
   "cell_type": "code",
   "execution_count": 19,
   "id": "65aaa942",
   "metadata": {},
   "outputs": [
    {
     "data": {
      "text/html": [
       "<div>\n",
       "<style scoped>\n",
       "    .dataframe tbody tr th:only-of-type {\n",
       "        vertical-align: middle;\n",
       "    }\n",
       "\n",
       "    .dataframe tbody tr th {\n",
       "        vertical-align: top;\n",
       "    }\n",
       "\n",
       "    .dataframe thead th {\n",
       "        text-align: right;\n",
       "    }\n",
       "</style>\n",
       "<table border=\"1\" class=\"dataframe\">\n",
       "  <thead>\n",
       "    <tr style=\"text-align: right;\">\n",
       "      <th></th>\n",
       "      <th>IF_resultado</th>\n",
       "    </tr>\n",
       "  </thead>\n",
       "  <tbody>\n",
       "    <tr>\n",
       "      <th>1859</th>\n",
       "      <td>1</td>\n",
       "    </tr>\n",
       "    <tr>\n",
       "      <th>2467</th>\n",
       "      <td>1</td>\n",
       "    </tr>\n",
       "    <tr>\n",
       "      <th>641</th>\n",
       "      <td>1</td>\n",
       "    </tr>\n",
       "  </tbody>\n",
       "</table>\n",
       "</div>"
      ],
      "text/plain": [
       "      IF_resultado\n",
       "1859             1\n",
       "2467             1\n",
       "641              1"
      ]
     },
     "execution_count": 19,
     "metadata": {},
     "output_type": "execute_result"
    }
   ],
   "source": [
    "Isolation_result.sample(3)"
   ]
  },
  {
   "cell_type": "code",
   "execution_count": 20,
   "id": "474a3f24",
   "metadata": {},
   "outputs": [
    {
     "data": {
      "text/plain": [
       "(4486, 1)"
      ]
     },
     "execution_count": 20,
     "metadata": {},
     "output_type": "execute_result"
    }
   ],
   "source": [
    "Isolation_result.shape"
   ]
  },
  {
   "cell_type": "code",
   "execution_count": 21,
   "id": "f40ebd50",
   "metadata": {},
   "outputs": [],
   "source": [
    "df_avalicacao = pd.concat([df, Isolation_result], axis=1)"
   ]
  },
  {
   "cell_type": "code",
   "execution_count": 22,
   "id": "5edff94a",
   "metadata": {},
   "outputs": [
    {
     "data": {
      "text/html": [
       "<div>\n",
       "<style scoped>\n",
       "    .dataframe tbody tr th:only-of-type {\n",
       "        vertical-align: middle;\n",
       "    }\n",
       "\n",
       "    .dataframe tbody tr th {\n",
       "        vertical-align: top;\n",
       "    }\n",
       "\n",
       "    .dataframe thead th {\n",
       "        text-align: right;\n",
       "    }\n",
       "</style>\n",
       "<table border=\"1\" class=\"dataframe\">\n",
       "  <thead>\n",
       "    <tr style=\"text-align: right;\">\n",
       "      <th></th>\n",
       "      <th>CO_UF</th>\n",
       "      <th>UF</th>\n",
       "      <th>SIG_UF</th>\n",
       "      <th>CO_MUNICIPIO</th>\n",
       "      <th>MUNICIPIO</th>\n",
       "      <th>CO_MESORREGIAO</th>\n",
       "      <th>CO_MICRORREGIAO</th>\n",
       "      <th>CO_ENTIDADE</th>\n",
       "      <th>NOME_ENTIDADE</th>\n",
       "      <th>POPULACAO_ESTIMADA</th>\n",
       "      <th>N_MATRICULA_MUN_19</th>\n",
       "      <th>N_MATRICULA_ENT_19</th>\n",
       "      <th>N_MATRICULA_INTEGRAL_ENT_19</th>\n",
       "      <th>N_MATRICULA_MUN_20</th>\n",
       "      <th>N_MATRICULA_ENT_20</th>\n",
       "      <th>N_MATRICULA_INTEGRAL_ENT_20</th>\n",
       "      <th>SCORE_MAT_MUN_20_19</th>\n",
       "      <th>SCORE_MAT_ENT_20_19</th>\n",
       "      <th>SCORE_MAT_INTEGRAL_ENT_20_19</th>\n",
       "      <th>IF_resultado</th>\n",
       "    </tr>\n",
       "  </thead>\n",
       "  <tbody>\n",
       "    <tr>\n",
       "      <th>1664</th>\n",
       "      <td>52</td>\n",
       "      <td>Goias</td>\n",
       "      <td>GO</td>\n",
       "      <td>5203500</td>\n",
       "      <td>Bom Jesus de Goiás</td>\n",
       "      <td>5205</td>\n",
       "      <td>52015</td>\n",
       "      <td>52099334</td>\n",
       "      <td>ESCOLA MUNICIPAL RUI BARBOSA PEREIRA FILHO</td>\n",
       "      <td>25216</td>\n",
       "      <td>5523</td>\n",
       "      <td>279</td>\n",
       "      <td>0.0</td>\n",
       "      <td>5563</td>\n",
       "      <td>293</td>\n",
       "      <td>0.0</td>\n",
       "      <td>1.007242</td>\n",
       "      <td>1.050179</td>\n",
       "      <td>0.0</td>\n",
       "      <td>1</td>\n",
       "    </tr>\n",
       "    <tr>\n",
       "      <th>4107</th>\n",
       "      <td>52</td>\n",
       "      <td>Goias</td>\n",
       "      <td>GO</td>\n",
       "      <td>5208608</td>\n",
       "      <td>Goianésia</td>\n",
       "      <td>5203</td>\n",
       "      <td>52006</td>\n",
       "      <td>52015963</td>\n",
       "      <td>ESCOLA ESTADUAL LUIZ GONZAGA SOBRINHO</td>\n",
       "      <td>70084</td>\n",
       "      <td>16771</td>\n",
       "      <td>238</td>\n",
       "      <td>0.0</td>\n",
       "      <td>17097</td>\n",
       "      <td>253</td>\n",
       "      <td>0.0</td>\n",
       "      <td>1.019438</td>\n",
       "      <td>1.063025</td>\n",
       "      <td>0.0</td>\n",
       "      <td>1</td>\n",
       "    </tr>\n",
       "    <tr>\n",
       "      <th>1690</th>\n",
       "      <td>52</td>\n",
       "      <td>Goias</td>\n",
       "      <td>GO</td>\n",
       "      <td>5211800</td>\n",
       "      <td>Jaraguá</td>\n",
       "      <td>5203</td>\n",
       "      <td>52007</td>\n",
       "      <td>52024733</td>\n",
       "      <td>COLEGIO ESTADUAL MANOEL RIBEIRO FREITAS MACHADO</td>\n",
       "      <td>50511</td>\n",
       "      <td>9795</td>\n",
       "      <td>503</td>\n",
       "      <td>0.0</td>\n",
       "      <td>9521</td>\n",
       "      <td>514</td>\n",
       "      <td>0.0</td>\n",
       "      <td>0.972027</td>\n",
       "      <td>1.021869</td>\n",
       "      <td>0.0</td>\n",
       "      <td>1</td>\n",
       "    </tr>\n",
       "  </tbody>\n",
       "</table>\n",
       "</div>"
      ],
      "text/plain": [
       "      CO_UF     UF SIG_UF  CO_MUNICIPIO           MUNICIPIO  CO_MESORREGIAO  \\\n",
       "1664     52  Goias     GO       5203500  Bom Jesus de Goiás            5205   \n",
       "4107     52  Goias     GO       5208608           Goianésia            5203   \n",
       "1690     52  Goias     GO       5211800             Jaraguá            5203   \n",
       "\n",
       "      CO_MICRORREGIAO  CO_ENTIDADE  \\\n",
       "1664            52015     52099334   \n",
       "4107            52006     52015963   \n",
       "1690            52007     52024733   \n",
       "\n",
       "                                        NOME_ENTIDADE  POPULACAO_ESTIMADA  \\\n",
       "1664       ESCOLA MUNICIPAL RUI BARBOSA PEREIRA FILHO               25216   \n",
       "4107            ESCOLA ESTADUAL LUIZ GONZAGA SOBRINHO               70084   \n",
       "1690  COLEGIO ESTADUAL MANOEL RIBEIRO FREITAS MACHADO               50511   \n",
       "\n",
       "      N_MATRICULA_MUN_19  N_MATRICULA_ENT_19  N_MATRICULA_INTEGRAL_ENT_19  \\\n",
       "1664                5523                 279                          0.0   \n",
       "4107               16771                 238                          0.0   \n",
       "1690                9795                 503                          0.0   \n",
       "\n",
       "      N_MATRICULA_MUN_20  N_MATRICULA_ENT_20  N_MATRICULA_INTEGRAL_ENT_20  \\\n",
       "1664                5563                 293                          0.0   \n",
       "4107               17097                 253                          0.0   \n",
       "1690                9521                 514                          0.0   \n",
       "\n",
       "      SCORE_MAT_MUN_20_19  SCORE_MAT_ENT_20_19  SCORE_MAT_INTEGRAL_ENT_20_19  \\\n",
       "1664             1.007242             1.050179                           0.0   \n",
       "4107             1.019438             1.063025                           0.0   \n",
       "1690             0.972027             1.021869                           0.0   \n",
       "\n",
       "      IF_resultado  \n",
       "1664             1  \n",
       "4107             1  \n",
       "1690             1  "
      ]
     },
     "execution_count": 22,
     "metadata": {},
     "output_type": "execute_result"
    }
   ],
   "source": [
    "df_avalicacao.sample(3)"
   ]
  },
  {
   "cell_type": "code",
   "execution_count": 23,
   "id": "22ea2657",
   "metadata": {},
   "outputs": [],
   "source": [
    "df_noise = df_avalicacao.loc[df_avalicacao['IF_resultado'] == -1]"
   ]
  },
  {
   "cell_type": "code",
   "execution_count": 24,
   "id": "19920980",
   "metadata": {},
   "outputs": [
    {
     "data": {
      "text/plain": [
       "(126, 20)"
      ]
     },
     "execution_count": 24,
     "metadata": {},
     "output_type": "execute_result"
    }
   ],
   "source": [
    "df_noise.shape"
   ]
  },
  {
   "cell_type": "code",
   "execution_count": 25,
   "id": "6fcbbb31",
   "metadata": {},
   "outputs": [
    {
     "data": {
      "text/html": [
       "<div>\n",
       "<style scoped>\n",
       "    .dataframe tbody tr th:only-of-type {\n",
       "        vertical-align: middle;\n",
       "    }\n",
       "\n",
       "    .dataframe tbody tr th {\n",
       "        vertical-align: top;\n",
       "    }\n",
       "\n",
       "    .dataframe thead th {\n",
       "        text-align: right;\n",
       "    }\n",
       "</style>\n",
       "<table border=\"1\" class=\"dataframe\">\n",
       "  <thead>\n",
       "    <tr style=\"text-align: right;\">\n",
       "      <th></th>\n",
       "      <th>CO_UF</th>\n",
       "      <th>UF</th>\n",
       "      <th>SIG_UF</th>\n",
       "      <th>CO_MUNICIPIO</th>\n",
       "      <th>MUNICIPIO</th>\n",
       "      <th>CO_MESORREGIAO</th>\n",
       "      <th>CO_MICRORREGIAO</th>\n",
       "      <th>CO_ENTIDADE</th>\n",
       "      <th>NOME_ENTIDADE</th>\n",
       "      <th>POPULACAO_ESTIMADA</th>\n",
       "      <th>N_MATRICULA_MUN_19</th>\n",
       "      <th>N_MATRICULA_ENT_19</th>\n",
       "      <th>N_MATRICULA_INTEGRAL_ENT_19</th>\n",
       "      <th>N_MATRICULA_MUN_20</th>\n",
       "      <th>N_MATRICULA_ENT_20</th>\n",
       "      <th>N_MATRICULA_INTEGRAL_ENT_20</th>\n",
       "      <th>SCORE_MAT_MUN_20_19</th>\n",
       "      <th>SCORE_MAT_ENT_20_19</th>\n",
       "      <th>SCORE_MAT_INTEGRAL_ENT_20_19</th>\n",
       "      <th>IF_resultado</th>\n",
       "    </tr>\n",
       "  </thead>\n",
       "  <tbody>\n",
       "    <tr>\n",
       "      <th>11</th>\n",
       "      <td>52</td>\n",
       "      <td>Goias</td>\n",
       "      <td>GO</td>\n",
       "      <td>5208707</td>\n",
       "      <td>Goiânia</td>\n",
       "      <td>5203</td>\n",
       "      <td>52010</td>\n",
       "      <td>52094308</td>\n",
       "      <td>ESC MUL LUZIA DE SOUZA FIUZA</td>\n",
       "      <td>1516113</td>\n",
       "      <td>279830</td>\n",
       "      <td>519</td>\n",
       "      <td>1.0</td>\n",
       "      <td>276809</td>\n",
       "      <td>611</td>\n",
       "      <td>3.0</td>\n",
       "      <td>0.989204</td>\n",
       "      <td>1.177264</td>\n",
       "      <td>3.000000</td>\n",
       "      <td>-1</td>\n",
       "    </tr>\n",
       "    <tr>\n",
       "      <th>84</th>\n",
       "      <td>52</td>\n",
       "      <td>Goias</td>\n",
       "      <td>GO</td>\n",
       "      <td>5203906</td>\n",
       "      <td>Buriti Alegre</td>\n",
       "      <td>5205</td>\n",
       "      <td>52015</td>\n",
       "      <td>52108201</td>\n",
       "      <td>ESCOLA MUNICIPAL DE TEMPO INTEGRAL MARIA INEZ ...</td>\n",
       "      <td>9459</td>\n",
       "      <td>2269</td>\n",
       "      <td>307</td>\n",
       "      <td>110.0</td>\n",
       "      <td>1963</td>\n",
       "      <td>119</td>\n",
       "      <td>119.0</td>\n",
       "      <td>0.865139</td>\n",
       "      <td>0.387622</td>\n",
       "      <td>1.081818</td>\n",
       "      <td>-1</td>\n",
       "    </tr>\n",
       "    <tr>\n",
       "      <th>89</th>\n",
       "      <td>52</td>\n",
       "      <td>Goias</td>\n",
       "      <td>GO</td>\n",
       "      <td>5220702</td>\n",
       "      <td>Sítio d'Abadia</td>\n",
       "      <td>5204</td>\n",
       "      <td>52011</td>\n",
       "      <td>52077730</td>\n",
       "      <td>CEMEI - CENTRO MUNICIPAL DE EDUCACAO INFANTIL</td>\n",
       "      <td>2989</td>\n",
       "      <td>912</td>\n",
       "      <td>23</td>\n",
       "      <td>23.0</td>\n",
       "      <td>593</td>\n",
       "      <td>19</td>\n",
       "      <td>19.0</td>\n",
       "      <td>0.650219</td>\n",
       "      <td>0.826087</td>\n",
       "      <td>0.826087</td>\n",
       "      <td>-1</td>\n",
       "    </tr>\n",
       "  </tbody>\n",
       "</table>\n",
       "</div>"
      ],
      "text/plain": [
       "    CO_UF     UF SIG_UF  CO_MUNICIPIO       MUNICIPIO  CO_MESORREGIAO  \\\n",
       "11     52  Goias     GO       5208707         Goiânia            5203   \n",
       "84     52  Goias     GO       5203906   Buriti Alegre            5205   \n",
       "89     52  Goias     GO       5220702  Sítio d'Abadia            5204   \n",
       "\n",
       "    CO_MICRORREGIAO  CO_ENTIDADE  \\\n",
       "11            52010     52094308   \n",
       "84            52015     52108201   \n",
       "89            52011     52077730   \n",
       "\n",
       "                                        NOME_ENTIDADE  POPULACAO_ESTIMADA  \\\n",
       "11                       ESC MUL LUZIA DE SOUZA FIUZA             1516113   \n",
       "84  ESCOLA MUNICIPAL DE TEMPO INTEGRAL MARIA INEZ ...                9459   \n",
       "89      CEMEI - CENTRO MUNICIPAL DE EDUCACAO INFANTIL                2989   \n",
       "\n",
       "    N_MATRICULA_MUN_19  N_MATRICULA_ENT_19  N_MATRICULA_INTEGRAL_ENT_19  \\\n",
       "11              279830                 519                          1.0   \n",
       "84                2269                 307                        110.0   \n",
       "89                 912                  23                         23.0   \n",
       "\n",
       "    N_MATRICULA_MUN_20  N_MATRICULA_ENT_20  N_MATRICULA_INTEGRAL_ENT_20  \\\n",
       "11              276809                 611                          3.0   \n",
       "84                1963                 119                        119.0   \n",
       "89                 593                  19                         19.0   \n",
       "\n",
       "    SCORE_MAT_MUN_20_19  SCORE_MAT_ENT_20_19  SCORE_MAT_INTEGRAL_ENT_20_19  \\\n",
       "11             0.989204             1.177264                      3.000000   \n",
       "84             0.865139             0.387622                      1.081818   \n",
       "89             0.650219             0.826087                      0.826087   \n",
       "\n",
       "    IF_resultado  \n",
       "11            -1  \n",
       "84            -1  \n",
       "89            -1  "
      ]
     },
     "execution_count": 25,
     "metadata": {},
     "output_type": "execute_result"
    }
   ],
   "source": [
    "df_noise.head(3)"
   ]
  },
  {
   "cell_type": "markdown",
   "id": "38c9aa05",
   "metadata": {},
   "source": [
    "#### Carregando a base de Taxa de Risco"
   ]
  },
  {
   "cell_type": "code",
   "execution_count": 26,
   "id": "881ec33a",
   "metadata": {},
   "outputs": [],
   "source": [
    "df_tr_escolas = pd.read_excel('Base_TR\\BRASIL_TR_2020_21_ajustada_escola.xlsx')  "
   ]
  },
  {
   "cell_type": "code",
   "execution_count": 27,
   "id": "f659cb7e",
   "metadata": {},
   "outputs": [
    {
     "data": {
      "text/plain": [
       "(126, 7)"
      ]
     },
     "execution_count": 27,
     "metadata": {},
     "output_type": "execute_result"
    }
   ],
   "source": [
    "df_tr_escolas.shape"
   ]
  },
  {
   "cell_type": "markdown",
   "id": "8e676aea",
   "metadata": {},
   "source": [
    "#### Convergindo base Taxa de Risco escolas com outlier Isolation Forest"
   ]
  },
  {
   "cell_type": "code",
   "execution_count": 28,
   "id": "d9df6635",
   "metadata": {},
   "outputs": [],
   "source": [
    "df_compara_is_tr = df_noise.merge(df_tr_escolas, on='CO_ENTIDADE')"
   ]
  },
  {
   "cell_type": "code",
   "execution_count": 29,
   "id": "ff823a2d",
   "metadata": {},
   "outputs": [
    {
     "name": "stdout",
     "output_type": "stream",
     "text": [
      "Ocorrências similares na base Isolation Forest e Taxa de risco: 6\n"
     ]
    }
   ],
   "source": [
    "print(\"Ocorrências similares na base Isolation Forest e Taxa de risco:\", df_compara_is_tr.shape[0])"
   ]
  },
  {
   "cell_type": "code",
   "execution_count": 30,
   "id": "9ff2042f",
   "metadata": {},
   "outputs": [],
   "source": [
    "validacao_ordenada_IF = df_compara_is_tr[[\n",
    "    \n",
    " 'MUNICIPIO',\n",
    "    \n",
    " 'POPULACAO_ESTIMADA',\n",
    "    \n",
    " 'N_MATRICULA_MUN_19',\n",
    "    \n",
    " 'N_MATRICULA_MUN_20',\n",
    "    \n",
    " 'SCORE_MAT_MUN_20_19',\n",
    "\n",
    " 'CO_ENTIDADE',\n",
    "    \n",
    " 'NOME_ENTIDADE_x',\n",
    "    \n",
    " 'N_MATRICULA_ENT_19',\n",
    "    \n",
    " 'N_MATRICULA_ENT_20',\n",
    "    \n",
    " 'SCORE_MAT_ENT_20_19',\n",
    "    \n",
    " 'N_MATRICULA_INTEGRAL_ENT_19',\n",
    "    \n",
    " 'N_MATRICULA_INTEGRAL_ENT_20',\n",
    "    \n",
    " 'SCORE_MAT_INTEGRAL_ENT_20_19',\n",
    "    \n",
    " 'IF_resultado',\n",
    " \n",
    " 'TAXA_RISCO_ENT']]"
   ]
  },
  {
   "cell_type": "code",
   "execution_count": 31,
   "id": "a018aeb2",
   "metadata": {},
   "outputs": [
    {
     "data": {
      "text/html": [
       "<div>\n",
       "<style scoped>\n",
       "    .dataframe tbody tr th:only-of-type {\n",
       "        vertical-align: middle;\n",
       "    }\n",
       "\n",
       "    .dataframe tbody tr th {\n",
       "        vertical-align: top;\n",
       "    }\n",
       "\n",
       "    .dataframe thead th {\n",
       "        text-align: right;\n",
       "    }\n",
       "</style>\n",
       "<table border=\"1\" class=\"dataframe\">\n",
       "  <thead>\n",
       "    <tr style=\"text-align: right;\">\n",
       "      <th></th>\n",
       "      <th>MUNICIPIO</th>\n",
       "      <th>POPULACAO_ESTIMADA</th>\n",
       "      <th>N_MATRICULA_MUN_19</th>\n",
       "      <th>N_MATRICULA_MUN_20</th>\n",
       "      <th>SCORE_MAT_MUN_20_19</th>\n",
       "      <th>CO_ENTIDADE</th>\n",
       "      <th>NOME_ENTIDADE_x</th>\n",
       "      <th>N_MATRICULA_ENT_19</th>\n",
       "      <th>N_MATRICULA_ENT_20</th>\n",
       "      <th>SCORE_MAT_ENT_20_19</th>\n",
       "      <th>N_MATRICULA_INTEGRAL_ENT_19</th>\n",
       "      <th>N_MATRICULA_INTEGRAL_ENT_20</th>\n",
       "      <th>SCORE_MAT_INTEGRAL_ENT_20_19</th>\n",
       "      <th>IF_resultado</th>\n",
       "      <th>TAXA_RISCO_ENT</th>\n",
       "    </tr>\n",
       "  </thead>\n",
       "  <tbody>\n",
       "    <tr>\n",
       "      <th>0</th>\n",
       "      <td>Novo Gama</td>\n",
       "      <td>115711</td>\n",
       "      <td>20192</td>\n",
       "      <td>19788</td>\n",
       "      <td>0.979992</td>\n",
       "      <td>52047172</td>\n",
       "      <td>CAIC NOVO GAMA</td>\n",
       "      <td>176</td>\n",
       "      <td>445</td>\n",
       "      <td>2.528409</td>\n",
       "      <td>0.0</td>\n",
       "      <td>0.0</td>\n",
       "      <td>0.000000</td>\n",
       "      <td>-1</td>\n",
       "      <td>9</td>\n",
       "    </tr>\n",
       "    <tr>\n",
       "      <th>1</th>\n",
       "      <td>Aparecida de Goiânia</td>\n",
       "      <td>578179</td>\n",
       "      <td>116323</td>\n",
       "      <td>118693</td>\n",
       "      <td>1.020374</td>\n",
       "      <td>52104257</td>\n",
       "      <td>COLEGIO ESTADUAL MICHELLE DO PRADO RODRIGUES</td>\n",
       "      <td>920</td>\n",
       "      <td>376</td>\n",
       "      <td>0.408696</td>\n",
       "      <td>0.0</td>\n",
       "      <td>0.0</td>\n",
       "      <td>0.000000</td>\n",
       "      <td>-1</td>\n",
       "      <td>5</td>\n",
       "    </tr>\n",
       "    <tr>\n",
       "      <th>2</th>\n",
       "      <td>Campos Verdes</td>\n",
       "      <td>2141</td>\n",
       "      <td>929</td>\n",
       "      <td>939</td>\n",
       "      <td>1.010764</td>\n",
       "      <td>52006638</td>\n",
       "      <td>COLEGIO ESTADUAL EDMUNDO ROCHA</td>\n",
       "      <td>204</td>\n",
       "      <td>492</td>\n",
       "      <td>2.411765</td>\n",
       "      <td>0.0</td>\n",
       "      <td>0.0</td>\n",
       "      <td>0.000000</td>\n",
       "      <td>-1</td>\n",
       "      <td>5</td>\n",
       "    </tr>\n",
       "    <tr>\n",
       "      <th>3</th>\n",
       "      <td>Anicuns</td>\n",
       "      <td>21850</td>\n",
       "      <td>4142</td>\n",
       "      <td>3560</td>\n",
       "      <td>0.859488</td>\n",
       "      <td>52028518</td>\n",
       "      <td>CENTRO DE ENSINO EM PERIODO INTEGRAL PROFESSOR...</td>\n",
       "      <td>84</td>\n",
       "      <td>224</td>\n",
       "      <td>2.666667</td>\n",
       "      <td>0.0</td>\n",
       "      <td>0.0</td>\n",
       "      <td>0.000000</td>\n",
       "      <td>-1</td>\n",
       "      <td>6</td>\n",
       "    </tr>\n",
       "    <tr>\n",
       "      <th>4</th>\n",
       "      <td>Goiânia</td>\n",
       "      <td>1516113</td>\n",
       "      <td>279830</td>\n",
       "      <td>276809</td>\n",
       "      <td>0.989204</td>\n",
       "      <td>52104028</td>\n",
       "      <td>ESCOLA MUNICIPAL PROFESSORA LOUSINHA</td>\n",
       "      <td>126</td>\n",
       "      <td>283</td>\n",
       "      <td>2.246032</td>\n",
       "      <td>126.0</td>\n",
       "      <td>283.0</td>\n",
       "      <td>2.246032</td>\n",
       "      <td>-1</td>\n",
       "      <td>6</td>\n",
       "    </tr>\n",
       "    <tr>\n",
       "      <th>5</th>\n",
       "      <td>Goiânia</td>\n",
       "      <td>1516113</td>\n",
       "      <td>279830</td>\n",
       "      <td>276809</td>\n",
       "      <td>0.989204</td>\n",
       "      <td>52035913</td>\n",
       "      <td>ESCOLA MUNICIPAL ANA DAS NEVES DE FREITAS</td>\n",
       "      <td>276</td>\n",
       "      <td>187</td>\n",
       "      <td>0.677536</td>\n",
       "      <td>1.0</td>\n",
       "      <td>187.0</td>\n",
       "      <td>187.000000</td>\n",
       "      <td>-1</td>\n",
       "      <td>5</td>\n",
       "    </tr>\n",
       "  </tbody>\n",
       "</table>\n",
       "</div>"
      ],
      "text/plain": [
       "              MUNICIPIO  POPULACAO_ESTIMADA  N_MATRICULA_MUN_19  \\\n",
       "0             Novo Gama              115711               20192   \n",
       "1  Aparecida de Goiânia              578179              116323   \n",
       "2         Campos Verdes                2141                 929   \n",
       "3               Anicuns               21850                4142   \n",
       "4               Goiânia             1516113              279830   \n",
       "5               Goiânia             1516113              279830   \n",
       "\n",
       "   N_MATRICULA_MUN_20  SCORE_MAT_MUN_20_19  CO_ENTIDADE  \\\n",
       "0               19788             0.979992     52047172   \n",
       "1              118693             1.020374     52104257   \n",
       "2                 939             1.010764     52006638   \n",
       "3                3560             0.859488     52028518   \n",
       "4              276809             0.989204     52104028   \n",
       "5              276809             0.989204     52035913   \n",
       "\n",
       "                                     NOME_ENTIDADE_x  N_MATRICULA_ENT_19  \\\n",
       "0                                     CAIC NOVO GAMA                 176   \n",
       "1       COLEGIO ESTADUAL MICHELLE DO PRADO RODRIGUES                 920   \n",
       "2                     COLEGIO ESTADUAL EDMUNDO ROCHA                 204   \n",
       "3  CENTRO DE ENSINO EM PERIODO INTEGRAL PROFESSOR...                  84   \n",
       "4               ESCOLA MUNICIPAL PROFESSORA LOUSINHA                 126   \n",
       "5          ESCOLA MUNICIPAL ANA DAS NEVES DE FREITAS                 276   \n",
       "\n",
       "   N_MATRICULA_ENT_20  SCORE_MAT_ENT_20_19  N_MATRICULA_INTEGRAL_ENT_19  \\\n",
       "0                 445             2.528409                          0.0   \n",
       "1                 376             0.408696                          0.0   \n",
       "2                 492             2.411765                          0.0   \n",
       "3                 224             2.666667                          0.0   \n",
       "4                 283             2.246032                        126.0   \n",
       "5                 187             0.677536                          1.0   \n",
       "\n",
       "   N_MATRICULA_INTEGRAL_ENT_20  SCORE_MAT_INTEGRAL_ENT_20_19  IF_resultado  \\\n",
       "0                          0.0                      0.000000            -1   \n",
       "1                          0.0                      0.000000            -1   \n",
       "2                          0.0                      0.000000            -1   \n",
       "3                          0.0                      0.000000            -1   \n",
       "4                        283.0                      2.246032            -1   \n",
       "5                        187.0                    187.000000            -1   \n",
       "\n",
       "   TAXA_RISCO_ENT  \n",
       "0               9  \n",
       "1               5  \n",
       "2               5  \n",
       "3               6  \n",
       "4               6  \n",
       "5               5  "
      ]
     },
     "execution_count": 31,
     "metadata": {},
     "output_type": "execute_result"
    }
   ],
   "source": [
    "validacao_ordenada_IF.head(10)"
   ]
  },
  {
   "cell_type": "code",
   "execution_count": 33,
   "id": "c058a09e",
   "metadata": {},
   "outputs": [],
   "source": [
    "validacao_ordenada_IF.to_excel('resultado_Isolation_forest.xlsx')"
   ]
  },
  {
   "cell_type": "markdown",
   "id": "8a073bcc",
   "metadata": {},
   "source": [
    "#### Quantitativo dos dois resultados sem taxa de risco"
   ]
  },
  {
   "cell_type": "code",
   "execution_count": 34,
   "id": "b090a777",
   "metadata": {},
   "outputs": [],
   "source": [
    "df_noise_dbscan = pd.read_csv(\"df_noise_dbscan.csv\", sep=\";\")"
   ]
  },
  {
   "cell_type": "code",
   "execution_count": 36,
   "id": "1ed75e08",
   "metadata": {},
   "outputs": [],
   "source": [
    "df_compara_is_DBSCAN = df_noise.merge(df_noise_dbscan, on='CO_ENTIDADE')"
   ]
  },
  {
   "cell_type": "code",
   "execution_count": 38,
   "id": "26aff934",
   "metadata": {},
   "outputs": [
    {
     "data": {
      "text/plain": [
       "(85, 39)"
      ]
     },
     "execution_count": 38,
     "metadata": {},
     "output_type": "execute_result"
    }
   ],
   "source": [
    "df_compara_is_DBSCAN.shape"
   ]
  },
  {
   "cell_type": "code",
   "execution_count": null,
   "id": "3c898a67",
   "metadata": {},
   "outputs": [],
   "source": []
  }
 ],
 "metadata": {
  "kernelspec": {
   "display_name": "Python 3",
   "language": "python",
   "name": "python3"
  },
  "language_info": {
   "codemirror_mode": {
    "name": "ipython",
    "version": 3
   },
   "file_extension": ".py",
   "mimetype": "text/x-python",
   "name": "python",
   "nbconvert_exporter": "python",
   "pygments_lexer": "ipython3",
   "version": "3.8.8"
  }
 },
 "nbformat": 4,
 "nbformat_minor": 5
}
