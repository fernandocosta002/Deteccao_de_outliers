{
 "cells": [
  {
   "cell_type": "markdown",
   "id": "3d6174c8",
   "metadata": {},
   "source": [
    "### 3.DBSCAN"
   ]
  },
  {
   "cell_type": "code",
   "execution_count": 54,
   "id": "2ec355d3",
   "metadata": {},
   "outputs": [],
   "source": [
    "import pandas as pd\n",
    "import numpy as np\n",
    "import matplotlib.pyplot as plt\n",
    "from sklearn.cluster import DBSCAN\n",
    "from sklearn.preprocessing import StandardScaler\n",
    "import seaborn as sns"
   ]
  },
  {
   "cell_type": "code",
   "execution_count": 2,
   "id": "d1050bbb",
   "metadata": {},
   "outputs": [],
   "source": [
    "df = pd.read_csv(\"base_pronta.csv\", sep=\";\")"
   ]
  },
  {
   "cell_type": "code",
   "execution_count": 3,
   "id": "ba0147e2",
   "metadata": {},
   "outputs": [
    {
     "data": {
      "text/html": [
       "<div>\n",
       "<style scoped>\n",
       "    .dataframe tbody tr th:only-of-type {\n",
       "        vertical-align: middle;\n",
       "    }\n",
       "\n",
       "    .dataframe tbody tr th {\n",
       "        vertical-align: top;\n",
       "    }\n",
       "\n",
       "    .dataframe thead th {\n",
       "        text-align: right;\n",
       "    }\n",
       "</style>\n",
       "<table border=\"1\" class=\"dataframe\">\n",
       "  <thead>\n",
       "    <tr style=\"text-align: right;\">\n",
       "      <th></th>\n",
       "      <th>CO_UF</th>\n",
       "      <th>UF</th>\n",
       "      <th>SIG_UF</th>\n",
       "      <th>CO_MUNICIPIO</th>\n",
       "      <th>MUNICIPIO</th>\n",
       "      <th>CO_MESORREGIAO</th>\n",
       "      <th>CO_MICRORREGIAO</th>\n",
       "      <th>CO_ENTIDADE</th>\n",
       "      <th>NOME_ENTIDADE</th>\n",
       "      <th>POPULACAO_ESTIMADA</th>\n",
       "      <th>N_MATRICULA_MUN_19</th>\n",
       "      <th>N_MATRICULA_ENT_19</th>\n",
       "      <th>N_MATRICULA_INTEGRAL_ENT_19</th>\n",
       "      <th>N_MATRICULA_MUN_20</th>\n",
       "      <th>N_MATRICULA_ENT_20</th>\n",
       "      <th>N_MATRICULA_INTEGRAL_ENT_20</th>\n",
       "      <th>SCORE_MAT_MUN_20_19</th>\n",
       "      <th>SCORE_MAT_ENT_20_19</th>\n",
       "      <th>SCORE_MAT_INTEGRAL_ENT_20_19</th>\n",
       "    </tr>\n",
       "  </thead>\n",
       "  <tbody>\n",
       "    <tr>\n",
       "      <th>3701</th>\n",
       "      <td>52</td>\n",
       "      <td>Goias</td>\n",
       "      <td>GO</td>\n",
       "      <td>5214606</td>\n",
       "      <td>Niquelândia</td>\n",
       "      <td>5202</td>\n",
       "      <td>52004</td>\n",
       "      <td>52009106</td>\n",
       "      <td>ESC MUL PE VALENTIM RODRIGUES</td>\n",
       "      <td>46388</td>\n",
       "      <td>8114</td>\n",
       "      <td>708</td>\n",
       "      <td>16.0</td>\n",
       "      <td>7634</td>\n",
       "      <td>749</td>\n",
       "      <td>17.0</td>\n",
       "      <td>0.940843</td>\n",
       "      <td>1.057910</td>\n",
       "      <td>1.062500</td>\n",
       "    </tr>\n",
       "    <tr>\n",
       "      <th>80</th>\n",
       "      <td>52</td>\n",
       "      <td>Goias</td>\n",
       "      <td>GO</td>\n",
       "      <td>5201405</td>\n",
       "      <td>Aparecida de Goiânia</td>\n",
       "      <td>5203</td>\n",
       "      <td>52010</td>\n",
       "      <td>52101207</td>\n",
       "      <td>CENTRO MUNICIPAL DE EDUCACAO INFANTIL VILA DEL...</td>\n",
       "      <td>578179</td>\n",
       "      <td>116323</td>\n",
       "      <td>192</td>\n",
       "      <td>192.0</td>\n",
       "      <td>118693</td>\n",
       "      <td>183</td>\n",
       "      <td>183.0</td>\n",
       "      <td>1.020374</td>\n",
       "      <td>0.953125</td>\n",
       "      <td>0.953125</td>\n",
       "    </tr>\n",
       "    <tr>\n",
       "      <th>2232</th>\n",
       "      <td>52</td>\n",
       "      <td>Goias</td>\n",
       "      <td>GO</td>\n",
       "      <td>5208707</td>\n",
       "      <td>Goiânia</td>\n",
       "      <td>5203</td>\n",
       "      <td>52010</td>\n",
       "      <td>52034364</td>\n",
       "      <td>COLEGIO MASTER</td>\n",
       "      <td>1516113</td>\n",
       "      <td>279830</td>\n",
       "      <td>270</td>\n",
       "      <td>0.0</td>\n",
       "      <td>276809</td>\n",
       "      <td>212</td>\n",
       "      <td>0.0</td>\n",
       "      <td>0.989204</td>\n",
       "      <td>0.785185</td>\n",
       "      <td>0.000000</td>\n",
       "    </tr>\n",
       "  </tbody>\n",
       "</table>\n",
       "</div>"
      ],
      "text/plain": [
       "      CO_UF     UF SIG_UF  CO_MUNICIPIO             MUNICIPIO  CO_MESORREGIAO  \\\n",
       "3701     52  Goias     GO       5214606           Niquelândia            5202   \n",
       "80       52  Goias     GO       5201405  Aparecida de Goiânia            5203   \n",
       "2232     52  Goias     GO       5208707               Goiânia            5203   \n",
       "\n",
       "      CO_MICRORREGIAO  CO_ENTIDADE  \\\n",
       "3701            52004     52009106   \n",
       "80              52010     52101207   \n",
       "2232            52010     52034364   \n",
       "\n",
       "                                          NOME_ENTIDADE  POPULACAO_ESTIMADA  \\\n",
       "3701                      ESC MUL PE VALENTIM RODRIGUES               46388   \n",
       "80    CENTRO MUNICIPAL DE EDUCACAO INFANTIL VILA DEL...              578179   \n",
       "2232                                     COLEGIO MASTER             1516113   \n",
       "\n",
       "      N_MATRICULA_MUN_19  N_MATRICULA_ENT_19  N_MATRICULA_INTEGRAL_ENT_19  \\\n",
       "3701                8114                 708                         16.0   \n",
       "80                116323                 192                        192.0   \n",
       "2232              279830                 270                          0.0   \n",
       "\n",
       "      N_MATRICULA_MUN_20  N_MATRICULA_ENT_20  N_MATRICULA_INTEGRAL_ENT_20  \\\n",
       "3701                7634                 749                         17.0   \n",
       "80                118693                 183                        183.0   \n",
       "2232              276809                 212                          0.0   \n",
       "\n",
       "      SCORE_MAT_MUN_20_19  SCORE_MAT_ENT_20_19  SCORE_MAT_INTEGRAL_ENT_20_19  \n",
       "3701             0.940843             1.057910                      1.062500  \n",
       "80               1.020374             0.953125                      0.953125  \n",
       "2232             0.989204             0.785185                      0.000000  "
      ]
     },
     "execution_count": 3,
     "metadata": {},
     "output_type": "execute_result"
    }
   ],
   "source": [
    "df.sample(3)"
   ]
  },
  {
   "cell_type": "code",
   "execution_count": 4,
   "id": "6f877839",
   "metadata": {},
   "outputs": [
    {
     "data": {
      "text/plain": [
       "(4486, 19)"
      ]
     },
     "execution_count": 4,
     "metadata": {},
     "output_type": "execute_result"
    }
   ],
   "source": [
    "df.shape"
   ]
  },
  {
   "cell_type": "code",
   "execution_count": 5,
   "id": "a990d203",
   "metadata": {},
   "outputs": [
    {
     "data": {
      "text/plain": [
       "['CO_UF',\n",
       " 'UF',\n",
       " 'SIG_UF',\n",
       " 'CO_MUNICIPIO',\n",
       " 'MUNICIPIO',\n",
       " 'CO_MESORREGIAO',\n",
       " 'CO_MICRORREGIAO',\n",
       " 'CO_ENTIDADE',\n",
       " 'NOME_ENTIDADE',\n",
       " 'POPULACAO_ESTIMADA',\n",
       " 'N_MATRICULA_MUN_19',\n",
       " 'N_MATRICULA_ENT_19',\n",
       " 'N_MATRICULA_INTEGRAL_ENT_19',\n",
       " 'N_MATRICULA_MUN_20',\n",
       " 'N_MATRICULA_ENT_20',\n",
       " 'N_MATRICULA_INTEGRAL_ENT_20',\n",
       " 'SCORE_MAT_MUN_20_19',\n",
       " 'SCORE_MAT_ENT_20_19',\n",
       " 'SCORE_MAT_INTEGRAL_ENT_20_19']"
      ]
     },
     "execution_count": 5,
     "metadata": {},
     "output_type": "execute_result"
    }
   ],
   "source": [
    "df.columns.tolist()"
   ]
  },
  {
   "cell_type": "code",
   "execution_count": 6,
   "id": "f92fa40d",
   "metadata": {},
   "outputs": [
    {
     "data": {
      "text/html": [
       "<div>\n",
       "<style scoped>\n",
       "    .dataframe tbody tr th:only-of-type {\n",
       "        vertical-align: middle;\n",
       "    }\n",
       "\n",
       "    .dataframe tbody tr th {\n",
       "        vertical-align: top;\n",
       "    }\n",
       "\n",
       "    .dataframe thead th {\n",
       "        text-align: right;\n",
       "    }\n",
       "</style>\n",
       "<table border=\"1\" class=\"dataframe\">\n",
       "  <thead>\n",
       "    <tr style=\"text-align: right;\">\n",
       "      <th></th>\n",
       "      <th>CO_UF</th>\n",
       "      <th>CO_MUNICIPIO</th>\n",
       "      <th>CO_MESORREGIAO</th>\n",
       "      <th>CO_MICRORREGIAO</th>\n",
       "      <th>CO_ENTIDADE</th>\n",
       "      <th>POPULACAO_ESTIMADA</th>\n",
       "      <th>N_MATRICULA_MUN_19</th>\n",
       "      <th>N_MATRICULA_ENT_19</th>\n",
       "      <th>N_MATRICULA_INTEGRAL_ENT_19</th>\n",
       "      <th>N_MATRICULA_MUN_20</th>\n",
       "      <th>N_MATRICULA_ENT_20</th>\n",
       "      <th>N_MATRICULA_INTEGRAL_ENT_20</th>\n",
       "      <th>SCORE_MAT_MUN_20_19</th>\n",
       "      <th>SCORE_MAT_ENT_20_19</th>\n",
       "      <th>SCORE_MAT_INTEGRAL_ENT_20_19</th>\n",
       "    </tr>\n",
       "  </thead>\n",
       "  <tbody>\n",
       "    <tr>\n",
       "      <th>count</th>\n",
       "      <td>4486.0</td>\n",
       "      <td>4.486000e+03</td>\n",
       "      <td>4486.000000</td>\n",
       "      <td>4486.000000</td>\n",
       "      <td>4.486000e+03</td>\n",
       "      <td>4.486000e+03</td>\n",
       "      <td>4486.000000</td>\n",
       "      <td>4486.000000</td>\n",
       "      <td>4486.000000</td>\n",
       "      <td>4486.00000</td>\n",
       "      <td>4486.000000</td>\n",
       "      <td>4486.000000</td>\n",
       "      <td>4486.000000</td>\n",
       "      <td>4486.000000</td>\n",
       "      <td>4486.000000</td>\n",
       "    </tr>\n",
       "    <tr>\n",
       "      <th>mean</th>\n",
       "      <td>52.0</td>\n",
       "      <td>5.210452e+06</td>\n",
       "      <td>5203.496879</td>\n",
       "      <td>52010.203968</td>\n",
       "      <td>5.206964e+07</td>\n",
       "      <td>3.500898e+05</td>\n",
       "      <td>68069.947169</td>\n",
       "      <td>334.284440</td>\n",
       "      <td>22.965671</td>\n",
       "      <td>67360.78667</td>\n",
       "      <td>329.398796</td>\n",
       "      <td>21.827686</td>\n",
       "      <td>0.978279</td>\n",
       "      <td>1.005872</td>\n",
       "      <td>0.447224</td>\n",
       "    </tr>\n",
       "    <tr>\n",
       "      <th>std</th>\n",
       "      <td>0.0</td>\n",
       "      <td>6.404880e+03</td>\n",
       "      <td>1.075257</td>\n",
       "      <td>3.732301</td>\n",
       "      <td>4.525006e+04</td>\n",
       "      <td>5.466981e+05</td>\n",
       "      <td>100391.516837</td>\n",
       "      <td>314.563188</td>\n",
       "      <td>56.259014</td>\n",
       "      <td>99350.24438</td>\n",
       "      <td>310.384898</td>\n",
       "      <td>55.454232</td>\n",
       "      <td>0.057299</td>\n",
       "      <td>0.296979</td>\n",
       "      <td>4.565774</td>\n",
       "    </tr>\n",
       "    <tr>\n",
       "      <th>min</th>\n",
       "      <td>52.0</td>\n",
       "      <td>5.200050e+06</td>\n",
       "      <td>5201.000000</td>\n",
       "      <td>52001.000000</td>\n",
       "      <td>5.200003e+07</td>\n",
       "      <td>1.149000e+03</td>\n",
       "      <td>169.000000</td>\n",
       "      <td>3.000000</td>\n",
       "      <td>0.000000</td>\n",
       "      <td>176.00000</td>\n",
       "      <td>3.000000</td>\n",
       "      <td>0.000000</td>\n",
       "      <td>0.424161</td>\n",
       "      <td>0.041667</td>\n",
       "      <td>0.000000</td>\n",
       "    </tr>\n",
       "    <tr>\n",
       "      <th>25%</th>\n",
       "      <td>52.0</td>\n",
       "      <td>5.205497e+06</td>\n",
       "      <td>5203.000000</td>\n",
       "      <td>52007.000000</td>\n",
       "      <td>5.203721e+07</td>\n",
       "      <td>1.847800e+04</td>\n",
       "      <td>3837.000000</td>\n",
       "      <td>117.000000</td>\n",
       "      <td>0.000000</td>\n",
       "      <td>3604.00000</td>\n",
       "      <td>112.000000</td>\n",
       "      <td>0.000000</td>\n",
       "      <td>0.962259</td>\n",
       "      <td>0.901830</td>\n",
       "      <td>0.000000</td>\n",
       "    </tr>\n",
       "    <tr>\n",
       "      <th>50%</th>\n",
       "      <td>52.0</td>\n",
       "      <td>5.208707e+06</td>\n",
       "      <td>5203.000000</td>\n",
       "      <td>52010.000000</td>\n",
       "      <td>5.206961e+07</td>\n",
       "      <td>7.137600e+04</td>\n",
       "      <td>19219.000000</td>\n",
       "      <td>232.000000</td>\n",
       "      <td>0.000000</td>\n",
       "      <td>17097.00000</td>\n",
       "      <td>230.000000</td>\n",
       "      <td>0.000000</td>\n",
       "      <td>0.989204</td>\n",
       "      <td>0.989092</td>\n",
       "      <td>0.000000</td>\n",
       "    </tr>\n",
       "    <tr>\n",
       "      <th>75%</th>\n",
       "      <td>52.0</td>\n",
       "      <td>5.215306e+06</td>\n",
       "      <td>5204.000000</td>\n",
       "      <td>52012.000000</td>\n",
       "      <td>5.209326e+07</td>\n",
       "      <td>3.869230e+05</td>\n",
       "      <td>89054.000000</td>\n",
       "      <td>453.000000</td>\n",
       "      <td>3.000000</td>\n",
       "      <td>85693.00000</td>\n",
       "      <td>449.000000</td>\n",
       "      <td>2.000000</td>\n",
       "      <td>1.011497</td>\n",
       "      <td>1.070212</td>\n",
       "      <td>0.000000</td>\n",
       "    </tr>\n",
       "    <tr>\n",
       "      <th>max</th>\n",
       "      <td>52.0</td>\n",
       "      <td>5.222302e+06</td>\n",
       "      <td>5205.000000</td>\n",
       "      <td>52018.000000</td>\n",
       "      <td>5.229036e+07</td>\n",
       "      <td>1.516113e+06</td>\n",
       "      <td>279830.000000</td>\n",
       "      <td>4036.000000</td>\n",
       "      <td>822.000000</td>\n",
       "      <td>276809.00000</td>\n",
       "      <td>2736.000000</td>\n",
       "      <td>828.000000</td>\n",
       "      <td>1.139116</td>\n",
       "      <td>7.862745</td>\n",
       "      <td>187.000000</td>\n",
       "    </tr>\n",
       "  </tbody>\n",
       "</table>\n",
       "</div>"
      ],
      "text/plain": [
       "        CO_UF  CO_MUNICIPIO  CO_MESORREGIAO  CO_MICRORREGIAO   CO_ENTIDADE  \\\n",
       "count  4486.0  4.486000e+03     4486.000000      4486.000000  4.486000e+03   \n",
       "mean     52.0  5.210452e+06     5203.496879     52010.203968  5.206964e+07   \n",
       "std       0.0  6.404880e+03        1.075257         3.732301  4.525006e+04   \n",
       "min      52.0  5.200050e+06     5201.000000     52001.000000  5.200003e+07   \n",
       "25%      52.0  5.205497e+06     5203.000000     52007.000000  5.203721e+07   \n",
       "50%      52.0  5.208707e+06     5203.000000     52010.000000  5.206961e+07   \n",
       "75%      52.0  5.215306e+06     5204.000000     52012.000000  5.209326e+07   \n",
       "max      52.0  5.222302e+06     5205.000000     52018.000000  5.229036e+07   \n",
       "\n",
       "       POPULACAO_ESTIMADA  N_MATRICULA_MUN_19  N_MATRICULA_ENT_19  \\\n",
       "count        4.486000e+03         4486.000000         4486.000000   \n",
       "mean         3.500898e+05        68069.947169          334.284440   \n",
       "std          5.466981e+05       100391.516837          314.563188   \n",
       "min          1.149000e+03          169.000000            3.000000   \n",
       "25%          1.847800e+04         3837.000000          117.000000   \n",
       "50%          7.137600e+04        19219.000000          232.000000   \n",
       "75%          3.869230e+05        89054.000000          453.000000   \n",
       "max          1.516113e+06       279830.000000         4036.000000   \n",
       "\n",
       "       N_MATRICULA_INTEGRAL_ENT_19  N_MATRICULA_MUN_20  N_MATRICULA_ENT_20  \\\n",
       "count                  4486.000000          4486.00000         4486.000000   \n",
       "mean                     22.965671         67360.78667          329.398796   \n",
       "std                      56.259014         99350.24438          310.384898   \n",
       "min                       0.000000           176.00000            3.000000   \n",
       "25%                       0.000000          3604.00000          112.000000   \n",
       "50%                       0.000000         17097.00000          230.000000   \n",
       "75%                       3.000000         85693.00000          449.000000   \n",
       "max                     822.000000        276809.00000         2736.000000   \n",
       "\n",
       "       N_MATRICULA_INTEGRAL_ENT_20  SCORE_MAT_MUN_20_19  SCORE_MAT_ENT_20_19  \\\n",
       "count                  4486.000000          4486.000000          4486.000000   \n",
       "mean                     21.827686             0.978279             1.005872   \n",
       "std                      55.454232             0.057299             0.296979   \n",
       "min                       0.000000             0.424161             0.041667   \n",
       "25%                       0.000000             0.962259             0.901830   \n",
       "50%                       0.000000             0.989204             0.989092   \n",
       "75%                       2.000000             1.011497             1.070212   \n",
       "max                     828.000000             1.139116             7.862745   \n",
       "\n",
       "       SCORE_MAT_INTEGRAL_ENT_20_19  \n",
       "count                   4486.000000  \n",
       "mean                       0.447224  \n",
       "std                        4.565774  \n",
       "min                        0.000000  \n",
       "25%                        0.000000  \n",
       "50%                        0.000000  \n",
       "75%                        0.000000  \n",
       "max                      187.000000  "
      ]
     },
     "execution_count": 6,
     "metadata": {},
     "output_type": "execute_result"
    }
   ],
   "source": [
    "df.describe()"
   ]
  },
  {
   "cell_type": "markdown",
   "id": "ac21628a",
   "metadata": {},
   "source": [
    "#### Instanciando base de teste com atributos de interesse:"
   ]
  },
  {
   "cell_type": "code",
   "execution_count": 7,
   "id": "536db440",
   "metadata": {},
   "outputs": [],
   "source": [
    "X = df[[\n",
    "       'CO_MESORREGIAO',\n",
    "       'CO_MICRORREGIAO',\n",
    "       'POPULACAO_ESTIMADA',\n",
    "       'SCORE_MAT_MUN_20_19',\n",
    "       'SCORE_MAT_ENT_20_19',\n",
    "       'SCORE_MAT_INTEGRAL_ENT_20_19'\n",
    "    ]]"
   ]
  },
  {
   "cell_type": "code",
   "execution_count": 8,
   "id": "fd5d8f52",
   "metadata": {},
   "outputs": [],
   "source": [
    "def check_missing_att(df):\n",
    "    # verificando atributos faltantes\n",
    "    for var in df:\n",
    "        # somamos o número de variáveis nulas (NaN)\n",
    "        nullatt = np.sum(df[var].isnull())\n",
    "        if nullatt > 0:\n",
    "            print(var,\"- faltantes: \", end='')\n",
    "            print(nullatt)"
   ]
  },
  {
   "cell_type": "code",
   "execution_count": 9,
   "id": "a2bf3b52",
   "metadata": {},
   "outputs": [],
   "source": [
    "check_missing_att(X)"
   ]
  },
  {
   "cell_type": "code",
   "execution_count": 10,
   "id": "d94dc31e",
   "metadata": {},
   "outputs": [
    {
     "data": {
      "text/html": [
       "<div>\n",
       "<style scoped>\n",
       "    .dataframe tbody tr th:only-of-type {\n",
       "        vertical-align: middle;\n",
       "    }\n",
       "\n",
       "    .dataframe tbody tr th {\n",
       "        vertical-align: top;\n",
       "    }\n",
       "\n",
       "    .dataframe thead th {\n",
       "        text-align: right;\n",
       "    }\n",
       "</style>\n",
       "<table border=\"1\" class=\"dataframe\">\n",
       "  <thead>\n",
       "    <tr style=\"text-align: right;\">\n",
       "      <th></th>\n",
       "      <th>CO_MESORREGIAO</th>\n",
       "      <th>CO_MICRORREGIAO</th>\n",
       "      <th>POPULACAO_ESTIMADA</th>\n",
       "      <th>SCORE_MAT_MUN_20_19</th>\n",
       "      <th>SCORE_MAT_ENT_20_19</th>\n",
       "      <th>SCORE_MAT_INTEGRAL_ENT_20_19</th>\n",
       "    </tr>\n",
       "  </thead>\n",
       "  <tbody>\n",
       "    <tr>\n",
       "      <th>3706</th>\n",
       "      <td>5205</td>\n",
       "      <td>52016</td>\n",
       "      <td>31458</td>\n",
       "      <td>0.975975</td>\n",
       "      <td>0.974217</td>\n",
       "      <td>0.0</td>\n",
       "    </tr>\n",
       "    <tr>\n",
       "      <th>1164</th>\n",
       "      <td>5202</td>\n",
       "      <td>52005</td>\n",
       "      <td>9709</td>\n",
       "      <td>0.887405</td>\n",
       "      <td>0.600000</td>\n",
       "      <td>0.0</td>\n",
       "    </tr>\n",
       "    <tr>\n",
       "      <th>2514</th>\n",
       "      <td>5203</td>\n",
       "      <td>52010</td>\n",
       "      <td>1516113</td>\n",
       "      <td>0.989204</td>\n",
       "      <td>1.016216</td>\n",
       "      <td>0.0</td>\n",
       "    </tr>\n",
       "  </tbody>\n",
       "</table>\n",
       "</div>"
      ],
      "text/plain": [
       "      CO_MESORREGIAO  CO_MICRORREGIAO  POPULACAO_ESTIMADA  \\\n",
       "3706            5205            52016               31458   \n",
       "1164            5202            52005                9709   \n",
       "2514            5203            52010             1516113   \n",
       "\n",
       "      SCORE_MAT_MUN_20_19  SCORE_MAT_ENT_20_19  SCORE_MAT_INTEGRAL_ENT_20_19  \n",
       "3706             0.975975             0.974217                           0.0  \n",
       "1164             0.887405             0.600000                           0.0  \n",
       "2514             0.989204             1.016216                           0.0  "
      ]
     },
     "execution_count": 10,
     "metadata": {},
     "output_type": "execute_result"
    }
   ],
   "source": [
    "X.sample(3)"
   ]
  },
  {
   "cell_type": "markdown",
   "id": "593019e9",
   "metadata": {},
   "source": [
    "#### Garantindo que os atributos \"score\" não possuem valores NaN"
   ]
  },
  {
   "cell_type": "code",
   "execution_count": 11,
   "id": "45ba74b1",
   "metadata": {},
   "outputs": [],
   "source": [
    "# substituir - por 0\n",
    "X = X.fillna(0)"
   ]
  },
  {
   "cell_type": "code",
   "execution_count": 12,
   "id": "3d745a6d",
   "metadata": {},
   "outputs": [],
   "source": [
    "check_missing_att(X)"
   ]
  },
  {
   "cell_type": "code",
   "execution_count": 13,
   "id": "ca1cfed2",
   "metadata": {},
   "outputs": [
    {
     "data": {
      "text/html": [
       "<div>\n",
       "<style scoped>\n",
       "    .dataframe tbody tr th:only-of-type {\n",
       "        vertical-align: middle;\n",
       "    }\n",
       "\n",
       "    .dataframe tbody tr th {\n",
       "        vertical-align: top;\n",
       "    }\n",
       "\n",
       "    .dataframe thead th {\n",
       "        text-align: right;\n",
       "    }\n",
       "</style>\n",
       "<table border=\"1\" class=\"dataframe\">\n",
       "  <thead>\n",
       "    <tr style=\"text-align: right;\">\n",
       "      <th></th>\n",
       "      <th>CO_MESORREGIAO</th>\n",
       "      <th>CO_MICRORREGIAO</th>\n",
       "      <th>POPULACAO_ESTIMADA</th>\n",
       "      <th>SCORE_MAT_MUN_20_19</th>\n",
       "      <th>SCORE_MAT_ENT_20_19</th>\n",
       "      <th>SCORE_MAT_INTEGRAL_ENT_20_19</th>\n",
       "    </tr>\n",
       "  </thead>\n",
       "  <tbody>\n",
       "    <tr>\n",
       "      <th>2920</th>\n",
       "      <td>5203</td>\n",
       "      <td>52010</td>\n",
       "      <td>29850</td>\n",
       "      <td>0.994130</td>\n",
       "      <td>0.801008</td>\n",
       "      <td>0.0</td>\n",
       "    </tr>\n",
       "    <tr>\n",
       "      <th>2483</th>\n",
       "      <td>5205</td>\n",
       "      <td>52015</td>\n",
       "      <td>3881</td>\n",
       "      <td>1.039517</td>\n",
       "      <td>0.993421</td>\n",
       "      <td>0.0</td>\n",
       "    </tr>\n",
       "    <tr>\n",
       "      <th>1684</th>\n",
       "      <td>5204</td>\n",
       "      <td>52012</td>\n",
       "      <td>168468</td>\n",
       "      <td>0.966079</td>\n",
       "      <td>0.986272</td>\n",
       "      <td>0.0</td>\n",
       "    </tr>\n",
       "  </tbody>\n",
       "</table>\n",
       "</div>"
      ],
      "text/plain": [
       "      CO_MESORREGIAO  CO_MICRORREGIAO  POPULACAO_ESTIMADA  \\\n",
       "2920            5203            52010               29850   \n",
       "2483            5205            52015                3881   \n",
       "1684            5204            52012              168468   \n",
       "\n",
       "      SCORE_MAT_MUN_20_19  SCORE_MAT_ENT_20_19  SCORE_MAT_INTEGRAL_ENT_20_19  \n",
       "2920             0.994130             0.801008                           0.0  \n",
       "2483             1.039517             0.993421                           0.0  \n",
       "1684             0.966079             0.986272                           0.0  "
      ]
     },
     "execution_count": 13,
     "metadata": {},
     "output_type": "execute_result"
    }
   ],
   "source": [
    "X.sample(3)"
   ]
  },
  {
   "cell_type": "markdown",
   "id": "38c255d3",
   "metadata": {},
   "source": [
    "#### DBSCAN sem normalização dos dados:"
   ]
  },
  {
   "cell_type": "code",
   "execution_count": 14,
   "id": "2e7b0a64",
   "metadata": {},
   "outputs": [],
   "source": [
    "db = DBSCAN(eps=0.2, min_samples=10).fit(X)"
   ]
  },
  {
   "cell_type": "code",
   "execution_count": 15,
   "id": "feb5b640",
   "metadata": {},
   "outputs": [],
   "source": [
    "y_ = db.labels_"
   ]
  },
  {
   "cell_type": "code",
   "execution_count": 16,
   "id": "bb62ff32",
   "metadata": {},
   "outputs": [],
   "source": [
    "X['DBSCAN'] = y_"
   ]
  },
  {
   "cell_type": "code",
   "execution_count": 17,
   "id": "cccc34d0",
   "metadata": {},
   "outputs": [],
   "source": [
    "# X.query[\"DBSCAN == -1\"]"
   ]
  },
  {
   "cell_type": "code",
   "execution_count": 18,
   "id": "74066cf5",
   "metadata": {},
   "outputs": [
    {
     "data": {
      "text/html": [
       "<div>\n",
       "<style scoped>\n",
       "    .dataframe tbody tr th:only-of-type {\n",
       "        vertical-align: middle;\n",
       "    }\n",
       "\n",
       "    .dataframe tbody tr th {\n",
       "        vertical-align: top;\n",
       "    }\n",
       "\n",
       "    .dataframe thead th {\n",
       "        text-align: right;\n",
       "    }\n",
       "</style>\n",
       "<table border=\"1\" class=\"dataframe\">\n",
       "  <thead>\n",
       "    <tr style=\"text-align: right;\">\n",
       "      <th></th>\n",
       "      <th>CO_MESORREGIAO</th>\n",
       "      <th>CO_MICRORREGIAO</th>\n",
       "      <th>POPULACAO_ESTIMADA</th>\n",
       "      <th>SCORE_MAT_MUN_20_19</th>\n",
       "      <th>SCORE_MAT_ENT_20_19</th>\n",
       "      <th>SCORE_MAT_INTEGRAL_ENT_20_19</th>\n",
       "      <th>DBSCAN</th>\n",
       "    </tr>\n",
       "  </thead>\n",
       "  <tbody>\n",
       "    <tr>\n",
       "      <th>4</th>\n",
       "      <td>5203</td>\n",
       "      <td>52007</td>\n",
       "      <td>42900</td>\n",
       "      <td>0.939561</td>\n",
       "      <td>0.720461</td>\n",
       "      <td>0.068182</td>\n",
       "      <td>-1</td>\n",
       "    </tr>\n",
       "    <tr>\n",
       "      <th>5</th>\n",
       "      <td>5203</td>\n",
       "      <td>52010</td>\n",
       "      <td>11231</td>\n",
       "      <td>1.005732</td>\n",
       "      <td>1.138282</td>\n",
       "      <td>0.000000</td>\n",
       "      <td>-1</td>\n",
       "    </tr>\n",
       "    <tr>\n",
       "      <th>9</th>\n",
       "      <td>5203</td>\n",
       "      <td>52009</td>\n",
       "      <td>13292</td>\n",
       "      <td>0.806452</td>\n",
       "      <td>0.463918</td>\n",
       "      <td>0.000000</td>\n",
       "      <td>-1</td>\n",
       "    </tr>\n",
       "    <tr>\n",
       "      <th>11</th>\n",
       "      <td>5203</td>\n",
       "      <td>52010</td>\n",
       "      <td>1516113</td>\n",
       "      <td>0.989204</td>\n",
       "      <td>1.177264</td>\n",
       "      <td>3.000000</td>\n",
       "      <td>-1</td>\n",
       "    </tr>\n",
       "    <tr>\n",
       "      <th>15</th>\n",
       "      <td>5202</td>\n",
       "      <td>52005</td>\n",
       "      <td>7624</td>\n",
       "      <td>1.031447</td>\n",
       "      <td>1.000000</td>\n",
       "      <td>0.000000</td>\n",
       "      <td>-1</td>\n",
       "    </tr>\n",
       "    <tr>\n",
       "      <th>...</th>\n",
       "      <td>...</td>\n",
       "      <td>...</td>\n",
       "      <td>...</td>\n",
       "      <td>...</td>\n",
       "      <td>...</td>\n",
       "      <td>...</td>\n",
       "      <td>...</td>\n",
       "    </tr>\n",
       "    <tr>\n",
       "      <th>4477</th>\n",
       "      <td>5205</td>\n",
       "      <td>52014</td>\n",
       "      <td>3827</td>\n",
       "      <td>0.952024</td>\n",
       "      <td>0.861386</td>\n",
       "      <td>0.000000</td>\n",
       "      <td>-1</td>\n",
       "    </tr>\n",
       "    <tr>\n",
       "      <th>4479</th>\n",
       "      <td>5204</td>\n",
       "      <td>52012</td>\n",
       "      <td>27653</td>\n",
       "      <td>0.926245</td>\n",
       "      <td>0.463722</td>\n",
       "      <td>0.000000</td>\n",
       "      <td>-1</td>\n",
       "    </tr>\n",
       "    <tr>\n",
       "      <th>4481</th>\n",
       "      <td>5204</td>\n",
       "      <td>52011</td>\n",
       "      <td>12949</td>\n",
       "      <td>0.905682</td>\n",
       "      <td>0.949045</td>\n",
       "      <td>0.000000</td>\n",
       "      <td>-1</td>\n",
       "    </tr>\n",
       "    <tr>\n",
       "      <th>4484</th>\n",
       "      <td>5205</td>\n",
       "      <td>52016</td>\n",
       "      <td>3072</td>\n",
       "      <td>0.975000</td>\n",
       "      <td>0.736462</td>\n",
       "      <td>0.000000</td>\n",
       "      <td>-1</td>\n",
       "    </tr>\n",
       "    <tr>\n",
       "      <th>4485</th>\n",
       "      <td>5205</td>\n",
       "      <td>52018</td>\n",
       "      <td>16009</td>\n",
       "      <td>1.030196</td>\n",
       "      <td>1.059829</td>\n",
       "      <td>0.000000</td>\n",
       "      <td>-1</td>\n",
       "    </tr>\n",
       "  </tbody>\n",
       "</table>\n",
       "<p>1639 rows × 7 columns</p>\n",
       "</div>"
      ],
      "text/plain": [
       "      CO_MESORREGIAO  CO_MICRORREGIAO  POPULACAO_ESTIMADA  \\\n",
       "4               5203            52007               42900   \n",
       "5               5203            52010               11231   \n",
       "9               5203            52009               13292   \n",
       "11              5203            52010             1516113   \n",
       "15              5202            52005                7624   \n",
       "...              ...              ...                 ...   \n",
       "4477            5205            52014                3827   \n",
       "4479            5204            52012               27653   \n",
       "4481            5204            52011               12949   \n",
       "4484            5205            52016                3072   \n",
       "4485            5205            52018               16009   \n",
       "\n",
       "      SCORE_MAT_MUN_20_19  SCORE_MAT_ENT_20_19  SCORE_MAT_INTEGRAL_ENT_20_19  \\\n",
       "4                0.939561             0.720461                      0.068182   \n",
       "5                1.005732             1.138282                      0.000000   \n",
       "9                0.806452             0.463918                      0.000000   \n",
       "11               0.989204             1.177264                      3.000000   \n",
       "15               1.031447             1.000000                      0.000000   \n",
       "...                   ...                  ...                           ...   \n",
       "4477             0.952024             0.861386                      0.000000   \n",
       "4479             0.926245             0.463722                      0.000000   \n",
       "4481             0.905682             0.949045                      0.000000   \n",
       "4484             0.975000             0.736462                      0.000000   \n",
       "4485             1.030196             1.059829                      0.000000   \n",
       "\n",
       "      DBSCAN  \n",
       "4         -1  \n",
       "5         -1  \n",
       "9         -1  \n",
       "11        -1  \n",
       "15        -1  \n",
       "...      ...  \n",
       "4477      -1  \n",
       "4479      -1  \n",
       "4481      -1  \n",
       "4484      -1  \n",
       "4485      -1  \n",
       "\n",
       "[1639 rows x 7 columns]"
      ]
     },
     "execution_count": 18,
     "metadata": {},
     "output_type": "execute_result"
    }
   ],
   "source": [
    "X.loc[X['DBSCAN'] == -1]"
   ]
  },
  {
   "cell_type": "markdown",
   "id": "341af56d",
   "metadata": {},
   "source": [
    "#### DBSCAN: Ajustando os parâmetros:\n",
    "\n",
    "- eps: float, padrão = 0,5\n",
    "\n",
    "    A distância máxima entre duas amostras para que uma seja considerada próxima da outra. Este não é um limite máximo para as distâncias de pontos dentro de um cluster. Este é o parâmetro DBSCAN mais importante para escolher apropriadamente para seu conjunto de dados e função de distância.\n",
    "    \n",
    "    \n",
    "\n",
    "- min_samples: int, default = 5\n",
    "\n",
    "    O número de amostras (ou peso total) em uma vizinhança para um ponto a ser considerado como um ponto central. Isso inclui o próprio ponto.\n",
    "    \n",
    "- Fonte: Documentação Scikit Learn\n",
    "\n"
   ]
  },
  {
   "cell_type": "code",
   "execution_count": 19,
   "id": "a178e930",
   "metadata": {},
   "outputs": [],
   "source": [
    "eps = 0.4\n",
    "min_samples = 5"
   ]
  },
  {
   "cell_type": "code",
   "execution_count": 20,
   "id": "e8364301",
   "metadata": {},
   "outputs": [],
   "source": [
    "db2 = DBSCAN(eps= eps, min_samples= min_samples).fit(X)"
   ]
  },
  {
   "cell_type": "code",
   "execution_count": 21,
   "id": "b8200578",
   "metadata": {},
   "outputs": [],
   "source": [
    "y2_ = db2.labels_"
   ]
  },
  {
   "cell_type": "code",
   "execution_count": 22,
   "id": "e22df770",
   "metadata": {},
   "outputs": [],
   "source": [
    "X['DBSCAN2'] = y2_"
   ]
  },
  {
   "cell_type": "code",
   "execution_count": 23,
   "id": "6fc6b9ac",
   "metadata": {},
   "outputs": [
    {
     "name": "stdout",
     "output_type": "stream",
     "text": [
      "Quantidade de outlier com os parâmetros indicados: 899\n"
     ]
    }
   ],
   "source": [
    "b = []\n",
    "for x in X['DBSCAN2']:\n",
    "    if x == -1:\n",
    "      b.append(x)\n",
    "    \n",
    "print(\"Quantidade de outlier com os parâmetros indicados:\", len(b))"
   ]
  },
  {
   "cell_type": "markdown",
   "id": "d458232a",
   "metadata": {},
   "source": [
    "| eps | min_samples | quant outliers |\n",
    "| --- | --- | --- |\n",
    "| 0.5 | 5 | 840 |\n",
    "| 0.4 | 5 | 899 |"
   ]
  },
  {
   "cell_type": "markdown",
   "id": "8400a3a5",
   "metadata": {},
   "source": [
    "##### Number of features seen during fit:"
   ]
  },
  {
   "cell_type": "code",
   "execution_count": 24,
   "id": "78ac2b88",
   "metadata": {},
   "outputs": [
    {
     "data": {
      "text/plain": [
       "7"
      ]
     },
     "execution_count": 24,
     "metadata": {},
     "output_type": "execute_result"
    }
   ],
   "source": [
    "db2.n_features_in_"
   ]
  },
  {
   "cell_type": "code",
   "execution_count": 25,
   "id": "b037b17f",
   "metadata": {},
   "outputs": [
    {
     "data": {
      "text/html": [
       "<div>\n",
       "<style scoped>\n",
       "    .dataframe tbody tr th:only-of-type {\n",
       "        vertical-align: middle;\n",
       "    }\n",
       "\n",
       "    .dataframe tbody tr th {\n",
       "        vertical-align: top;\n",
       "    }\n",
       "\n",
       "    .dataframe thead th {\n",
       "        text-align: right;\n",
       "    }\n",
       "</style>\n",
       "<table border=\"1\" class=\"dataframe\">\n",
       "  <thead>\n",
       "    <tr style=\"text-align: right;\">\n",
       "      <th></th>\n",
       "      <th>CO_MESORREGIAO</th>\n",
       "      <th>CO_MICRORREGIAO</th>\n",
       "      <th>POPULACAO_ESTIMADA</th>\n",
       "      <th>SCORE_MAT_MUN_20_19</th>\n",
       "      <th>SCORE_MAT_ENT_20_19</th>\n",
       "      <th>SCORE_MAT_INTEGRAL_ENT_20_19</th>\n",
       "      <th>DBSCAN</th>\n",
       "      <th>DBSCAN2</th>\n",
       "    </tr>\n",
       "  </thead>\n",
       "  <tbody>\n",
       "    <tr>\n",
       "      <th>462</th>\n",
       "      <td>5203</td>\n",
       "      <td>52009</td>\n",
       "      <td>21850</td>\n",
       "      <td>0.859488</td>\n",
       "      <td>0.694444</td>\n",
       "      <td>0.0</td>\n",
       "      <td>-1</td>\n",
       "      <td>57</td>\n",
       "    </tr>\n",
       "    <tr>\n",
       "      <th>3989</th>\n",
       "      <td>5203</td>\n",
       "      <td>52006</td>\n",
       "      <td>19882</td>\n",
       "      <td>0.973424</td>\n",
       "      <td>0.467626</td>\n",
       "      <td>0.0</td>\n",
       "      <td>-1</td>\n",
       "      <td>-1</td>\n",
       "    </tr>\n",
       "    <tr>\n",
       "      <th>2346</th>\n",
       "      <td>5203</td>\n",
       "      <td>52010</td>\n",
       "      <td>1516113</td>\n",
       "      <td>0.989204</td>\n",
       "      <td>2.303922</td>\n",
       "      <td>0.0</td>\n",
       "      <td>-1</td>\n",
       "      <td>117</td>\n",
       "    </tr>\n",
       "  </tbody>\n",
       "</table>\n",
       "</div>"
      ],
      "text/plain": [
       "      CO_MESORREGIAO  CO_MICRORREGIAO  POPULACAO_ESTIMADA  \\\n",
       "462             5203            52009               21850   \n",
       "3989            5203            52006               19882   \n",
       "2346            5203            52010             1516113   \n",
       "\n",
       "      SCORE_MAT_MUN_20_19  SCORE_MAT_ENT_20_19  SCORE_MAT_INTEGRAL_ENT_20_19  \\\n",
       "462              0.859488             0.694444                           0.0   \n",
       "3989             0.973424             0.467626                           0.0   \n",
       "2346             0.989204             2.303922                           0.0   \n",
       "\n",
       "      DBSCAN  DBSCAN2  \n",
       "462       -1       57  \n",
       "3989      -1       -1  \n",
       "2346      -1      117  "
      ]
     },
     "execution_count": 25,
     "metadata": {},
     "output_type": "execute_result"
    }
   ],
   "source": [
    "X.sample(3)"
   ]
  },
  {
   "cell_type": "markdown",
   "id": "f96a6423",
   "metadata": {},
   "source": [
    "#### Instanciando NOVA base de testes. Agora, exclusivamente com variáries numéricas ou de fonte originalmente numérica:"
   ]
  },
  {
   "cell_type": "code",
   "execution_count": 26,
   "id": "4cabe876",
   "metadata": {},
   "outputs": [],
   "source": [
    "X2 = X[[\n",
    "       'POPULACAO_ESTIMADA',\n",
    "       'SCORE_MAT_MUN_20_19',\n",
    "       'SCORE_MAT_ENT_20_19',\n",
    "       'SCORE_MAT_INTEGRAL_ENT_20_19'\n",
    "    ]]"
   ]
  },
  {
   "cell_type": "code",
   "execution_count": 27,
   "id": "f5f202bf",
   "metadata": {},
   "outputs": [
    {
     "data": {
      "text/html": [
       "<div>\n",
       "<style scoped>\n",
       "    .dataframe tbody tr th:only-of-type {\n",
       "        vertical-align: middle;\n",
       "    }\n",
       "\n",
       "    .dataframe tbody tr th {\n",
       "        vertical-align: top;\n",
       "    }\n",
       "\n",
       "    .dataframe thead th {\n",
       "        text-align: right;\n",
       "    }\n",
       "</style>\n",
       "<table border=\"1\" class=\"dataframe\">\n",
       "  <thead>\n",
       "    <tr style=\"text-align: right;\">\n",
       "      <th></th>\n",
       "      <th>POPULACAO_ESTIMADA</th>\n",
       "      <th>SCORE_MAT_MUN_20_19</th>\n",
       "      <th>SCORE_MAT_ENT_20_19</th>\n",
       "      <th>SCORE_MAT_INTEGRAL_ENT_20_19</th>\n",
       "    </tr>\n",
       "  </thead>\n",
       "  <tbody>\n",
       "    <tr>\n",
       "      <th>0</th>\n",
       "      <td>1516113</td>\n",
       "      <td>0.989204</td>\n",
       "      <td>0.791139</td>\n",
       "      <td>0.0</td>\n",
       "    </tr>\n",
       "    <tr>\n",
       "      <th>1</th>\n",
       "      <td>235647</td>\n",
       "      <td>1.045727</td>\n",
       "      <td>1.188869</td>\n",
       "      <td>0.0</td>\n",
       "    </tr>\n",
       "    <tr>\n",
       "      <th>2</th>\n",
       "      <td>168468</td>\n",
       "      <td>0.966079</td>\n",
       "      <td>0.876020</td>\n",
       "      <td>0.0</td>\n",
       "    </tr>\n",
       "  </tbody>\n",
       "</table>\n",
       "</div>"
      ],
      "text/plain": [
       "   POPULACAO_ESTIMADA  SCORE_MAT_MUN_20_19  SCORE_MAT_ENT_20_19  \\\n",
       "0             1516113             0.989204             0.791139   \n",
       "1              235647             1.045727             1.188869   \n",
       "2              168468             0.966079             0.876020   \n",
       "\n",
       "   SCORE_MAT_INTEGRAL_ENT_20_19  \n",
       "0                           0.0  \n",
       "1                           0.0  \n",
       "2                           0.0  "
      ]
     },
     "execution_count": 27,
     "metadata": {},
     "output_type": "execute_result"
    }
   ],
   "source": [
    "X2.head(3)"
   ]
  },
  {
   "cell_type": "markdown",
   "id": "444cb96f",
   "metadata": {},
   "source": [
    "#### Normalizando os dados:"
   ]
  },
  {
   "cell_type": "code",
   "execution_count": 28,
   "id": "7ed0615c",
   "metadata": {},
   "outputs": [],
   "source": [
    "X2 = StandardScaler().fit_transform(X2)"
   ]
  },
  {
   "cell_type": "code",
   "execution_count": 29,
   "id": "df40444b",
   "metadata": {},
   "outputs": [
    {
     "data": {
      "text/plain": [
       "array([[ 2.13308437,  0.19069779, -0.72313812, -0.09796226],\n",
       "       [-0.20935784,  1.17727102,  0.61626152, -0.09796226],\n",
       "       [-0.33225289, -0.21293223, -0.43729378, -0.09796226],\n",
       "       ...,\n",
       "       [-0.25181196, -0.07408363, -1.17185438, -0.09796226],\n",
       "       [-0.63482287, -0.0572268 , -0.90726973, -0.09796226],\n",
       "       [-0.61115635,  0.90618571,  0.18170591, -0.09796226]])"
      ]
     },
     "execution_count": 29,
     "metadata": {},
     "output_type": "execute_result"
    }
   ],
   "source": [
    "X2"
   ]
  },
  {
   "cell_type": "code",
   "execution_count": 30,
   "id": "d2c86db8",
   "metadata": {},
   "outputs": [
    {
     "data": {
      "text/plain": [
       "(4486, 4)"
      ]
     },
     "execution_count": 30,
     "metadata": {},
     "output_type": "execute_result"
    }
   ],
   "source": [
    "X2.shape"
   ]
  },
  {
   "cell_type": "markdown",
   "id": "effa8769",
   "metadata": {},
   "source": [
    "### DBSCAN com dados normalizados:"
   ]
  },
  {
   "cell_type": "markdown",
   "id": "c77faf3c",
   "metadata": {},
   "source": [
    "#### Ajuste de parâmetros:"
   ]
  },
  {
   "cell_type": "code",
   "execution_count": 31,
   "id": "d2a2c3c2",
   "metadata": {},
   "outputs": [],
   "source": [
    "eps = 0.45\n",
    "min_samples = 5"
   ]
  },
  {
   "cell_type": "code",
   "execution_count": 32,
   "id": "15aca02f",
   "metadata": {},
   "outputs": [
    {
     "name": "stdout",
     "output_type": "stream",
     "text": [
      "Quantidade de outlier com os parâmetros indicados: 125\n"
     ]
    }
   ],
   "source": [
    "db3 = DBSCAN(eps= eps, min_samples= min_samples).fit(X2)\n",
    "\n",
    "y3_ = db3.labels_\n",
    "\n",
    "y3_.tolist()\n",
    "\n",
    "C = []\n",
    "for x in y3_:\n",
    "    if x == -1:\n",
    "      C.append(x)\n",
    "   \n",
    "print(\"Quantidade de outlier com os parâmetros indicados:\", len(C))"
   ]
  },
  {
   "cell_type": "markdown",
   "id": "e1a978f3",
   "metadata": {},
   "source": [
    "| eps | min_samples | quant. outliers |\n",
    "| --- | --- | --- |\n",
    "| 0.45 | 5 | 125 |\n",
    "| 0.5 | 5 | 107 |\n",
    "| 0.5 | 3 | 79 |\n",
    "| 1 | 5 | 33 |\n",
    "| 2 | 5 | 15 |"
   ]
  },
  {
   "cell_type": "markdown",
   "id": "e32419ab",
   "metadata": {},
   "source": [
    "#### Inserindo o resultado do DBSCAN como atributo do df. Considerando referência do número INEP de escolas goianas com taxa de risco (126)."
   ]
  },
  {
   "cell_type": "code",
   "execution_count": 33,
   "id": "85fc3fd2",
   "metadata": {},
   "outputs": [
    {
     "data": {
      "text/plain": [
       "(4486, 8)"
      ]
     },
     "execution_count": 33,
     "metadata": {},
     "output_type": "execute_result"
    }
   ],
   "source": [
    "X.shape"
   ]
  },
  {
   "cell_type": "code",
   "execution_count": 34,
   "id": "4da50517",
   "metadata": {},
   "outputs": [
    {
     "data": {
      "text/plain": [
       "(4486, 4)"
      ]
     },
     "execution_count": 34,
     "metadata": {},
     "output_type": "execute_result"
    }
   ],
   "source": [
    "X2.shape"
   ]
  },
  {
   "cell_type": "code",
   "execution_count": 35,
   "id": "4e7bfb7f",
   "metadata": {},
   "outputs": [
    {
     "data": {
      "text/plain": [
       "(4486, 19)"
      ]
     },
     "execution_count": 35,
     "metadata": {},
     "output_type": "execute_result"
    }
   ],
   "source": [
    "df.shape"
   ]
  },
  {
   "cell_type": "code",
   "execution_count": 36,
   "id": "12119647",
   "metadata": {},
   "outputs": [],
   "source": [
    "df['DBSCAN_NOR'] = db3.labels_"
   ]
  },
  {
   "cell_type": "code",
   "execution_count": 37,
   "id": "c2d4210e",
   "metadata": {},
   "outputs": [
    {
     "data": {
      "text/html": [
       "<div>\n",
       "<style scoped>\n",
       "    .dataframe tbody tr th:only-of-type {\n",
       "        vertical-align: middle;\n",
       "    }\n",
       "\n",
       "    .dataframe tbody tr th {\n",
       "        vertical-align: top;\n",
       "    }\n",
       "\n",
       "    .dataframe thead th {\n",
       "        text-align: right;\n",
       "    }\n",
       "</style>\n",
       "<table border=\"1\" class=\"dataframe\">\n",
       "  <thead>\n",
       "    <tr style=\"text-align: right;\">\n",
       "      <th></th>\n",
       "      <th>CO_UF</th>\n",
       "      <th>UF</th>\n",
       "      <th>SIG_UF</th>\n",
       "      <th>CO_MUNICIPIO</th>\n",
       "      <th>MUNICIPIO</th>\n",
       "      <th>CO_MESORREGIAO</th>\n",
       "      <th>CO_MICRORREGIAO</th>\n",
       "      <th>CO_ENTIDADE</th>\n",
       "      <th>NOME_ENTIDADE</th>\n",
       "      <th>POPULACAO_ESTIMADA</th>\n",
       "      <th>N_MATRICULA_MUN_19</th>\n",
       "      <th>N_MATRICULA_ENT_19</th>\n",
       "      <th>N_MATRICULA_INTEGRAL_ENT_19</th>\n",
       "      <th>N_MATRICULA_MUN_20</th>\n",
       "      <th>N_MATRICULA_ENT_20</th>\n",
       "      <th>N_MATRICULA_INTEGRAL_ENT_20</th>\n",
       "      <th>SCORE_MAT_MUN_20_19</th>\n",
       "      <th>SCORE_MAT_ENT_20_19</th>\n",
       "      <th>SCORE_MAT_INTEGRAL_ENT_20_19</th>\n",
       "      <th>DBSCAN_NOR</th>\n",
       "    </tr>\n",
       "  </thead>\n",
       "  <tbody>\n",
       "    <tr>\n",
       "      <th>2132</th>\n",
       "      <td>52</td>\n",
       "      <td>Goias</td>\n",
       "      <td>GO</td>\n",
       "      <td>5220009</td>\n",
       "      <td>São João d'Aliança</td>\n",
       "      <td>5202</td>\n",
       "      <td>52005</td>\n",
       "      <td>52014118</td>\n",
       "      <td>COLEGIO ESTADUAL PEDRO LUDOVICO TEIXEIRA</td>\n",
       "      <td>13740</td>\n",
       "      <td>2815</td>\n",
       "      <td>517</td>\n",
       "      <td>0.0</td>\n",
       "      <td>2730</td>\n",
       "      <td>580</td>\n",
       "      <td>0.0</td>\n",
       "      <td>0.969805</td>\n",
       "      <td>1.121857</td>\n",
       "      <td>0.0</td>\n",
       "      <td>1</td>\n",
       "    </tr>\n",
       "  </tbody>\n",
       "</table>\n",
       "</div>"
      ],
      "text/plain": [
       "      CO_UF     UF SIG_UF  CO_MUNICIPIO           MUNICIPIO  CO_MESORREGIAO  \\\n",
       "2132     52  Goias     GO       5220009  São João d'Aliança            5202   \n",
       "\n",
       "      CO_MICRORREGIAO  CO_ENTIDADE                             NOME_ENTIDADE  \\\n",
       "2132            52005     52014118  COLEGIO ESTADUAL PEDRO LUDOVICO TEIXEIRA   \n",
       "\n",
       "      POPULACAO_ESTIMADA  N_MATRICULA_MUN_19  N_MATRICULA_ENT_19  \\\n",
       "2132               13740                2815                 517   \n",
       "\n",
       "      N_MATRICULA_INTEGRAL_ENT_19  N_MATRICULA_MUN_20  N_MATRICULA_ENT_20  \\\n",
       "2132                          0.0                2730                 580   \n",
       "\n",
       "      N_MATRICULA_INTEGRAL_ENT_20  SCORE_MAT_MUN_20_19  SCORE_MAT_ENT_20_19  \\\n",
       "2132                          0.0             0.969805             1.121857   \n",
       "\n",
       "      SCORE_MAT_INTEGRAL_ENT_20_19  DBSCAN_NOR  \n",
       "2132                           0.0           1  "
      ]
     },
     "execution_count": 37,
     "metadata": {},
     "output_type": "execute_result"
    }
   ],
   "source": [
    "df.sample(1)"
   ]
  },
  {
   "cell_type": "code",
   "execution_count": 38,
   "id": "8d5829eb",
   "metadata": {},
   "outputs": [
    {
     "data": {
      "text/html": [
       "<div>\n",
       "<style scoped>\n",
       "    .dataframe tbody tr th:only-of-type {\n",
       "        vertical-align: middle;\n",
       "    }\n",
       "\n",
       "    .dataframe tbody tr th {\n",
       "        vertical-align: top;\n",
       "    }\n",
       "\n",
       "    .dataframe thead th {\n",
       "        text-align: right;\n",
       "    }\n",
       "</style>\n",
       "<table border=\"1\" class=\"dataframe\">\n",
       "  <thead>\n",
       "    <tr style=\"text-align: right;\">\n",
       "      <th></th>\n",
       "      <th>CO_UF</th>\n",
       "      <th>UF</th>\n",
       "      <th>SIG_UF</th>\n",
       "      <th>CO_MUNICIPIO</th>\n",
       "      <th>MUNICIPIO</th>\n",
       "      <th>CO_MESORREGIAO</th>\n",
       "      <th>CO_MICRORREGIAO</th>\n",
       "      <th>CO_ENTIDADE</th>\n",
       "      <th>NOME_ENTIDADE</th>\n",
       "      <th>POPULACAO_ESTIMADA</th>\n",
       "      <th>N_MATRICULA_MUN_19</th>\n",
       "      <th>N_MATRICULA_ENT_19</th>\n",
       "      <th>N_MATRICULA_INTEGRAL_ENT_19</th>\n",
       "      <th>N_MATRICULA_MUN_20</th>\n",
       "      <th>N_MATRICULA_ENT_20</th>\n",
       "      <th>N_MATRICULA_INTEGRAL_ENT_20</th>\n",
       "      <th>SCORE_MAT_MUN_20_19</th>\n",
       "      <th>SCORE_MAT_ENT_20_19</th>\n",
       "      <th>SCORE_MAT_INTEGRAL_ENT_20_19</th>\n",
       "      <th>DBSCAN_NOR</th>\n",
       "    </tr>\n",
       "  </thead>\n",
       "  <tbody>\n",
       "    <tr>\n",
       "      <th>9</th>\n",
       "      <td>52</td>\n",
       "      <td>Goias</td>\n",
       "      <td>GO</td>\n",
       "      <td>5207808</td>\n",
       "      <td>Firminópolis</td>\n",
       "      <td>5203</td>\n",
       "      <td>52009</td>\n",
       "      <td>52029220</td>\n",
       "      <td>ESCOLA ESTADUAL JOSE MANOEL DA SILVA</td>\n",
       "      <td>13292</td>\n",
       "      <td>1984</td>\n",
       "      <td>291</td>\n",
       "      <td>0.0</td>\n",
       "      <td>1600</td>\n",
       "      <td>135</td>\n",
       "      <td>0.0</td>\n",
       "      <td>0.806452</td>\n",
       "      <td>0.463918</td>\n",
       "      <td>0.00</td>\n",
       "      <td>-1</td>\n",
       "    </tr>\n",
       "    <tr>\n",
       "      <th>115</th>\n",
       "      <td>52</td>\n",
       "      <td>Goias</td>\n",
       "      <td>GO</td>\n",
       "      <td>5221452</td>\n",
       "      <td>Trombas</td>\n",
       "      <td>5202</td>\n",
       "      <td>52004</td>\n",
       "      <td>52011500</td>\n",
       "      <td>COLEGIO ESTADUAL DEPUTADO JOSE PORFIRIO</td>\n",
       "      <td>3500</td>\n",
       "      <td>611</td>\n",
       "      <td>318</td>\n",
       "      <td>0.0</td>\n",
       "      <td>696</td>\n",
       "      <td>425</td>\n",
       "      <td>0.0</td>\n",
       "      <td>1.139116</td>\n",
       "      <td>1.336478</td>\n",
       "      <td>0.00</td>\n",
       "      <td>-1</td>\n",
       "    </tr>\n",
       "    <tr>\n",
       "      <th>197</th>\n",
       "      <td>52</td>\n",
       "      <td>Goias</td>\n",
       "      <td>GO</td>\n",
       "      <td>5210406</td>\n",
       "      <td>Itaberaí</td>\n",
       "      <td>5203</td>\n",
       "      <td>52007</td>\n",
       "      <td>52023567</td>\n",
       "      <td>ESCOLA ESTADUAL SAO JOSE DO RETIRO</td>\n",
       "      <td>42900</td>\n",
       "      <td>10490</td>\n",
       "      <td>42</td>\n",
       "      <td>0.0</td>\n",
       "      <td>9856</td>\n",
       "      <td>9</td>\n",
       "      <td>0.0</td>\n",
       "      <td>0.939561</td>\n",
       "      <td>0.214286</td>\n",
       "      <td>0.00</td>\n",
       "      <td>-1</td>\n",
       "    </tr>\n",
       "    <tr>\n",
       "      <th>213</th>\n",
       "      <td>52</td>\n",
       "      <td>Goias</td>\n",
       "      <td>GO</td>\n",
       "      <td>5207907</td>\n",
       "      <td>Flores de Goiás</td>\n",
       "      <td>5204</td>\n",
       "      <td>52011</td>\n",
       "      <td>52040780</td>\n",
       "      <td>COLEGIO ESTADUAL MARECHAL HUMBERTO DE ALENCAR ...</td>\n",
       "      <td>16557</td>\n",
       "      <td>2885</td>\n",
       "      <td>599</td>\n",
       "      <td>0.0</td>\n",
       "      <td>2015</td>\n",
       "      <td>146</td>\n",
       "      <td>0.0</td>\n",
       "      <td>0.698440</td>\n",
       "      <td>0.243740</td>\n",
       "      <td>0.00</td>\n",
       "      <td>-1</td>\n",
       "    </tr>\n",
       "    <tr>\n",
       "      <th>233</th>\n",
       "      <td>52</td>\n",
       "      <td>Goias</td>\n",
       "      <td>GO</td>\n",
       "      <td>5211909</td>\n",
       "      <td>Jataí</td>\n",
       "      <td>5205</td>\n",
       "      <td>52013</td>\n",
       "      <td>52133206</td>\n",
       "      <td>CASA EVANGELICA MONTE DAS OLIVEIRAS - CEMOL</td>\n",
       "      <td>100882</td>\n",
       "      <td>23357</td>\n",
       "      <td>96</td>\n",
       "      <td>0.0</td>\n",
       "      <td>23130</td>\n",
       "      <td>4</td>\n",
       "      <td>0.0</td>\n",
       "      <td>0.990281</td>\n",
       "      <td>0.041667</td>\n",
       "      <td>0.00</td>\n",
       "      <td>-1</td>\n",
       "    </tr>\n",
       "    <tr>\n",
       "      <th>...</th>\n",
       "      <td>...</td>\n",
       "      <td>...</td>\n",
       "      <td>...</td>\n",
       "      <td>...</td>\n",
       "      <td>...</td>\n",
       "      <td>...</td>\n",
       "      <td>...</td>\n",
       "      <td>...</td>\n",
       "      <td>...</td>\n",
       "      <td>...</td>\n",
       "      <td>...</td>\n",
       "      <td>...</td>\n",
       "      <td>...</td>\n",
       "      <td>...</td>\n",
       "      <td>...</td>\n",
       "      <td>...</td>\n",
       "      <td>...</td>\n",
       "      <td>...</td>\n",
       "      <td>...</td>\n",
       "      <td>...</td>\n",
       "    </tr>\n",
       "    <tr>\n",
       "      <th>4142</th>\n",
       "      <td>52</td>\n",
       "      <td>Goias</td>\n",
       "      <td>GO</td>\n",
       "      <td>5203559</td>\n",
       "      <td>Bonfinópolis</td>\n",
       "      <td>5203</td>\n",
       "      <td>52010</td>\n",
       "      <td>52032680</td>\n",
       "      <td>ESCOLA MUNICIPAL HERMINIO LEMES</td>\n",
       "      <td>9706</td>\n",
       "      <td>1915</td>\n",
       "      <td>239</td>\n",
       "      <td>25.0</td>\n",
       "      <td>1976</td>\n",
       "      <td>251</td>\n",
       "      <td>239.0</td>\n",
       "      <td>1.031854</td>\n",
       "      <td>1.050209</td>\n",
       "      <td>9.56</td>\n",
       "      <td>-1</td>\n",
       "    </tr>\n",
       "    <tr>\n",
       "      <th>4232</th>\n",
       "      <td>52</td>\n",
       "      <td>Goias</td>\n",
       "      <td>GO</td>\n",
       "      <td>5220686</td>\n",
       "      <td>Simolândia</td>\n",
       "      <td>5204</td>\n",
       "      <td>52011</td>\n",
       "      <td>52075710</td>\n",
       "      <td>ESCOLA MUNICIPAL PEQUENO PRINCIPE</td>\n",
       "      <td>6856</td>\n",
       "      <td>1823</td>\n",
       "      <td>110</td>\n",
       "      <td>20.0</td>\n",
       "      <td>1525</td>\n",
       "      <td>147</td>\n",
       "      <td>0.0</td>\n",
       "      <td>0.836533</td>\n",
       "      <td>1.336364</td>\n",
       "      <td>0.00</td>\n",
       "      <td>-1</td>\n",
       "    </tr>\n",
       "    <tr>\n",
       "      <th>4376</th>\n",
       "      <td>52</td>\n",
       "      <td>Goias</td>\n",
       "      <td>GO</td>\n",
       "      <td>5207808</td>\n",
       "      <td>Firminópolis</td>\n",
       "      <td>5203</td>\n",
       "      <td>52009</td>\n",
       "      <td>52029182</td>\n",
       "      <td>COLEGIO ESTADUAL AMERICO GONCALVES FALEIRO</td>\n",
       "      <td>13292</td>\n",
       "      <td>1984</td>\n",
       "      <td>816</td>\n",
       "      <td>0.0</td>\n",
       "      <td>1600</td>\n",
       "      <td>640</td>\n",
       "      <td>0.0</td>\n",
       "      <td>0.806452</td>\n",
       "      <td>0.784314</td>\n",
       "      <td>0.00</td>\n",
       "      <td>-1</td>\n",
       "    </tr>\n",
       "    <tr>\n",
       "      <th>4458</th>\n",
       "      <td>52</td>\n",
       "      <td>Goias</td>\n",
       "      <td>GO</td>\n",
       "      <td>5221403</td>\n",
       "      <td>Trindade</td>\n",
       "      <td>5203</td>\n",
       "      <td>52010</td>\n",
       "      <td>52091937</td>\n",
       "      <td>EDUCANDARIO SANTA TEREZINHA</td>\n",
       "      <td>127599</td>\n",
       "      <td>29506</td>\n",
       "      <td>44</td>\n",
       "      <td>0.0</td>\n",
       "      <td>30434</td>\n",
       "      <td>161</td>\n",
       "      <td>0.0</td>\n",
       "      <td>1.031451</td>\n",
       "      <td>3.659091</td>\n",
       "      <td>0.00</td>\n",
       "      <td>-1</td>\n",
       "    </tr>\n",
       "    <tr>\n",
       "      <th>4470</th>\n",
       "      <td>52</td>\n",
       "      <td>Goias</td>\n",
       "      <td>GO</td>\n",
       "      <td>5213400</td>\n",
       "      <td>Moiporá</td>\n",
       "      <td>5203</td>\n",
       "      <td>52008</td>\n",
       "      <td>52076032</td>\n",
       "      <td>ESC MUL SABINO MAMEDIO</td>\n",
       "      <td>1529</td>\n",
       "      <td>383</td>\n",
       "      <td>80</td>\n",
       "      <td>0.0</td>\n",
       "      <td>242</td>\n",
       "      <td>105</td>\n",
       "      <td>0.0</td>\n",
       "      <td>0.631854</td>\n",
       "      <td>1.312500</td>\n",
       "      <td>0.00</td>\n",
       "      <td>-1</td>\n",
       "    </tr>\n",
       "  </tbody>\n",
       "</table>\n",
       "<p>125 rows × 20 columns</p>\n",
       "</div>"
      ],
      "text/plain": [
       "      CO_UF     UF SIG_UF  CO_MUNICIPIO        MUNICIPIO  CO_MESORREGIAO  \\\n",
       "9        52  Goias     GO       5207808     Firminópolis            5203   \n",
       "115      52  Goias     GO       5221452          Trombas            5202   \n",
       "197      52  Goias     GO       5210406         Itaberaí            5203   \n",
       "213      52  Goias     GO       5207907  Flores de Goiás            5204   \n",
       "233      52  Goias     GO       5211909            Jataí            5205   \n",
       "...     ...    ...    ...           ...              ...             ...   \n",
       "4142     52  Goias     GO       5203559     Bonfinópolis            5203   \n",
       "4232     52  Goias     GO       5220686       Simolândia            5204   \n",
       "4376     52  Goias     GO       5207808     Firminópolis            5203   \n",
       "4458     52  Goias     GO       5221403         Trindade            5203   \n",
       "4470     52  Goias     GO       5213400          Moiporá            5203   \n",
       "\n",
       "      CO_MICRORREGIAO  CO_ENTIDADE  \\\n",
       "9               52009     52029220   \n",
       "115             52004     52011500   \n",
       "197             52007     52023567   \n",
       "213             52011     52040780   \n",
       "233             52013     52133206   \n",
       "...               ...          ...   \n",
       "4142            52010     52032680   \n",
       "4232            52011     52075710   \n",
       "4376            52009     52029182   \n",
       "4458            52010     52091937   \n",
       "4470            52008     52076032   \n",
       "\n",
       "                                          NOME_ENTIDADE  POPULACAO_ESTIMADA  \\\n",
       "9                  ESCOLA ESTADUAL JOSE MANOEL DA SILVA               13292   \n",
       "115             COLEGIO ESTADUAL DEPUTADO JOSE PORFIRIO                3500   \n",
       "197                  ESCOLA ESTADUAL SAO JOSE DO RETIRO               42900   \n",
       "213   COLEGIO ESTADUAL MARECHAL HUMBERTO DE ALENCAR ...               16557   \n",
       "233         CASA EVANGELICA MONTE DAS OLIVEIRAS - CEMOL              100882   \n",
       "...                                                 ...                 ...   \n",
       "4142                    ESCOLA MUNICIPAL HERMINIO LEMES                9706   \n",
       "4232                  ESCOLA MUNICIPAL PEQUENO PRINCIPE                6856   \n",
       "4376         COLEGIO ESTADUAL AMERICO GONCALVES FALEIRO               13292   \n",
       "4458                        EDUCANDARIO SANTA TEREZINHA              127599   \n",
       "4470                             ESC MUL SABINO MAMEDIO                1529   \n",
       "\n",
       "      N_MATRICULA_MUN_19  N_MATRICULA_ENT_19  N_MATRICULA_INTEGRAL_ENT_19  \\\n",
       "9                   1984                 291                          0.0   \n",
       "115                  611                 318                          0.0   \n",
       "197                10490                  42                          0.0   \n",
       "213                 2885                 599                          0.0   \n",
       "233                23357                  96                          0.0   \n",
       "...                  ...                 ...                          ...   \n",
       "4142                1915                 239                         25.0   \n",
       "4232                1823                 110                         20.0   \n",
       "4376                1984                 816                          0.0   \n",
       "4458               29506                  44                          0.0   \n",
       "4470                 383                  80                          0.0   \n",
       "\n",
       "      N_MATRICULA_MUN_20  N_MATRICULA_ENT_20  N_MATRICULA_INTEGRAL_ENT_20  \\\n",
       "9                   1600                 135                          0.0   \n",
       "115                  696                 425                          0.0   \n",
       "197                 9856                   9                          0.0   \n",
       "213                 2015                 146                          0.0   \n",
       "233                23130                   4                          0.0   \n",
       "...                  ...                 ...                          ...   \n",
       "4142                1976                 251                        239.0   \n",
       "4232                1525                 147                          0.0   \n",
       "4376                1600                 640                          0.0   \n",
       "4458               30434                 161                          0.0   \n",
       "4470                 242                 105                          0.0   \n",
       "\n",
       "      SCORE_MAT_MUN_20_19  SCORE_MAT_ENT_20_19  SCORE_MAT_INTEGRAL_ENT_20_19  \\\n",
       "9                0.806452             0.463918                          0.00   \n",
       "115              1.139116             1.336478                          0.00   \n",
       "197              0.939561             0.214286                          0.00   \n",
       "213              0.698440             0.243740                          0.00   \n",
       "233              0.990281             0.041667                          0.00   \n",
       "...                   ...                  ...                           ...   \n",
       "4142             1.031854             1.050209                          9.56   \n",
       "4232             0.836533             1.336364                          0.00   \n",
       "4376             0.806452             0.784314                          0.00   \n",
       "4458             1.031451             3.659091                          0.00   \n",
       "4470             0.631854             1.312500                          0.00   \n",
       "\n",
       "      DBSCAN_NOR  \n",
       "9             -1  \n",
       "115           -1  \n",
       "197           -1  \n",
       "213           -1  \n",
       "233           -1  \n",
       "...          ...  \n",
       "4142          -1  \n",
       "4232          -1  \n",
       "4376          -1  \n",
       "4458          -1  \n",
       "4470          -1  \n",
       "\n",
       "[125 rows x 20 columns]"
      ]
     },
     "execution_count": 38,
     "metadata": {},
     "output_type": "execute_result"
    }
   ],
   "source": [
    "df.loc[df['DBSCAN_NOR'] == -1]"
   ]
  },
  {
   "cell_type": "markdown",
   "id": "c61dc476",
   "metadata": {},
   "source": [
    "#### Instanciando um df noise com os resultados completos das ocorrências outliers:"
   ]
  },
  {
   "cell_type": "code",
   "execution_count": 39,
   "id": "32ff40c7",
   "metadata": {},
   "outputs": [],
   "source": [
    "df_noise = df.loc[df['DBSCAN_NOR'] == -1]"
   ]
  },
  {
   "cell_type": "code",
   "execution_count": 40,
   "id": "9bde4a98",
   "metadata": {},
   "outputs": [
    {
     "data": {
      "text/plain": [
       "(125, 20)"
      ]
     },
     "execution_count": 40,
     "metadata": {},
     "output_type": "execute_result"
    }
   ],
   "source": [
    "df_noise.shape"
   ]
  },
  {
   "cell_type": "code",
   "execution_count": 70,
   "id": "4c1b1ab9",
   "metadata": {},
   "outputs": [],
   "source": [
    "df_noise.to_csv('df_noise_dbscan.csv', encoding='utf-8', sep=';', index = False)"
   ]
  },
  {
   "cell_type": "markdown",
   "id": "4af0fa81",
   "metadata": {},
   "source": [
    "#### Visualizando resultados DBSCAN"
   ]
  },
  {
   "cell_type": "code",
   "execution_count": 55,
   "id": "d9efe381",
   "metadata": {},
   "outputs": [
    {
     "data": {
      "text/plain": [
       "<AxesSubplot:xlabel='POPULACAO_ESTIMADA'>"
      ]
     },
     "execution_count": 55,
     "metadata": {},
     "output_type": "execute_result"
    },
    {
     "data": {
      "image/png": "[encoded data removed]",
      "text/plain": [
       "<Figure size 432x288 with 1 Axes>"
      ]
     },
     "metadata": {
      "needs_background": "light"
     },
     "output_type": "display_data"
    }
   ],
   "source": [
    "sns.boxplot(x=df_noise['POPULACAO_ESTIMADA'])"
   ]
  },
  {
   "cell_type": "code",
   "execution_count": 57,
   "id": "8b99dfab",
   "metadata": {},
   "outputs": [
    {
     "data": {
      "text/plain": [
       "<AxesSubplot:xlabel='SCORE_MAT_MUN_20_19'>"
      ]
     },
     "execution_count": 57,
     "metadata": {},
     "output_type": "execute_result"
    },
    {
     "data": {
      "image/png": "[encoded data removed]",
      "text/plain": [
       "<Figure size 432x288 with 1 Axes>"
      ]
     },
     "metadata": {
      "needs_background": "light"
     },
     "output_type": "display_data"
    }
   ],
   "source": [
    "sns.boxplot(x=df_noise['SCORE_MAT_MUN_20_19'], orient=\"h\")"
   ]
  },
  {
   "cell_type": "code",
   "execution_count": 58,
   "id": "5fba1a71",
   "metadata": {},
   "outputs": [
    {
     "data": {
      "text/plain": [
       "<AxesSubplot:xlabel='SCORE_MAT_ENT_20_19'>"
      ]
     },
     "execution_count": 58,
     "metadata": {},
     "output_type": "execute_result"
    },
    {
     "data": {
      "image/png": "[encoded data removed]",
      "text/plain": [
       "<Figure size 432x288 with 1 Axes>"
      ]
     },
     "metadata": {
      "needs_background": "light"
     },
     "output_type": "display_data"
    }
   ],
   "source": [
    "sns.boxplot(x=df_noise['SCORE_MAT_ENT_20_19'], orient=\"h\")"
   ]
  },
  {
   "cell_type": "code",
   "execution_count": 59,
   "id": "299efa16",
   "metadata": {},
   "outputs": [
    {
     "data": {
      "text/plain": [
       "<AxesSubplot:xlabel='SCORE_MAT_INTEGRAL_ENT_20_19'>"
      ]
     },
     "execution_count": 59,
     "metadata": {},
     "output_type": "execute_result"
    },
    {
     "data": {
      "image/png": "[encoded data removed]",
      "text/plain": [
       "<Figure size 432x288 with 1 Axes>"
      ]
     },
     "metadata": {
      "needs_background": "light"
     },
     "output_type": "display_data"
    }
   ],
   "source": [
    "sns.boxplot(x=df_noise['SCORE_MAT_INTEGRAL_ENT_20_19'], orient=\"h\")"
   ]
  },
  {
   "cell_type": "code",
   "execution_count": 60,
   "id": "9da49e36",
   "metadata": {},
   "outputs": [
    {
     "data": {
      "text/html": [
       "<div>\n",
       "<style scoped>\n",
       "    .dataframe tbody tr th:only-of-type {\n",
       "        vertical-align: middle;\n",
       "    }\n",
       "\n",
       "    .dataframe tbody tr th {\n",
       "        vertical-align: top;\n",
       "    }\n",
       "\n",
       "    .dataframe thead th {\n",
       "        text-align: right;\n",
       "    }\n",
       "</style>\n",
       "<table border=\"1\" class=\"dataframe\">\n",
       "  <thead>\n",
       "    <tr style=\"text-align: right;\">\n",
       "      <th></th>\n",
       "      <th>CO_UF</th>\n",
       "      <th>CO_MUNICIPIO</th>\n",
       "      <th>CO_MESORREGIAO</th>\n",
       "      <th>CO_MICRORREGIAO</th>\n",
       "      <th>CO_ENTIDADE</th>\n",
       "      <th>POPULACAO_ESTIMADA</th>\n",
       "      <th>N_MATRICULA_MUN_19</th>\n",
       "      <th>N_MATRICULA_ENT_19</th>\n",
       "      <th>N_MATRICULA_INTEGRAL_ENT_19</th>\n",
       "      <th>N_MATRICULA_MUN_20</th>\n",
       "      <th>N_MATRICULA_ENT_20</th>\n",
       "      <th>N_MATRICULA_INTEGRAL_ENT_20</th>\n",
       "      <th>SCORE_MAT_MUN_20_19</th>\n",
       "      <th>SCORE_MAT_ENT_20_19</th>\n",
       "      <th>SCORE_MAT_INTEGRAL_ENT_20_19</th>\n",
       "      <th>DBSCAN_NOR</th>\n",
       "    </tr>\n",
       "  </thead>\n",
       "  <tbody>\n",
       "    <tr>\n",
       "      <th>count</th>\n",
       "      <td>125.0</td>\n",
       "      <td>1.250000e+02</td>\n",
       "      <td>125.000000</td>\n",
       "      <td>125.000000</td>\n",
       "      <td>1.250000e+02</td>\n",
       "      <td>1.250000e+02</td>\n",
       "      <td>125.000000</td>\n",
       "      <td>125.000000</td>\n",
       "      <td>125.000000</td>\n",
       "      <td>125.000000</td>\n",
       "      <td>125.000000</td>\n",
       "      <td>125.000000</td>\n",
       "      <td>125.000000</td>\n",
       "      <td>125.000000</td>\n",
       "      <td>125.000000</td>\n",
       "      <td>125.0</td>\n",
       "    </tr>\n",
       "    <tr>\n",
       "      <th>mean</th>\n",
       "      <td>52.0</td>\n",
       "      <td>5.209135e+06</td>\n",
       "      <td>5203.304000</td>\n",
       "      <td>52009.392000</td>\n",
       "      <td>5.206864e+07</td>\n",
       "      <td>2.672539e+05</td>\n",
       "      <td>52310.520000</td>\n",
       "      <td>294.912000</td>\n",
       "      <td>4.368000</td>\n",
       "      <td>50828.224000</td>\n",
       "      <td>336.688000</td>\n",
       "      <td>24.984000</td>\n",
       "      <td>0.916928</td>\n",
       "      <td>1.695458</td>\n",
       "      <td>7.865541</td>\n",
       "      <td>-1.0</td>\n",
       "    </tr>\n",
       "    <tr>\n",
       "      <th>std</th>\n",
       "      <td>0.0</td>\n",
       "      <td>6.326338e+03</td>\n",
       "      <td>1.041277</td>\n",
       "      <td>3.374229</td>\n",
       "      <td>4.975856e+04</td>\n",
       "      <td>4.664431e+05</td>\n",
       "      <td>86663.398428</td>\n",
       "      <td>319.023081</td>\n",
       "      <td>15.092476</td>\n",
       "      <td>83889.952259</td>\n",
       "      <td>324.875421</td>\n",
       "      <td>59.791436</td>\n",
       "      <td>0.153519</td>\n",
       "      <td>1.204223</td>\n",
       "      <td>26.241059</td>\n",
       "      <td>0.0</td>\n",
       "    </tr>\n",
       "    <tr>\n",
       "      <th>min</th>\n",
       "      <td>52.0</td>\n",
       "      <td>5.200159e+06</td>\n",
       "      <td>5201.000000</td>\n",
       "      <td>52001.000000</td>\n",
       "      <td>5.200088e+07</td>\n",
       "      <td>1.381000e+03</td>\n",
       "      <td>357.000000</td>\n",
       "      <td>6.000000</td>\n",
       "      <td>0.000000</td>\n",
       "      <td>242.000000</td>\n",
       "      <td>4.000000</td>\n",
       "      <td>0.000000</td>\n",
       "      <td>0.424161</td>\n",
       "      <td>0.041667</td>\n",
       "      <td>0.000000</td>\n",
       "      <td>-1.0</td>\n",
       "    </tr>\n",
       "    <tr>\n",
       "      <th>25%</th>\n",
       "      <td>52.0</td>\n",
       "      <td>5.204003e+06</td>\n",
       "      <td>5203.000000</td>\n",
       "      <td>52007.000000</td>\n",
       "      <td>5.203091e+07</td>\n",
       "      <td>4.887000e+03</td>\n",
       "      <td>1041.000000</td>\n",
       "      <td>64.000000</td>\n",
       "      <td>0.000000</td>\n",
       "      <td>1094.000000</td>\n",
       "      <td>115.000000</td>\n",
       "      <td>0.000000</td>\n",
       "      <td>0.859488</td>\n",
       "      <td>0.956873</td>\n",
       "      <td>0.000000</td>\n",
       "      <td>-1.0</td>\n",
       "    </tr>\n",
       "    <tr>\n",
       "      <th>50%</th>\n",
       "      <td>52.0</td>\n",
       "      <td>5.208707e+06</td>\n",
       "      <td>5203.000000</td>\n",
       "      <td>52010.000000</td>\n",
       "      <td>5.206805e+07</td>\n",
       "      <td>2.765300e+04</td>\n",
       "      <td>6822.000000</td>\n",
       "      <td>174.000000</td>\n",
       "      <td>0.000000</td>\n",
       "      <td>6568.000000</td>\n",
       "      <td>229.000000</td>\n",
       "      <td>0.000000</td>\n",
       "      <td>0.981582</td>\n",
       "      <td>1.336478</td>\n",
       "      <td>0.000000</td>\n",
       "      <td>-1.0</td>\n",
       "    </tr>\n",
       "    <tr>\n",
       "      <th>75%</th>\n",
       "      <td>52.0</td>\n",
       "      <td>5.213103e+06</td>\n",
       "      <td>5204.000000</td>\n",
       "      <td>52011.000000</td>\n",
       "      <td>5.209760e+07</td>\n",
       "      <td>3.869230e+05</td>\n",
       "      <td>89054.000000</td>\n",
       "      <td>422.000000</td>\n",
       "      <td>1.000000</td>\n",
       "      <td>85693.000000</td>\n",
       "      <td>453.000000</td>\n",
       "      <td>16.000000</td>\n",
       "      <td>1.019438</td>\n",
       "      <td>2.277778</td>\n",
       "      <td>2.769231</td>\n",
       "      <td>-1.0</td>\n",
       "    </tr>\n",
       "    <tr>\n",
       "      <th>max</th>\n",
       "      <td>52.0</td>\n",
       "      <td>5.221700e+06</td>\n",
       "      <td>5205.000000</td>\n",
       "      <td>52018.000000</td>\n",
       "      <td>5.229036e+07</td>\n",
       "      <td>1.516113e+06</td>\n",
       "      <td>279830.000000</td>\n",
       "      <td>1730.000000</td>\n",
       "      <td>126.000000</td>\n",
       "      <td>276809.000000</td>\n",
       "      <td>1731.000000</td>\n",
       "      <td>283.000000</td>\n",
       "      <td>1.139116</td>\n",
       "      <td>7.862745</td>\n",
       "      <td>187.000000</td>\n",
       "      <td>-1.0</td>\n",
       "    </tr>\n",
       "  </tbody>\n",
       "</table>\n",
       "</div>"
      ],
      "text/plain": [
       "       CO_UF  CO_MUNICIPIO  CO_MESORREGIAO  CO_MICRORREGIAO   CO_ENTIDADE  \\\n",
       "count  125.0  1.250000e+02      125.000000       125.000000  1.250000e+02   \n",
       "mean    52.0  5.209135e+06     5203.304000     52009.392000  5.206864e+07   \n",
       "std      0.0  6.326338e+03        1.041277         3.374229  4.975856e+04   \n",
       "min     52.0  5.200159e+06     5201.000000     52001.000000  5.200088e+07   \n",
       "25%     52.0  5.204003e+06     5203.000000     52007.000000  5.203091e+07   \n",
       "50%     52.0  5.208707e+06     5203.000000     52010.000000  5.206805e+07   \n",
       "75%     52.0  5.213103e+06     5204.000000     52011.000000  5.209760e+07   \n",
       "max     52.0  5.221700e+06     5205.000000     52018.000000  5.229036e+07   \n",
       "\n",
       "       POPULACAO_ESTIMADA  N_MATRICULA_MUN_19  N_MATRICULA_ENT_19  \\\n",
       "count        1.250000e+02          125.000000          125.000000   \n",
       "mean         2.672539e+05        52310.520000          294.912000   \n",
       "std          4.664431e+05        86663.398428          319.023081   \n",
       "min          1.381000e+03          357.000000            6.000000   \n",
       "25%          4.887000e+03         1041.000000           64.000000   \n",
       "50%          2.765300e+04         6822.000000          174.000000   \n",
       "75%          3.869230e+05        89054.000000          422.000000   \n",
       "max          1.516113e+06       279830.000000         1730.000000   \n",
       "\n",
       "       N_MATRICULA_INTEGRAL_ENT_19  N_MATRICULA_MUN_20  N_MATRICULA_ENT_20  \\\n",
       "count                   125.000000          125.000000          125.000000   \n",
       "mean                      4.368000        50828.224000          336.688000   \n",
       "std                      15.092476        83889.952259          324.875421   \n",
       "min                       0.000000          242.000000            4.000000   \n",
       "25%                       0.000000         1094.000000          115.000000   \n",
       "50%                       0.000000         6568.000000          229.000000   \n",
       "75%                       1.000000        85693.000000          453.000000   \n",
       "max                     126.000000       276809.000000         1731.000000   \n",
       "\n",
       "       N_MATRICULA_INTEGRAL_ENT_20  SCORE_MAT_MUN_20_19  SCORE_MAT_ENT_20_19  \\\n",
       "count                   125.000000           125.000000           125.000000   \n",
       "mean                     24.984000             0.916928             1.695458   \n",
       "std                      59.791436             0.153519             1.204223   \n",
       "min                       0.000000             0.424161             0.041667   \n",
       "25%                       0.000000             0.859488             0.956873   \n",
       "50%                       0.000000             0.981582             1.336478   \n",
       "75%                      16.000000             1.019438             2.277778   \n",
       "max                     283.000000             1.139116             7.862745   \n",
       "\n",
       "       SCORE_MAT_INTEGRAL_ENT_20_19  DBSCAN_NOR  \n",
       "count                    125.000000       125.0  \n",
       "mean                       7.865541        -1.0  \n",
       "std                       26.241059         0.0  \n",
       "min                        0.000000        -1.0  \n",
       "25%                        0.000000        -1.0  \n",
       "50%                        0.000000        -1.0  \n",
       "75%                        2.769231        -1.0  \n",
       "max                      187.000000        -1.0  "
      ]
     },
     "execution_count": 60,
     "metadata": {},
     "output_type": "execute_result"
    }
   ],
   "source": [
    "df_noise.describe()"
   ]
  },
  {
   "cell_type": "code",
   "execution_count": 61,
   "id": "36109cd3",
   "metadata": {},
   "outputs": [],
   "source": [
    "df_noise.to_excel('df_noise_DBSCAN.xlsx')"
   ]
  },
  {
   "cell_type": "code",
   "execution_count": 62,
   "id": "d374a768",
   "metadata": {},
   "outputs": [
    {
     "data": {
      "text/plain": [
       "['CO_UF',\n",
       " 'UF',\n",
       " 'SIG_UF',\n",
       " 'CO_MUNICIPIO',\n",
       " 'MUNICIPIO',\n",
       " 'CO_MESORREGIAO',\n",
       " 'CO_MICRORREGIAO',\n",
       " 'CO_ENTIDADE',\n",
       " 'NOME_ENTIDADE',\n",
       " 'POPULACAO_ESTIMADA',\n",
       " 'N_MATRICULA_MUN_19',\n",
       " 'N_MATRICULA_ENT_19',\n",
       " 'N_MATRICULA_INTEGRAL_ENT_19',\n",
       " 'N_MATRICULA_MUN_20',\n",
       " 'N_MATRICULA_ENT_20',\n",
       " 'N_MATRICULA_INTEGRAL_ENT_20',\n",
       " 'SCORE_MAT_MUN_20_19',\n",
       " 'SCORE_MAT_ENT_20_19',\n",
       " 'SCORE_MAT_INTEGRAL_ENT_20_19',\n",
       " 'DBSCAN_NOR']"
      ]
     },
     "execution_count": 62,
     "metadata": {},
     "output_type": "execute_result"
    }
   ],
   "source": [
    "df_noise.columns.tolist()"
   ]
  },
  {
   "cell_type": "code",
   "execution_count": 68,
   "id": "a826fa03",
   "metadata": {},
   "outputs": [
    {
     "data": {
      "text/html": [
       "<div>\n",
       "<style scoped>\n",
       "    .dataframe tbody tr th:only-of-type {\n",
       "        vertical-align: middle;\n",
       "    }\n",
       "\n",
       "    .dataframe tbody tr th {\n",
       "        vertical-align: top;\n",
       "    }\n",
       "\n",
       "    .dataframe thead th {\n",
       "        text-align: right;\n",
       "    }\n",
       "</style>\n",
       "<table border=\"1\" class=\"dataframe\">\n",
       "  <thead>\n",
       "    <tr style=\"text-align: right;\">\n",
       "      <th>col_0</th>\n",
       "      <th>count</th>\n",
       "    </tr>\n",
       "    <tr>\n",
       "      <th>MUNICIPIO</th>\n",
       "      <th></th>\n",
       "    </tr>\n",
       "  </thead>\n",
       "  <tbody>\n",
       "    <tr>\n",
       "      <th>Adelândia</th>\n",
       "      <td>3</td>\n",
       "    </tr>\n",
       "    <tr>\n",
       "      <th>Alexânia</th>\n",
       "      <td>2</td>\n",
       "    </tr>\n",
       "    <tr>\n",
       "      <th>Anicuns</th>\n",
       "      <td>3</td>\n",
       "    </tr>\n",
       "    <tr>\n",
       "      <th>Anápolis</th>\n",
       "      <td>4</td>\n",
       "    </tr>\n",
       "    <tr>\n",
       "      <th>Aparecida de Goiânia</th>\n",
       "      <td>15</td>\n",
       "    </tr>\n",
       "    <tr>\n",
       "      <th>...</th>\n",
       "      <td>...</td>\n",
       "    </tr>\n",
       "    <tr>\n",
       "      <th>Terezópolis de Goiás</th>\n",
       "      <td>1</td>\n",
       "    </tr>\n",
       "    <tr>\n",
       "      <th>Trindade</th>\n",
       "      <td>1</td>\n",
       "    </tr>\n",
       "    <tr>\n",
       "      <th>Trombas</th>\n",
       "      <td>1</td>\n",
       "    </tr>\n",
       "    <tr>\n",
       "      <th>Uruana</th>\n",
       "      <td>1</td>\n",
       "    </tr>\n",
       "    <tr>\n",
       "      <th>Uruaçu</th>\n",
       "      <td>1</td>\n",
       "    </tr>\n",
       "  </tbody>\n",
       "</table>\n",
       "<p>65 rows × 1 columns</p>\n",
       "</div>"
      ],
      "text/plain": [
       "col_0                 count\n",
       "MUNICIPIO                  \n",
       "Adelândia                 3\n",
       "Alexânia                  2\n",
       "Anicuns                   3\n",
       "Anápolis                  4\n",
       "Aparecida de Goiânia     15\n",
       "...                     ...\n",
       "Terezópolis de Goiás      1\n",
       "Trindade                  1\n",
       "Trombas                   1\n",
       "Uruana                    1\n",
       "Uruaçu                    1\n",
       "\n",
       "[65 rows x 1 columns]"
      ]
     },
     "execution_count": 68,
     "metadata": {},
     "output_type": "execute_result"
    }
   ],
   "source": [
    "tab = pd.crosstab(index=df_noise['MUNICIPIO'], columns='count')\n",
    "\n",
    "tab"
   ]
  },
  {
   "cell_type": "markdown",
   "id": "9b071948",
   "metadata": {},
   "source": [
    "#### Carregando a base de Taxa de risco"
   ]
  },
  {
   "cell_type": "code",
   "execution_count": 41,
   "id": "8ed0ea27",
   "metadata": {},
   "outputs": [],
   "source": [
    "df_tr = pd.read_excel('Base_TR\\BRASIL_TR_2020_21_ajustada_escola.xlsx')  "
   ]
  },
  {
   "cell_type": "code",
   "execution_count": 42,
   "id": "e6fb03f7",
   "metadata": {},
   "outputs": [],
   "source": [
    "df_tr_5 = df_tr.loc[df_tr['TAXA_RISCO_ENT'] >= 5]"
   ]
  },
  {
   "cell_type": "code",
   "execution_count": 43,
   "id": "5a2eda83",
   "metadata": {},
   "outputs": [
    {
     "data": {
      "text/plain": [
       "(126, 7)"
      ]
     },
     "execution_count": 43,
     "metadata": {},
     "output_type": "execute_result"
    }
   ],
   "source": [
    "df_tr_5.shape"
   ]
  },
  {
   "cell_type": "markdown",
   "id": "853a1e7b",
   "metadata": {},
   "source": [
    "#### Convergindo Taxa de Risco com outliers DBSCAN:"
   ]
  },
  {
   "cell_type": "code",
   "execution_count": 44,
   "id": "4ef29925",
   "metadata": {},
   "outputs": [],
   "source": [
    "validacao = df_noise.merge(df_tr_5, on='CO_ENTIDADE')"
   ]
  },
  {
   "cell_type": "code",
   "execution_count": 45,
   "id": "600a26ee",
   "metadata": {},
   "outputs": [
    {
     "name": "stdout",
     "output_type": "stream",
     "text": [
      "Ocorrências similares na base Isolation Forest e Taxa de risco: 8\n"
     ]
    }
   ],
   "source": [
    "print(\"Ocorrências similares na base Isolation Forest e Taxa de risco:\", validacao.shape[0])"
   ]
  },
  {
   "cell_type": "code",
   "execution_count": 46,
   "id": "dd89e794",
   "metadata": {},
   "outputs": [
    {
     "data": {
      "text/plain": [
       "['CO_UF',\n",
       " 'UF_x',\n",
       " 'SIG_UF',\n",
       " 'CO_MUNICIPIO_x',\n",
       " 'MUNICIPIO',\n",
       " 'CO_MESORREGIAO',\n",
       " 'CO_MICRORREGIAO',\n",
       " 'CO_ENTIDADE',\n",
       " 'NOME_ENTIDADE_x',\n",
       " 'POPULACAO_ESTIMADA',\n",
       " 'N_MATRICULA_MUN_19',\n",
       " 'N_MATRICULA_ENT_19',\n",
       " 'N_MATRICULA_INTEGRAL_ENT_19',\n",
       " 'N_MATRICULA_MUN_20',\n",
       " 'N_MATRICULA_ENT_20',\n",
       " 'N_MATRICULA_INTEGRAL_ENT_20',\n",
       " 'SCORE_MAT_MUN_20_19',\n",
       " 'SCORE_MAT_ENT_20_19',\n",
       " 'SCORE_MAT_INTEGRAL_ENT_20_19',\n",
       " 'DBSCAN_NOR',\n",
       " 'CODIGO_UF',\n",
       " 'UF_y',\n",
       " 'CO_MUNICIPIO_y',\n",
       " 'NOME_MUNICIPIO',\n",
       " 'NOME_ENTIDADE_y',\n",
       " 'TAXA_RISCO_ENT']"
      ]
     },
     "execution_count": 46,
     "metadata": {},
     "output_type": "execute_result"
    }
   ],
   "source": [
    "validacao.columns.tolist()"
   ]
  },
  {
   "cell_type": "code",
   "execution_count": 47,
   "id": "c209fe80",
   "metadata": {},
   "outputs": [],
   "source": [
    "validacao_ordenada = validacao[[\n",
    "    \n",
    " 'MUNICIPIO',\n",
    "    \n",
    " 'POPULACAO_ESTIMADA',\n",
    "    \n",
    " 'N_MATRICULA_MUN_19',\n",
    "    \n",
    " 'N_MATRICULA_MUN_20',\n",
    "    \n",
    " 'SCORE_MAT_MUN_20_19',\n",
    "\n",
    " 'CO_ENTIDADE',\n",
    "    \n",
    " 'NOME_ENTIDADE_x',\n",
    "    \n",
    " 'N_MATRICULA_ENT_19',\n",
    "    \n",
    " 'N_MATRICULA_ENT_20',\n",
    "    \n",
    " 'SCORE_MAT_ENT_20_19',\n",
    "    \n",
    " 'N_MATRICULA_INTEGRAL_ENT_19',\n",
    "    \n",
    " 'N_MATRICULA_INTEGRAL_ENT_20',\n",
    "    \n",
    " 'SCORE_MAT_INTEGRAL_ENT_20_19',\n",
    "    \n",
    " 'DBSCAN_NOR',\n",
    " \n",
    " 'TAXA_RISCO_ENT']]"
   ]
  },
  {
   "cell_type": "code",
   "execution_count": 48,
   "id": "70ec3356",
   "metadata": {},
   "outputs": [
    {
     "data": {
      "text/html": [
       "<div>\n",
       "<style scoped>\n",
       "    .dataframe tbody tr th:only-of-type {\n",
       "        vertical-align: middle;\n",
       "    }\n",
       "\n",
       "    .dataframe tbody tr th {\n",
       "        vertical-align: top;\n",
       "    }\n",
       "\n",
       "    .dataframe thead th {\n",
       "        text-align: right;\n",
       "    }\n",
       "</style>\n",
       "<table border=\"1\" class=\"dataframe\">\n",
       "  <thead>\n",
       "    <tr style=\"text-align: right;\">\n",
       "      <th></th>\n",
       "      <th>MUNICIPIO</th>\n",
       "      <th>POPULACAO_ESTIMADA</th>\n",
       "      <th>N_MATRICULA_MUN_19</th>\n",
       "      <th>N_MATRICULA_MUN_20</th>\n",
       "      <th>SCORE_MAT_MUN_20_19</th>\n",
       "      <th>CO_ENTIDADE</th>\n",
       "      <th>NOME_ENTIDADE_x</th>\n",
       "      <th>N_MATRICULA_ENT_19</th>\n",
       "      <th>N_MATRICULA_ENT_20</th>\n",
       "      <th>SCORE_MAT_ENT_20_19</th>\n",
       "      <th>N_MATRICULA_INTEGRAL_ENT_19</th>\n",
       "      <th>N_MATRICULA_INTEGRAL_ENT_20</th>\n",
       "      <th>SCORE_MAT_INTEGRAL_ENT_20_19</th>\n",
       "      <th>DBSCAN_NOR</th>\n",
       "      <th>TAXA_RISCO_ENT</th>\n",
       "    </tr>\n",
       "  </thead>\n",
       "  <tbody>\n",
       "    <tr>\n",
       "      <th>0</th>\n",
       "      <td>Cavalcante</td>\n",
       "      <td>9709</td>\n",
       "      <td>2620</td>\n",
       "      <td>2325</td>\n",
       "      <td>0.887405</td>\n",
       "      <td>52014428</td>\n",
       "      <td>ESC MUL DONA JOANA PEREIRA DAS VIRGENS</td>\n",
       "      <td>6</td>\n",
       "      <td>10</td>\n",
       "      <td>1.666667</td>\n",
       "      <td>0.0</td>\n",
       "      <td>0.0</td>\n",
       "      <td>0.0</td>\n",
       "      <td>-1</td>\n",
       "      <td>5</td>\n",
       "    </tr>\n",
       "    <tr>\n",
       "      <th>1</th>\n",
       "      <td>Novo Gama</td>\n",
       "      <td>115711</td>\n",
       "      <td>20192</td>\n",
       "      <td>19788</td>\n",
       "      <td>0.979992</td>\n",
       "      <td>52047172</td>\n",
       "      <td>CAIC NOVO GAMA</td>\n",
       "      <td>176</td>\n",
       "      <td>445</td>\n",
       "      <td>2.528409</td>\n",
       "      <td>0.0</td>\n",
       "      <td>0.0</td>\n",
       "      <td>0.0</td>\n",
       "      <td>-1</td>\n",
       "      <td>9</td>\n",
       "    </tr>\n",
       "    <tr>\n",
       "      <th>2</th>\n",
       "      <td>Campos Verdes</td>\n",
       "      <td>2141</td>\n",
       "      <td>929</td>\n",
       "      <td>939</td>\n",
       "      <td>1.010764</td>\n",
       "      <td>52006638</td>\n",
       "      <td>COLEGIO ESTADUAL EDMUNDO ROCHA</td>\n",
       "      <td>204</td>\n",
       "      <td>492</td>\n",
       "      <td>2.411765</td>\n",
       "      <td>0.0</td>\n",
       "      <td>0.0</td>\n",
       "      <td>0.0</td>\n",
       "      <td>-1</td>\n",
       "      <td>5</td>\n",
       "    </tr>\n",
       "  </tbody>\n",
       "</table>\n",
       "</div>"
      ],
      "text/plain": [
       "       MUNICIPIO  POPULACAO_ESTIMADA  N_MATRICULA_MUN_19  N_MATRICULA_MUN_20  \\\n",
       "0     Cavalcante                9709                2620                2325   \n",
       "1      Novo Gama              115711               20192               19788   \n",
       "2  Campos Verdes                2141                 929                 939   \n",
       "\n",
       "   SCORE_MAT_MUN_20_19  CO_ENTIDADE                         NOME_ENTIDADE_x  \\\n",
       "0             0.887405     52014428  ESC MUL DONA JOANA PEREIRA DAS VIRGENS   \n",
       "1             0.979992     52047172                          CAIC NOVO GAMA   \n",
       "2             1.010764     52006638          COLEGIO ESTADUAL EDMUNDO ROCHA   \n",
       "\n",
       "   N_MATRICULA_ENT_19  N_MATRICULA_ENT_20  SCORE_MAT_ENT_20_19  \\\n",
       "0                   6                  10             1.666667   \n",
       "1                 176                 445             2.528409   \n",
       "2                 204                 492             2.411765   \n",
       "\n",
       "   N_MATRICULA_INTEGRAL_ENT_19  N_MATRICULA_INTEGRAL_ENT_20  \\\n",
       "0                          0.0                          0.0   \n",
       "1                          0.0                          0.0   \n",
       "2                          0.0                          0.0   \n",
       "\n",
       "   SCORE_MAT_INTEGRAL_ENT_20_19  DBSCAN_NOR  TAXA_RISCO_ENT  \n",
       "0                           0.0          -1               5  \n",
       "1                           0.0          -1               9  \n",
       "2                           0.0          -1               5  "
      ]
     },
     "execution_count": 48,
     "metadata": {},
     "output_type": "execute_result"
    }
   ],
   "source": [
    "validacao_ordenada.head(3)"
   ]
  },
  {
   "cell_type": "code",
   "execution_count": 49,
   "id": "686fdba0",
   "metadata": {},
   "outputs": [
    {
     "data": {
      "text/plain": [
       "MUNICIPIO                        object\n",
       "POPULACAO_ESTIMADA                int64\n",
       "N_MATRICULA_MUN_19                int64\n",
       "N_MATRICULA_MUN_20                int64\n",
       "SCORE_MAT_MUN_20_19             float64\n",
       "CO_ENTIDADE                       int64\n",
       "NOME_ENTIDADE_x                  object\n",
       "N_MATRICULA_ENT_19                int64\n",
       "N_MATRICULA_ENT_20                int64\n",
       "SCORE_MAT_ENT_20_19             float64\n",
       "N_MATRICULA_INTEGRAL_ENT_19     float64\n",
       "N_MATRICULA_INTEGRAL_ENT_20     float64\n",
       "SCORE_MAT_INTEGRAL_ENT_20_19    float64\n",
       "DBSCAN_NOR                        int64\n",
       "TAXA_RISCO_ENT                    int64\n",
       "dtype: object"
      ]
     },
     "execution_count": 49,
     "metadata": {},
     "output_type": "execute_result"
    }
   ],
   "source": [
    "validacao_ordenada.dtypes"
   ]
  },
  {
   "cell_type": "code",
   "execution_count": 50,
   "id": "14042a8b",
   "metadata": {},
   "outputs": [],
   "source": [
    "validacao_ordenada = validacao_ordenada.astype({'N_MATRICULA_INTEGRAL_ENT_19': 'int64', 'N_MATRICULA_INTEGRAL_ENT_20':'int64'})"
   ]
  },
  {
   "cell_type": "code",
   "execution_count": 51,
   "id": "e8801705",
   "metadata": {},
   "outputs": [
    {
     "data": {
      "text/plain": [
       "MUNICIPIO                        object\n",
       "POPULACAO_ESTIMADA                int64\n",
       "N_MATRICULA_MUN_19                int64\n",
       "N_MATRICULA_MUN_20                int64\n",
       "SCORE_MAT_MUN_20_19             float64\n",
       "CO_ENTIDADE                       int64\n",
       "NOME_ENTIDADE_x                  object\n",
       "N_MATRICULA_ENT_19                int64\n",
       "N_MATRICULA_ENT_20                int64\n",
       "SCORE_MAT_ENT_20_19             float64\n",
       "N_MATRICULA_INTEGRAL_ENT_19       int64\n",
       "N_MATRICULA_INTEGRAL_ENT_20       int64\n",
       "SCORE_MAT_INTEGRAL_ENT_20_19    float64\n",
       "DBSCAN_NOR                        int64\n",
       "TAXA_RISCO_ENT                    int64\n",
       "dtype: object"
      ]
     },
     "execution_count": 51,
     "metadata": {},
     "output_type": "execute_result"
    }
   ],
   "source": [
    "validacao_ordenada.dtypes"
   ]
  },
  {
   "cell_type": "code",
   "execution_count": 52,
   "id": "f94e0f9e",
   "metadata": {},
   "outputs": [
    {
     "data": {
      "text/html": [
       "<div>\n",
       "<style scoped>\n",
       "    .dataframe tbody tr th:only-of-type {\n",
       "        vertical-align: middle;\n",
       "    }\n",
       "\n",
       "    .dataframe tbody tr th {\n",
       "        vertical-align: top;\n",
       "    }\n",
       "\n",
       "    .dataframe thead th {\n",
       "        text-align: right;\n",
       "    }\n",
       "</style>\n",
       "<table border=\"1\" class=\"dataframe\">\n",
       "  <thead>\n",
       "    <tr style=\"text-align: right;\">\n",
       "      <th></th>\n",
       "      <th>MUNICIPIO</th>\n",
       "      <th>POPULACAO_ESTIMADA</th>\n",
       "      <th>N_MATRICULA_MUN_19</th>\n",
       "      <th>N_MATRICULA_MUN_20</th>\n",
       "      <th>SCORE_MAT_MUN_20_19</th>\n",
       "      <th>CO_ENTIDADE</th>\n",
       "      <th>NOME_ENTIDADE_x</th>\n",
       "      <th>N_MATRICULA_ENT_19</th>\n",
       "      <th>N_MATRICULA_ENT_20</th>\n",
       "      <th>SCORE_MAT_ENT_20_19</th>\n",
       "      <th>N_MATRICULA_INTEGRAL_ENT_19</th>\n",
       "      <th>N_MATRICULA_INTEGRAL_ENT_20</th>\n",
       "      <th>SCORE_MAT_INTEGRAL_ENT_20_19</th>\n",
       "      <th>DBSCAN_NOR</th>\n",
       "      <th>TAXA_RISCO_ENT</th>\n",
       "    </tr>\n",
       "  </thead>\n",
       "  <tbody>\n",
       "    <tr>\n",
       "      <th>0</th>\n",
       "      <td>Cavalcante</td>\n",
       "      <td>9709</td>\n",
       "      <td>2620</td>\n",
       "      <td>2325</td>\n",
       "      <td>0.887405</td>\n",
       "      <td>52014428</td>\n",
       "      <td>ESC MUL DONA JOANA PEREIRA DAS VIRGENS</td>\n",
       "      <td>6</td>\n",
       "      <td>10</td>\n",
       "      <td>1.666667</td>\n",
       "      <td>0</td>\n",
       "      <td>0</td>\n",
       "      <td>0.0</td>\n",
       "      <td>-1</td>\n",
       "      <td>5</td>\n",
       "    </tr>\n",
       "    <tr>\n",
       "      <th>1</th>\n",
       "      <td>Novo Gama</td>\n",
       "      <td>115711</td>\n",
       "      <td>20192</td>\n",
       "      <td>19788</td>\n",
       "      <td>0.979992</td>\n",
       "      <td>52047172</td>\n",
       "      <td>CAIC NOVO GAMA</td>\n",
       "      <td>176</td>\n",
       "      <td>445</td>\n",
       "      <td>2.528409</td>\n",
       "      <td>0</td>\n",
       "      <td>0</td>\n",
       "      <td>0.0</td>\n",
       "      <td>-1</td>\n",
       "      <td>9</td>\n",
       "    </tr>\n",
       "    <tr>\n",
       "      <th>2</th>\n",
       "      <td>Campos Verdes</td>\n",
       "      <td>2141</td>\n",
       "      <td>929</td>\n",
       "      <td>939</td>\n",
       "      <td>1.010764</td>\n",
       "      <td>52006638</td>\n",
       "      <td>COLEGIO ESTADUAL EDMUNDO ROCHA</td>\n",
       "      <td>204</td>\n",
       "      <td>492</td>\n",
       "      <td>2.411765</td>\n",
       "      <td>0</td>\n",
       "      <td>0</td>\n",
       "      <td>0.0</td>\n",
       "      <td>-1</td>\n",
       "      <td>5</td>\n",
       "    </tr>\n",
       "  </tbody>\n",
       "</table>\n",
       "</div>"
      ],
      "text/plain": [
       "       MUNICIPIO  POPULACAO_ESTIMADA  N_MATRICULA_MUN_19  N_MATRICULA_MUN_20  \\\n",
       "0     Cavalcante                9709                2620                2325   \n",
       "1      Novo Gama              115711               20192               19788   \n",
       "2  Campos Verdes                2141                 929                 939   \n",
       "\n",
       "   SCORE_MAT_MUN_20_19  CO_ENTIDADE                         NOME_ENTIDADE_x  \\\n",
       "0             0.887405     52014428  ESC MUL DONA JOANA PEREIRA DAS VIRGENS   \n",
       "1             0.979992     52047172                          CAIC NOVO GAMA   \n",
       "2             1.010764     52006638          COLEGIO ESTADUAL EDMUNDO ROCHA   \n",
       "\n",
       "   N_MATRICULA_ENT_19  N_MATRICULA_ENT_20  SCORE_MAT_ENT_20_19  \\\n",
       "0                   6                  10             1.666667   \n",
       "1                 176                 445             2.528409   \n",
       "2                 204                 492             2.411765   \n",
       "\n",
       "   N_MATRICULA_INTEGRAL_ENT_19  N_MATRICULA_INTEGRAL_ENT_20  \\\n",
       "0                            0                            0   \n",
       "1                            0                            0   \n",
       "2                            0                            0   \n",
       "\n",
       "   SCORE_MAT_INTEGRAL_ENT_20_19  DBSCAN_NOR  TAXA_RISCO_ENT  \n",
       "0                           0.0          -1               5  \n",
       "1                           0.0          -1               9  \n",
       "2                           0.0          -1               5  "
      ]
     },
     "execution_count": 52,
     "metadata": {},
     "output_type": "execute_result"
    }
   ],
   "source": [
    "validacao_ordenada.head(3)"
   ]
  },
  {
   "cell_type": "code",
   "execution_count": 69,
   "id": "1852a1f5",
   "metadata": {},
   "outputs": [],
   "source": [
    "validacao_ordenada.to_excel('resultado_DBSCAN.xlsx')"
   ]
  },
  {
   "cell_type": "code",
   "execution_count": null,
   "id": "38524e71",
   "metadata": {},
   "outputs": [],
   "source": []
  }
 ],
 "metadata": {
  "kernelspec": {
   "display_name": "Python 3",
   "language": "python",
   "name": "python3"
  },
  "language_info": {
   "codemirror_mode": {
    "name": "ipython",
    "version": 3
   },
   "file_extension": ".py",
   "mimetype": "text/x-python",
   "name": "python",
   "nbconvert_exporter": "python",
   "pygments_lexer": "ipython3",
   "version": "3.8.8"
  }
 },
 "nbformat": 4,
 "nbformat_minor": 5
}
